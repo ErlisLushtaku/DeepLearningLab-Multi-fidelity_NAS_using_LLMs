{
 "cells": [
  {
   "cell_type": "markdown",
   "source": [
    "Imports"
   ],
   "metadata": {
    "collapsed": false
   }
  },
  {
   "cell_type": "code",
   "metadata": {
    "collapsed": true
   },
   "source": [
    "from nb201 import NB201Benchmark\n",
    "import numpy as np\n",
    "from warmstart.utils_templates import FullTemplate\n",
    "import ConfigSpace as CS\n",
    "from ConfigSpace import Configuration\n",
    "import ollama\n",
    "import torchvision\n",
    "import ast\n",
    "from llambo.llambo import LLAMBO\n",
    "from utils import convert_LLAMBO_df_to_synetune_dict\n",
    "from utils import convert_synetune_dict_to_LLAMBO_df\n",
    "import openai\n",
    "from openai import OpenAI\n",
    "\n",
    "from syne_tune.experiments.benchmark_definitions.nas201 import nas201_benchmark\n",
    "from syne_tune.blackbox_repository import BlackboxRepositoryBackend\n",
    "from syne_tune.backend.simulator_backend.simulator_callback import SimulatorCallback\n",
    "from syne_tune import Tuner, StoppingCriterion\n",
    "\n",
    "from typing import Optional, Dict, Any, List, Union\n",
    "import logging\n",
    "from syne_tune.optimizer.schedulers import FIFOScheduler\n",
    "from syne_tune.optimizer.schedulers.searchers import StochasticAndFilterDuplicatesSearcher\n"
   ],
   "outputs": [],
   "execution_count": null
  },
  {
   "cell_type": "markdown",
   "source": [
    "Load NB201 Benchmark"
   ],
   "metadata": {
    "collapsed": false
   }
  },
  {
   "cell_type": "code",
   "source": [
    "b = NB201Benchmark(path=\"./nb201.pkl\", dataset='cifar10')\n",
    "cs = b.get_configuration_space()\n",
    "config = cs.sample_configuration()  # samples a configuration uniformly at random\n",
    "\n",
    "print(cs)\n",
    "print(\"Numpy representation: \", config.get_array())\n",
    "print(\"Dict representation: \", config.get_dictionary())\n",
    "\n",
    "#configuration from a dict\n",
    "new_config = Configuration(cs, values=config.get_dictionary())\n",
    "print(new_config)\n",
    "\n",
    "y, cost = b.objective_function(config)\n",
    "print(\"Test error: %f %%\" % y)\n",
    "print(\"Runtime %f s\" % cost)"
   ],
   "metadata": {
    "collapsed": false
   },
   "outputs": [],
   "execution_count": null
  },
  {
   "cell_type": "markdown",
   "source": [
    "Arguments for LLAMBO"
   ],
   "metadata": {
    "collapsed": false
   }
  },
  {
   "cell_type": "code",
   "source": [
    "task_context = {\n",
    "    'model': 'CNN',\n",
    "    'task': 'classification',\n",
    "    'tot_feats': 32 * 32 * 3,\n",
    "    'cat_feats': 0,\n",
    "    'num_feat': 32 * 32 * 3,\n",
    "    'n_classes': 10,\n",
    "    'metric': 'loss',\n",
    "    'lower_is_better': True,\n",
    "    'num_samples': 50000,\n",
    "    'hyperparameter_constraints': {\n",
    "        'op_0_to_1': ['categorical', None, [\"none\", \"skip_connect\", \"avg_pool_3x3\", \"nor_conv_1x1\", \"nor_conv_3x3\"]],\n",
    "        # [type, transform, [min_value, max_value]]\n",
    "        'op_0_to_2': ['categorical', None, [\"none\", \"skip_connect\", \"avg_pool_3x3\", \"nor_conv_1x1\", \"nor_conv_3x3\"]],\n",
    "        'op_0_to_3': ['categorical', None, [\"none\", \"skip_connect\", \"avg_pool_3x3\", \"nor_conv_1x1\", \"nor_conv_3x3\"]],\n",
    "        'op_1_to_2': ['categorical', None, [\"none\", \"skip_connect\", \"avg_pool_3x3\", \"nor_conv_1x1\", \"nor_conv_3x3\"]],\n",
    "        'op_1_to_3': ['categorical', None, [\"none\", \"skip_connect\", \"avg_pool_3x3\", \"nor_conv_1x1\", \"nor_conv_3x3\"]],\n",
    "        'op_2_to_3': ['categorical', None, [\"none\", \"skip_connect\", \"avg_pool_3x3\", \"nor_conv_1x1\", \"nor_conv_3x3\"]]\n",
    "    }\n",
    "}\n",
    "\n",
    "\n",
    "def eval_point(config):\n",
    "    new_config = Configuration(b.get_configuration_space(), values=config)\n",
    "    res = b.objective_function(new_config)\n",
    "    res_dict = {\n",
    "        \"score\": res[0],\n",
    "        \"train_time\": res[1]\n",
    "    }\n",
    "    return config, res_dict"
   ],
   "metadata": {
    "collapsed": false
   },
   "outputs": [],
   "execution_count": null
  },
  {
   "cell_type": "markdown",
   "source": [
    "Ollama"
   ],
   "metadata": {
    "collapsed": false
   }
  },
  {
   "cell_type": "code",
   "source": [
    "# chat_engine = \"llama3\"\n",
    "# model = ollama.pull(chat_engine)\n",
    "# response = ollama.chat(model=\"llama3\", messages=[{'role': 'user', 'content': 'Why is the sky blue?'}])\n",
    "# print(response)\n",
    "# ollama.list()"
   ],
   "metadata": {
    "collapsed": false
   },
   "outputs": [],
   "execution_count": null
  },
  {
   "cell_type": "code",
   "source": [
    "trainset = torchvision.datasets.CIFAR10(root='./data', train=True,\n",
    "                                        download=True)\n",
    "\n",
    "\n",
    "def fetch_statistics(dict, dataset):\n",
    "    images = dataset.data\n",
    "    labels = dataset.targets\n",
    "\n",
    "    images_np = np.array(images)\n",
    "    labels_np = np.array(labels)\n",
    "\n",
    "    pixel_mean = np.mean(images_np / 255.)\n",
    "    pixel_std = np.std(images_np / 255.)\n",
    "\n",
    "    class_counts = np.bincount(labels_np)\n",
    "    class_distribution = class_counts / len(labels_np)\n",
    "\n",
    "    dict['pixel_mean'] = pixel_mean\n",
    "    dict['pixel_std'] = pixel_std\n",
    "    dict['class_distribution'] = class_distribution.tolist()\n",
    "\n",
    "    return dict\n",
    "\n",
    "\n",
    "task_context = fetch_statistics(task_context, trainset)"
   ],
   "metadata": {
    "collapsed": false
   },
   "outputs": [],
   "execution_count": null
  },
  {
   "cell_type": "markdown",
   "source": [
    "Warmstart"
   ],
   "metadata": {
    "collapsed": false,
    "ExecuteTime": {
     "end_time": "2024-07-16T21:50:50.906679200Z",
     "start_time": "2024-07-16T21:50:50.879733200Z"
    }
   },
   "outputs": [
    {
     "name": "stdout",
     "output_type": "stream",
     "text": [
      "======================================================================================================================================================\n",
      "[Search settings]: \n",
      "\tn_candidates: 10, n_templates: 2, n_gens: 10, \n",
      "\talpha: 0.1, n_initial_samples: 5, n_trials: 4, \n",
      "\tusing warping: False, ablation: None, shuffle_features: False\n",
      "[Task]: \n",
      "\ttask type: classification, sm: discriminative, lower is better: True\n",
      "Hyperparameter search space: \n",
      "{'op_0_to_1': ['categorical',\n",
      "               None,\n",
      "               ['none',\n",
      "                'skip_connect',\n",
      "                'avg_pool_3x3',\n",
      "                'nor_conv_1x1',\n",
      "                'nor_conv_3x3']],\n",
      " 'op_0_to_2': ['categorical',\n",
      "               None,\n",
      "               ['none',\n",
      "                'skip_connect',\n",
      "                'avg_pool_3x3',\n",
      "                'nor_conv_1x1',\n",
      "                'nor_conv_3x3']],\n",
      " 'op_0_to_3': ['categorical',\n",
      "               None,\n",
      "               ['none',\n",
      "                'skip_connect',\n",
      "                'avg_pool_3x3',\n",
      "                'nor_conv_1x1',\n",
      "                'nor_conv_3x3']],\n",
      " 'op_1_to_2': ['categorical',\n",
      "               None,\n",
      "               ['none',\n",
      "                'skip_connect',\n",
      "                'avg_pool_3x3',\n",
      "                'nor_conv_1x1',\n",
      "                'nor_conv_3x3']],\n",
      " 'op_1_to_3': ['categorical',\n",
      "               None,\n",
      "               ['none',\n",
      "                'skip_connect',\n",
      "                'avg_pool_3x3',\n",
      "                'nor_conv_1x1',\n",
      "                'nor_conv_3x3']],\n",
      " 'op_2_to_3': ['categorical',\n",
      "               None,\n",
      "               ['none',\n",
      "                'skip_connect',\n",
      "                'avg_pool_3x3',\n",
      "                'nor_conv_1x1',\n",
      "                'nor_conv_3x3']]}\n",
      "======================================================================================================================================================\n"
     ]
    }
   ],
   "execution_count": 7
  },
  {
   "cell_type": "code",
   "source": [
    "context = \"No_Context\"\n",
    "\n",
    "\n",
    "def extract_configs_from_response(response):\n",
    "    content = response.choices[0].message.content\n",
    "    start = content.find(\"[\")\n",
    "    end = content.rfind(\"]\") + 1\n",
    "    list_str = content[start:end]\n",
    "    configurations = ast.literal_eval(list_str)\n",
    "    return configurations\n",
    "\n",
    "\n",
    "def is_dict_valid_in_config_space(d, config_space):\n",
    "    try:\n",
    "        # Attempt to create a Configuration object with the given dictionary and config space\n",
    "        config = CS.Configuration(config_space, values=d)\n",
    "        return True\n",
    "    except:\n",
    "        # Return False if the dictionary is not valid\n",
    "        return False\n",
    "    # Function to check if all dictionaries in a list are valid in the given configuration space\n",
    "\n",
    "\n",
    "def check_all_list(parsed_dicts, config_space):\n",
    "    for idx, d in enumerate(parsed_dicts):\n",
    "        if not is_dict_valid_in_config_space(d, config_space):\n",
    "            return False\n",
    "    return True\n",
    "\n",
    "\n",
    "def obtain_all_list_valid(resp, config_space):\n",
    "    if check_all_list(resp, config_space):\n",
    "        return resp\n",
    "    print(\"fail\")\n",
    "\n",
    "\n",
    "def generate_init_conf(n_samples, client):\n",
    "    template_object = FullTemplate(context=context, provide_ranges=True)\n",
    "    user_message = template_object.add_context(config_space=cs, num_recommendation=n_samples, task_dict=task_context)\n",
    "    messages = []\n",
    "    messages.append({\"role\": \"system\", \"content\": \"You are an AI assistant that helps people find information.\"})\n",
    "    messages.append({\"role\": \"user\", \"content\": user_message})\n",
    "\n",
    "    response = client.chat.completions.create(\n",
    "        model=\"gpt-4o-mini\",\n",
    "        messages=messages,\n",
    "        temperature=0.7,\n",
    "        max_tokens=4000,\n",
    "        top_p=0.95,\n",
    "        n=max(5, 3),  # e.g. for 5 templates, get 2 generations per template\n",
    "        timeout=100\n",
    "    )\n",
    "    configs = extract_configs_from_response(response)\n",
    "    return obtain_all_list_valid(configs, cs)\n",
    "\n",
    "#print(generate_init_conf(3))"
   ],
   "metadata": {
    "collapsed": false
   },
   "outputs": [],
   "execution_count": null
  },
  {
   "cell_type": "markdown",
   "source": [
    "Llambo"
   ],
   "metadata": {
    "collapsed": false,
    "ExecuteTime": {
     "end_time": "2024-07-16T21:50:50.916420200Z",
     "start_time": "2024-07-16T21:50:50.906679200Z"
    }
   },
   "outputs": [],
   "execution_count": 8
  },
  {
   "cell_type": "code",
   "source": [
    "client = OpenAI(\n",
    "    organization='org-HIWwqsnxyBU3xMl6PkwdjxdN',\n",
    "    project='proj_g30ZlMFGBNu4qsUctIhNI5B3',\n",
    "    api_key='sk-proj-cTiFSkfqsowfmg6FId0iT3BlbkFJfDi43ms9k13R9bKElYE1'\n",
    ")\n",
    "\n",
    "llambo = LLAMBO(task_context, sm_mode='discriminative', n_candidates=10, n_templates=2, n_gens=10,\n",
    "                alpha=0.1, n_initial_samples=5, n_trials=4,\n",
    "                init_f=generate_init_conf,\n",
    "                bbox_eval_f=eval_point,\n",
    "                chat_engine=\"gpt-4o-mini\",\n",
    "                client=client)\n",
    "llambo.seed = 0\n",
    "\n",
    "# run optimization\n",
    "#configs, fvals = llambo.optimize(test_metric=\"score\")"
   ],
   "metadata": {
    "collapsed": false
   },
   "outputs": [],
   "execution_count": null
  },
  {
   "cell_type": "markdown",
   "source": [
    "Searcher"
   ],
   "metadata": {
    "collapsed": false,
    "ExecuteTime": {
     "end_time": "2024-07-16T21:49:55.022268800Z",
     "start_time": "2024-07-16T21:49:53.636741500Z"
    }
   },
   "outputs": [
    {
     "ename": "AttributeError",
     "evalue": "'tuple' object has no attribute 'items'",
     "output_type": "error",
     "traceback": [
      "\u001B[1;31m---------------------------------------------------------------------------\u001B[0m",
      "\u001B[1;31mAttributeError\u001B[0m                            Traceback (most recent call last)",
      "Cell \u001B[1;32mIn[9], line 30\u001B[0m\n\u001B[0;32m     19\u001B[0m blackbox \u001B[38;5;241m=\u001B[39m trial_backend\u001B[38;5;241m.\u001B[39mblackbox\n\u001B[0;32m     20\u001B[0m nas_configuration_space \u001B[38;5;241m=\u001B[39m blackbox\u001B[38;5;241m.\u001B[39mconfiguration_space_with_max_resource_attr(\n\u001B[0;32m     21\u001B[0m     max_resource_attr\n\u001B[0;32m     22\u001B[0m ),\n\u001B[0;32m     24\u001B[0m scheduler \u001B[38;5;241m=\u001B[39m FIFOScheduler(\n\u001B[0;32m     25\u001B[0m     config_space\u001B[38;5;241m=\u001B[39mnas_configuration_space,\n\u001B[0;32m     26\u001B[0m     max_resource_attr\u001B[38;5;241m=\u001B[39mmax_resource_attr,\n\u001B[0;32m     27\u001B[0m     mode\u001B[38;5;241m=\u001B[39mbenchmark\u001B[38;5;241m.\u001B[39mmode,\n\u001B[0;32m     28\u001B[0m     metric\u001B[38;5;241m=\u001B[39mbenchmark\u001B[38;5;241m.\u001B[39mmetric,\n\u001B[0;32m     29\u001B[0m     random_seed\u001B[38;5;241m=\u001B[39mrandom_seed,\n\u001B[1;32m---> 30\u001B[0m     searcher\u001B[38;5;241m=\u001B[39m\u001B[43mTestSearcher\u001B[49m\u001B[43m(\u001B[49m\u001B[43mconfig_space\u001B[49m\u001B[38;5;241;43m=\u001B[39;49m\u001B[43mnas_configuration_space\u001B[49m\u001B[43m,\u001B[49m\u001B[43m \u001B[49m\u001B[43mmetric\u001B[49m\u001B[38;5;241;43m=\u001B[39;49m\u001B[43mbenchmark\u001B[49m\u001B[38;5;241;43m.\u001B[39;49m\u001B[43mmetric\u001B[49m\u001B[43m)\u001B[49m\n\u001B[0;32m     31\u001B[0m )\n\u001B[0;32m     33\u001B[0m max_num_trials_started \u001B[38;5;241m=\u001B[39m \u001B[38;5;241m256\u001B[39m\n\u001B[0;32m     34\u001B[0m stop_criterion \u001B[38;5;241m=\u001B[39m StoppingCriterion(max_num_trials_started\u001B[38;5;241m=\u001B[39mmax_num_trials_started)\n",
      "Cell \u001B[1;32mIn[8], line 15\u001B[0m, in \u001B[0;36mTestSearcher.__init__\u001B[1;34m(self, config_space, metric, points_to_evaluate, **kwargs)\u001B[0m\n\u001B[0;32m      8\u001B[0m \u001B[38;5;28;01mdef\u001B[39;00m \u001B[38;5;21m__init__\u001B[39m(\n\u001B[0;32m      9\u001B[0m         \u001B[38;5;28mself\u001B[39m,\n\u001B[0;32m     10\u001B[0m         config_space: Dict[\u001B[38;5;28mstr\u001B[39m, Any],\n\u001B[1;32m   (...)\u001B[0m\n\u001B[0;32m     13\u001B[0m         \u001B[38;5;241m*\u001B[39m\u001B[38;5;241m*\u001B[39mkwargs,\n\u001B[0;32m     14\u001B[0m ):\n\u001B[1;32m---> 15\u001B[0m     \u001B[38;5;28;43msuper\u001B[39;49m\u001B[43m(\u001B[49m\u001B[43m)\u001B[49m\u001B[38;5;241;43m.\u001B[39;49m\u001B[38;5;21;43m__init__\u001B[39;49m\u001B[43m(\u001B[49m\n\u001B[0;32m     16\u001B[0m \u001B[43m        \u001B[49m\u001B[43mconfig_space\u001B[49m\u001B[43m,\u001B[49m\n\u001B[0;32m     17\u001B[0m \u001B[43m        \u001B[49m\u001B[43mmetric\u001B[49m\u001B[38;5;241;43m=\u001B[39;49m\u001B[43mmetric\u001B[49m\u001B[43m,\u001B[49m\n\u001B[0;32m     18\u001B[0m \u001B[43m        \u001B[49m\u001B[43mpoints_to_evaluate\u001B[49m\u001B[38;5;241;43m=\u001B[39;49m\u001B[43mpoints_to_evaluate\u001B[49m\u001B[43m,\u001B[49m\n\u001B[0;32m     19\u001B[0m \u001B[43m        \u001B[49m\u001B[43mmode\u001B[49m\u001B[38;5;241;43m=\u001B[39;49m\u001B[43mkwargs\u001B[49m\u001B[38;5;241;43m.\u001B[39;49m\u001B[43mget\u001B[49m\u001B[43m(\u001B[49m\u001B[38;5;124;43m\"\u001B[39;49m\u001B[38;5;124;43mmode\u001B[39;49m\u001B[38;5;124;43m\"\u001B[39;49m\u001B[43m,\u001B[49m\u001B[43m \u001B[49m\u001B[38;5;124;43m\"\u001B[39;49m\u001B[38;5;124;43mmin\u001B[39;49m\u001B[38;5;124;43m\"\u001B[39;49m\u001B[43m)\u001B[49m\u001B[43m,\u001B[49m\n\u001B[0;32m     20\u001B[0m \u001B[43m    \u001B[49m\u001B[43m)\u001B[49m\n",
      "File \u001B[1;32m~\\anaconda3\\envs\\DLLabProject\\lib\\site-packages\\syne_tune\\optimizer\\schedulers\\searchers\\searcher_base.py:217\u001B[0m, in \u001B[0;36mStochasticAndFilterDuplicatesSearcher.__init__\u001B[1;34m(self, config_space, metric, points_to_evaluate, allow_duplicates, restrict_configurations, **kwargs)\u001B[0m\n\u001B[0;32m    208\u001B[0m \u001B[38;5;28;01mdef\u001B[39;00m \u001B[38;5;21m__init__\u001B[39m(\n\u001B[0;32m    209\u001B[0m     \u001B[38;5;28mself\u001B[39m,\n\u001B[0;32m    210\u001B[0m     config_space: Dict[\u001B[38;5;28mstr\u001B[39m, Any],\n\u001B[1;32m   (...)\u001B[0m\n\u001B[0;32m    215\u001B[0m     \u001B[38;5;241m*\u001B[39m\u001B[38;5;241m*\u001B[39mkwargs,\n\u001B[0;32m    216\u001B[0m ):\n\u001B[1;32m--> 217\u001B[0m     \u001B[38;5;28;43msuper\u001B[39;49m\u001B[43m(\u001B[49m\u001B[43m)\u001B[49m\u001B[38;5;241;43m.\u001B[39;49m\u001B[38;5;21;43m__init__\u001B[39;49m\u001B[43m(\u001B[49m\n\u001B[0;32m    218\u001B[0m \u001B[43m        \u001B[49m\u001B[43mconfig_space\u001B[49m\u001B[43m,\u001B[49m\u001B[43m \u001B[49m\u001B[43mmetric\u001B[49m\u001B[38;5;241;43m=\u001B[39;49m\u001B[43mmetric\u001B[49m\u001B[43m,\u001B[49m\u001B[43m \u001B[49m\u001B[43mpoints_to_evaluate\u001B[49m\u001B[38;5;241;43m=\u001B[39;49m\u001B[43mpoints_to_evaluate\u001B[49m\u001B[43m,\u001B[49m\u001B[43m \u001B[49m\u001B[38;5;241;43m*\u001B[39;49m\u001B[38;5;241;43m*\u001B[39;49m\u001B[43mkwargs\u001B[49m\n\u001B[0;32m    219\u001B[0m \u001B[43m    \u001B[49m\u001B[43m)\u001B[49m\n\u001B[0;32m    220\u001B[0m     \u001B[38;5;28mself\u001B[39m\u001B[38;5;241m.\u001B[39m_hp_ranges \u001B[38;5;241m=\u001B[39m make_hyperparameter_ranges(config_space)\n\u001B[0;32m    221\u001B[0m     \u001B[38;5;28;01mif\u001B[39;00m allow_duplicates \u001B[38;5;129;01mis\u001B[39;00m \u001B[38;5;28;01mNone\u001B[39;00m:\n",
      "File \u001B[1;32m~\\anaconda3\\envs\\DLLabProject\\lib\\site-packages\\syne_tune\\optimizer\\schedulers\\searchers\\searcher_base.py:93\u001B[0m, in \u001B[0;36mStochasticSearcher.__init__\u001B[1;34m(self, config_space, metric, points_to_evaluate, **kwargs)\u001B[0m\n\u001B[0;32m     86\u001B[0m \u001B[38;5;28;01mdef\u001B[39;00m \u001B[38;5;21m__init__\u001B[39m(\n\u001B[0;32m     87\u001B[0m     \u001B[38;5;28mself\u001B[39m,\n\u001B[0;32m     88\u001B[0m     config_space: Dict[\u001B[38;5;28mstr\u001B[39m, Any],\n\u001B[1;32m   (...)\u001B[0m\n\u001B[0;32m     91\u001B[0m     \u001B[38;5;241m*\u001B[39m\u001B[38;5;241m*\u001B[39mkwargs,\n\u001B[0;32m     92\u001B[0m ):\n\u001B[1;32m---> 93\u001B[0m     \u001B[38;5;28;43msuper\u001B[39;49m\u001B[43m(\u001B[49m\u001B[43m)\u001B[49m\u001B[38;5;241;43m.\u001B[39;49m\u001B[38;5;21;43m__init__\u001B[39;49m\u001B[43m(\u001B[49m\n\u001B[0;32m     94\u001B[0m \u001B[43m        \u001B[49m\u001B[43mconfig_space\u001B[49m\u001B[43m,\u001B[49m\n\u001B[0;32m     95\u001B[0m \u001B[43m        \u001B[49m\u001B[43mmetric\u001B[49m\u001B[38;5;241;43m=\u001B[39;49m\u001B[43mmetric\u001B[49m\u001B[43m,\u001B[49m\n\u001B[0;32m     96\u001B[0m \u001B[43m        \u001B[49m\u001B[43mpoints_to_evaluate\u001B[49m\u001B[38;5;241;43m=\u001B[39;49m\u001B[43mpoints_to_evaluate\u001B[49m\u001B[43m,\u001B[49m\n\u001B[0;32m     97\u001B[0m \u001B[43m        \u001B[49m\u001B[43mmode\u001B[49m\u001B[38;5;241;43m=\u001B[39;49m\u001B[43mkwargs\u001B[49m\u001B[38;5;241;43m.\u001B[39;49m\u001B[43mget\u001B[49m\u001B[43m(\u001B[49m\u001B[38;5;124;43m\"\u001B[39;49m\u001B[38;5;124;43mmode\u001B[39;49m\u001B[38;5;124;43m\"\u001B[39;49m\u001B[43m,\u001B[49m\u001B[43m \u001B[49m\u001B[38;5;124;43m\"\u001B[39;49m\u001B[38;5;124;43mmin\u001B[39;49m\u001B[38;5;124;43m\"\u001B[39;49m\u001B[43m)\u001B[49m\u001B[43m,\u001B[49m\n\u001B[0;32m     98\u001B[0m \u001B[43m    \u001B[49m\u001B[43m)\u001B[49m\n\u001B[0;32m     99\u001B[0m     random_seed, _ \u001B[38;5;241m=\u001B[39m extract_random_seed(\u001B[38;5;241m*\u001B[39m\u001B[38;5;241m*\u001B[39mkwargs)\n\u001B[0;32m    100\u001B[0m     \u001B[38;5;28mself\u001B[39m\u001B[38;5;241m.\u001B[39mrandom_state \u001B[38;5;241m=\u001B[39m np\u001B[38;5;241m.\u001B[39mrandom\u001B[38;5;241m.\u001B[39mRandomState(random_seed)\n",
      "File \u001B[1;32m~\\anaconda3\\envs\\DLLabProject\\lib\\site-packages\\syne_tune\\optimizer\\schedulers\\searchers\\searcher.py:188\u001B[0m, in \u001B[0;36mBaseSearcher.__init__\u001B[1;34m(self, config_space, metric, points_to_evaluate, mode)\u001B[0m\n\u001B[0;32m    186\u001B[0m \u001B[38;5;28;01massert\u001B[39;00m metric \u001B[38;5;129;01mis\u001B[39;00m \u001B[38;5;129;01mnot\u001B[39;00m \u001B[38;5;28;01mNone\u001B[39;00m, \u001B[38;5;124m\"\u001B[39m\u001B[38;5;124mArgument \u001B[39m\u001B[38;5;124m'\u001B[39m\u001B[38;5;124mmetric\u001B[39m\u001B[38;5;124m'\u001B[39m\u001B[38;5;124m is required\u001B[39m\u001B[38;5;124m\"\u001B[39m\n\u001B[0;32m    187\u001B[0m \u001B[38;5;28mself\u001B[39m\u001B[38;5;241m.\u001B[39m_metric \u001B[38;5;241m=\u001B[39m metric\n\u001B[1;32m--> 188\u001B[0m \u001B[38;5;28mself\u001B[39m\u001B[38;5;241m.\u001B[39m_points_to_evaluate \u001B[38;5;241m=\u001B[39m \u001B[43mimpute_points_to_evaluate\u001B[49m\u001B[43m(\u001B[49m\n\u001B[0;32m    189\u001B[0m \u001B[43m    \u001B[49m\u001B[43mpoints_to_evaluate\u001B[49m\u001B[43m,\u001B[49m\u001B[43m \u001B[49m\u001B[43mconfig_space\u001B[49m\n\u001B[0;32m    190\u001B[0m \u001B[43m\u001B[49m\u001B[43m)\u001B[49m\n\u001B[0;32m    191\u001B[0m \u001B[38;5;28mself\u001B[39m\u001B[38;5;241m.\u001B[39m_check_mode(mode)\n\u001B[0;32m    192\u001B[0m \u001B[38;5;28mself\u001B[39m\u001B[38;5;241m.\u001B[39m_mode \u001B[38;5;241m=\u001B[39m mode\n",
      "File \u001B[1;32m~\\anaconda3\\envs\\DLLabProject\\lib\\site-packages\\syne_tune\\optimizer\\schedulers\\searchers\\searcher.py:140\u001B[0m, in \u001B[0;36mimpute_points_to_evaluate\u001B[1;34m(points_to_evaluate, config_space)\u001B[0m\n\u001B[0;32m    138\u001B[0m result \u001B[38;5;241m=\u001B[39m []\n\u001B[0;32m    139\u001B[0m excl_set \u001B[38;5;241m=\u001B[39m \u001B[38;5;28mset\u001B[39m()\n\u001B[1;32m--> 140\u001B[0m keys \u001B[38;5;241m=\u001B[39m \u001B[43m_sorted_keys\u001B[49m\u001B[43m(\u001B[49m\u001B[43mconfig_space\u001B[49m\u001B[43m)\u001B[49m\n\u001B[0;32m    141\u001B[0m \u001B[38;5;28;01mfor\u001B[39;00m point \u001B[38;5;129;01min\u001B[39;00m points_to_evaluate:\n\u001B[0;32m    142\u001B[0m     config \u001B[38;5;241m=\u001B[39m _impute_default_config(point, config_space)\n",
      "File \u001B[1;32m~\\anaconda3\\envs\\DLLabProject\\lib\\site-packages\\syne_tune\\optimizer\\schedulers\\searchers\\searcher.py:114\u001B[0m, in \u001B[0;36m_sorted_keys\u001B[1;34m(config_space)\u001B[0m\n\u001B[0;32m    113\u001B[0m \u001B[38;5;28;01mdef\u001B[39;00m \u001B[38;5;21m_sorted_keys\u001B[39m(config_space: Dict[\u001B[38;5;28mstr\u001B[39m, Any]) \u001B[38;5;241m-\u001B[39m\u001B[38;5;241m>\u001B[39m List[\u001B[38;5;28mstr\u001B[39m]:\n\u001B[1;32m--> 114\u001B[0m     \u001B[38;5;28;01mreturn\u001B[39;00m \u001B[38;5;28msorted\u001B[39m(k \u001B[38;5;28;01mfor\u001B[39;00m k, v \u001B[38;5;129;01min\u001B[39;00m \u001B[43mconfig_space\u001B[49m\u001B[38;5;241;43m.\u001B[39;49m\u001B[43mitems\u001B[49m() \u001B[38;5;28;01mif\u001B[39;00m \u001B[38;5;28misinstance\u001B[39m(v, Domain))\n",
      "\u001B[1;31mAttributeError\u001B[0m: 'tuple' object has no attribute 'items'"
     ]
    }
   ],
   "execution_count": 9
  },
  {
   "cell_type": "code",
   "execution_count": null,
   "outputs": [],
   "source": [
    "logger = logging.getLogger(__name__)\n",
    "\n",
    "MAX_RETRIES = 100\n",
    "\n",
    "\n",
    "class TestSearcher(StochasticAndFilterDuplicatesSearcher):\n",
    "\n",
    "    def __init__(\n",
    "            self,\n",
    "            config_space: Dict[str, Any],\n",
    "            metric: Union[List[str], str],\n",
    "            points_to_evaluate: Optional[List[dict]] = None,\n",
    "            **kwargs,\n",
    "    ):\n",
    "        super().__init__(\n",
    "            config_space,\n",
    "            metric=metric,\n",
    "            points_to_evaluate=points_to_evaluate,\n",
    "            **kwargs,\n",
    "        )\n",
    "\n",
    "    def configure_scheduler(self, scheduler):\n",
    "        assert isinstance(\n",
    "            scheduler, FIFOScheduler\n",
    "        ), \"This searcher requires FIFOScheduler scheduler\"\n",
    "        super().configure_scheduler(scheduler)\n",
    "\n",
    "    def get_state(self) -> Dict[str, Any]:\n",
    "        return dict(\n",
    "            super().get_state(),\n",
    "        )\n",
    "\n",
    "    def _restore_from_state(self, state: Dict[str, Any]):\n",
    "        super()._restore_from_state(state)\n",
    "\n",
    "    def get_config(self, **kwargs) -> Optional[Dict[str, Any]]:\n",
    "        config = self._next_initial_config()\n",
    "        if config is not None:\n",
    "            return config\n",
    "        config = llambo.get_config()\n",
    "        return convert_LLAMBO_df_to_synetune_dict(config)\n",
    "\n",
    "    def _update(self, trial_id: str, config: Dict[str, Any], result: Dict[str, Any]):\n",
    "        llambo._update_observations(convert_synetune_dict_to_LLAMBO_df(config), result)\n"
   ],
   "metadata": {
    "collapsed": false
   }
  },
  {
   "cell_type": "markdown",
   "source": [
    "Simple searcher combined with LLAMBO"
   ],
   "metadata": {
    "collapsed": false
   },
   "outputs": [],
   "execution_count": null
  },
  {
   "cell_type": "code",
   "execution_count": null,
   "outputs": [],
   "source": [
    "logging.getLogger().setLevel(logging.WARNING)\n",
    "\n",
    "random_seed = 1\n",
    "nb201_random_seed = 0\n",
    "n_workers = 1\n",
    "dataset_name = \"cifar10\"\n",
    "benchmark = nas201_benchmark(dataset_name)\n",
    "\n",
    "max_resource_attr = benchmark.max_resource_attr\n",
    "trial_backend = BlackboxRepositoryBackend(\n",
    "    blackbox_name=benchmark.blackbox_name,\n",
    "    elapsed_time_attr=benchmark.elapsed_time_attr,\n",
    "    max_resource_attr=max_resource_attr,\n",
    "    dataset=dataset_name,\n",
    "    seed=nb201_random_seed,\n",
    ")\n",
    "\n",
    "blackbox = trial_backend.blackbox\n",
    "nas_configuration_space = blackbox.configuration_space_with_max_resource_attr(\n",
    "    max_resource_attr\n",
    ")\n",
    "\n",
    "points_to_evaluate = llambo.initialize_configs(5)\n",
    "points_to_evaluate = convert_LLAMBO_df_to_synetune_dict(points_to_evaluate)\n",
    "scheduler = FIFOScheduler(\n",
    "    config_space=nas_configuration_space,\n",
    "    max_resource_attr=max_resource_attr,\n",
    "    mode=benchmark.mode,\n",
    "    metric=benchmark.metric,\n",
    "    random_seed=random_seed,\n",
    "    searcher=TestSearcher(config_space=nas_configuration_space, metric=benchmark.metric,\n",
    "                          points_to_evaluate=points_to_evaluate, random_seed=random_seed)\n",
    ")\n",
    "\n",
    "max_num_trials_started = 6\n",
    "stop_criterion = StoppingCriterion(max_num_trials_started=max_num_trials_started)\n",
    "print_update_interval = 700\n",
    "results_update_interval = 300\n",
    "tuner = Tuner(\n",
    "    trial_backend=trial_backend,\n",
    "    scheduler=scheduler,\n",
    "    stop_criterion=stop_criterion,\n",
    "    n_workers=n_workers,\n",
    "    sleep_time=0,\n",
    "    results_update_interval=results_update_interval,\n",
    "    print_update_interval=print_update_interval,\n",
    "    callbacks=[SimulatorCallback()],\n",
    ")\n",
    "\n",
    "tuner.run()\n"
   ],
   "metadata": {
    "collapsed": false
   }
  },
  {
   "cell_type": "markdown",
   "source": [],
   "metadata": {
    "collapsed": false
   }
  },
  {
   "cell_type": "code",
   "execution_count": null,
   "outputs": [],
   "source": [],
   "metadata": {
    "collapsed": false
   }
  }
 ],
 "metadata": {
  "kernelspec": {
   "display_name": "Python 3",
   "language": "python",
   "name": "python3"
  },
  "language_info": {
   "codemirror_mode": {
    "name": "ipython",
    "version": 2
   },
   "file_extension": ".py",
   "mimetype": "text/x-python",
   "name": "python",
   "nbconvert_exporter": "python",
   "pygments_lexer": "ipython2",
   "version": "2.7.6"
  }
 },
 "nbformat": 4,
 "nbformat_minor": 0
}
