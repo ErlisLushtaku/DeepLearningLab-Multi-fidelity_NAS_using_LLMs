{
 "cells": [
  {
   "cell_type": "markdown",
   "source": [
    "Imports"
   ],
   "metadata": {
    "collapsed": false
   }
  },
  {
   "cell_type": "code",
   "execution_count": null,
   "metadata": {
    "collapsed": true
   },
   "outputs": [],
   "source": [
    "from nb201 import NB201Benchmark\n",
    "import numpy as np\n",
    "from warmstart.utils_templates import FullTemplate\n",
    "import ConfigSpace as CS\n",
    "from ConfigSpace import Configuration\n",
    "from transformers import AutoTokenizer, AutoModelForCausalLM\n",
    "import ollama\n",
    "import torchvision\n",
    "from exp_baselines.bayesmark.data import ProblemType\n",
    "import ast\n",
    "from llambo.llambo import LLAMBO\n"
   ]
  },
  {
   "cell_type": "markdown",
   "source": [
    "Load NB201 Benchmark"
   ],
   "metadata": {
    "collapsed": false
   }
  },
  {
   "cell_type": "code",
   "execution_count": null,
   "outputs": [],
   "source": [
    "b = NB201Benchmark(path=\"./nb201.pkl\", dataset='cifar10')\n",
    "cs = b.get_configuration_space()\n",
    "config = cs.sample_configuration()  # samples a configuration uniformly at random\n",
    "print(cs)\n",
    "print(\"Numpy representation: \", config.get_array())\n",
    "print(\"Dict representation: \", config.get_dictionary())\n",
    "\n",
    "#configuration from a dict\n",
    "new_config = Configuration(cs, values=config.get_dictionary())\n",
    "print(new_config)\n",
    "\n",
    "y, cost = b.objective_function(config)\n",
    "print(\"Test error: %f %%\" % y)\n",
    "print(\"Runtime %f s\" % cost)"
   ],
   "metadata": {
    "collapsed": false
   }
  },
  {
   "cell_type": "markdown",
   "source": [
    "Arguments for LLAMBO"
   ],
   "metadata": {
    "collapsed": false
   }
  },
  {
   "cell_type": "code",
   "execution_count": null,
   "outputs": [],
   "source": [
    "task_context = {\n",
    "    'model': 'CNN',\n",
    "    'task': 'classification',\n",
    "    'tot_feats': 32 * 32 * 3,\n",
    "    'cat_feats': 0,\n",
    "    'num_feat': 32 * 32 * 3,\n",
    "    'n_classes': 10,\n",
    "    'metric': 'loss',\n",
    "    'lower_is_better': True,\n",
    "    'num_samples': 50000,\n",
    "    'hyperparameter_constraints': {\n",
    "        'op_0_to_1': ['int', 'linear', [1, 5]],  # [type, transform, [min_value, max_value]]\n",
    "        'op_0_to_2': ['int', 'linear', [1, 5]],\n",
    "        'op_0_to_3': ['int', 'linear', [1, 5]],\n",
    "        'op_1_to_2': ['int', 'linear', [1, 5]],\n",
    "        'op_1_to_3': ['int', 'linear', [1, 5]],\n",
    "        'op_2_to_3': ['int', 'linear', [1, 5]]\n",
    "    }\n",
    "}\n",
    "\n",
    "\n",
    "def init_f():\n",
    "    return\n",
    "\n",
    "\n",
    "def eval_point(config):\n",
    "    new_config = Configuration(b.get_configuration_space(), values=config)\n",
    "    res = b.objective_function(new_config)\n",
    "    res_dict = {\n",
    "        \"score\": res[0],\n",
    "        \"train_time\": res[1]\n",
    "    }\n",
    "    return config, res_dict"
   ],
   "metadata": {
    "collapsed": false
   }
  },
  {
   "cell_type": "markdown",
   "source": [
    "Huggingface"
   ],
   "metadata": {
    "collapsed": false
   }
  },
  {
   "cell_type": "code",
   "execution_count": null,
   "outputs": [],
   "source": [
    "tokenizer = AutoTokenizer.from_pretrained(\"google/gemma-2b-it\")\n",
    "model = AutoModelForCausalLM.from_pretrained(\"google/gemma-2b-it\").to(\"cuda\")"
   ],
   "metadata": {
    "collapsed": false
   }
  },
  {
   "cell_type": "code",
   "execution_count": null,
   "outputs": [],
   "source": [
    "input_text = \"Write me a poem about Machine Learning.\"\n",
    "input_ids = tokenizer(input_text, return_tensors=\"pt\").to(\"cuda\")\n",
    "\n",
    "outputs = model.generate(**input_ids, max_length=512)\n",
    "print(tokenizer.decode(outputs[0]))"
   ],
   "metadata": {
    "collapsed": false
   }
  },
  {
   "cell_type": "markdown",
   "source": [
    "Ollama"
   ],
   "metadata": {
    "collapsed": false
   }
  },
  {
   "cell_type": "code",
   "execution_count": null,
   "outputs": [],
   "source": [
    "chat_engine = \"llama3\"\n",
    "model = ollama.pull(chat_engine)\n",
    "response = ollama.chat(model=\"llama3\", messages=[{'role': 'user', 'content': 'Why is the sky blue?'}])\n",
    "print(response)\n",
    "ollama.list()"
   ],
   "metadata": {
    "collapsed": false
   }
  },
  {
   "cell_type": "code",
   "execution_count": null,
   "outputs": [],
   "source": [
    "trainset = torchvision.datasets.CIFAR10(root='./data', train=True,\n",
    "                                        download=True)"
   ],
   "metadata": {
    "collapsed": false
   }
  },
  {
   "cell_type": "code",
   "execution_count": null,
   "outputs": [],
   "source": [
    "def fetch_statistics(dict, dataset):\n",
    "    images = dataset.data\n",
    "    labels = dataset.targets\n",
    "\n",
    "    images_np = np.array(images)\n",
    "    labels_np = np.array(labels)\n",
    "\n",
    "    pixel_mean = np.mean(images_np / 255.)\n",
    "    pixel_std = np.std(images_np / 255.)\n",
    "\n",
    "    class_counts = np.bincount(labels_np)\n",
    "    class_distribution = class_counts / len(labels_np)\n",
    "\n",
    "    dict['pixel_mean'] = pixel_mean\n",
    "    dict['pixel_std'] = pixel_std\n",
    "    dict['class_distribution'] = class_distribution.tolist()\n",
    "\n",
    "    return dict\n",
    "\n",
    "\n",
    "task_context = fetch_statistics(task_context, trainset)"
   ],
   "metadata": {
    "collapsed": false
   }
  },
  {
   "cell_type": "markdown",
   "source": [
    "Warmstart"
   ],
   "metadata": {
    "collapsed": false
   }
  },
  {
   "cell_type": "code",
   "execution_count": null,
   "outputs": [],
   "source": [
    "config = \"No_Context\"\n",
    "metric = \"acc\"\n",
    "NUM_SEEDS = 10\n",
    "problem_type = ProblemType.clf\n",
    "\n",
    "\n",
    "def extract_configs_from_response(response):\n",
    "    content = response['message']['content']\n",
    "    start = content.find(\"[\")\n",
    "    end = content.rfind(\"]\") + 1\n",
    "    list_str = content[start:end]\n",
    "    configurations = ast.literal_eval(list_str)\n",
    "    return configurations\n",
    "\n",
    "\n",
    "def is_dict_valid_in_config_space(d, config_space):\n",
    "    try:\n",
    "        # Attempt to create a Configuration object with the given dictionary and config space\n",
    "        config = CS.Configuration(config_space, values=d)\n",
    "        return True\n",
    "    except:\n",
    "        # Return False if the dictionary is not valid\n",
    "        return False\n",
    "    # Function to check if all dictionaries in a list are valid in the given configuration space\n",
    "\n",
    "\n",
    "def check_all_list(parsed_dicts, config_space):\n",
    "    for idx, d in enumerate(parsed_dicts):\n",
    "        if not is_dict_valid_in_config_space(d, config_space):\n",
    "            return False\n",
    "    return True\n",
    "\n",
    "\n",
    "def obtain_all_list_valid(resp, config_space):\n",
    "    if check_all_list(resp, config_space):\n",
    "        return resp\n",
    "    print(\"fail\")\n",
    "\n",
    "\n",
    "def generate_init_conf(n_samples):\n",
    "    template_object = FullTemplate(context=config, provide_ranges=True)\n",
    "    input_prompt = template_object.add_context(config_space=cs, num_recommendation=n_samples, task_dict=task_context)\n",
    "    response = ollama.chat(model=\"llama3\", messages=[{'role': 'user', 'content': input_prompt}])\n",
    "    configs = extract_configs_from_response(response)\n",
    "    return obtain_all_list_valid(configs, cs)\n",
    "\n",
    "#print(generate_init_conf(3))"
   ],
   "metadata": {
    "collapsed": false
   }
  },
  {
   "cell_type": "markdown",
   "source": [
    "Llambo"
   ],
   "metadata": {
    "collapsed": false
   }
  },
  {
   "cell_type": "code",
   "execution_count": null,
   "outputs": [],
   "source": [
    "llambo = LLAMBO(task_context, sm_mode='discriminative', n_candidates=10, n_templates=2, n_gens=10,\n",
    "                alpha=0.1, n_initial_samples=5, n_trials=25,\n",
    "                init_f=generate_init_conf,\n",
    "                bbox_eval_f=eval_point,\n",
    "                chat_engine=\"llama3\")\n",
    "llambo.seed = 0\n",
    "\n",
    "# run optimization\n",
    "configs, fvals = llambo.optimize(test_metric=\"score\")"
   ],
   "metadata": {
    "collapsed": false
   }
  },
  {
   "cell_type": "code",
   "execution_count": null,
   "outputs": [],
   "source": [],
   "metadata": {
    "collapsed": false
   }
  }
 ],
 "metadata": {
  "kernelspec": {
   "display_name": "Python 3",
   "language": "python",
   "name": "python3"
  },
  "language_info": {
   "codemirror_mode": {
    "name": "ipython",
    "version": 2
   },
   "file_extension": ".py",
   "mimetype": "text/x-python",
   "name": "python",
   "nbconvert_exporter": "python",
   "pygments_lexer": "ipython2",
   "version": "2.7.6"
  }
 },
 "nbformat": 4,
 "nbformat_minor": 0
}
