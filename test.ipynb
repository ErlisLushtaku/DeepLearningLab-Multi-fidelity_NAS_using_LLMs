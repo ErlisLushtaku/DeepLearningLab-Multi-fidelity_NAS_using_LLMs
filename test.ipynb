{
 "cells": [
  {
   "cell_type": "markdown",
   "source": [
    "Imports"
   ],
   "metadata": {
    "collapsed": false
   }
  },
  {
   "cell_type": "code",
   "metadata": {
    "collapsed": true,
    "ExecuteTime": {
     "end_time": "2024-07-23T13:00:20.910481Z",
     "start_time": "2024-07-23T12:59:54.271902Z"
    }
   },
   "source": [
    "from nb201 import NB201Benchmark\n",
    "import numpy as np\n",
    "from warmstart.utils_templates import FullTemplate\n",
    "import ConfigSpace as CS\n",
    "from ConfigSpace import Configuration\n",
    "import ollama\n",
    "import torchvision\n",
    "from exp_baselines.bayesmark.data import ProblemType\n",
    "import ast\n",
    "from llambo.llambo import LLAMBO\n",
    "from utils import convert_LLAMBO_df_to_synetune_dict\n",
    "from utils import convert_synetune_dict_to_LLAMBO_compatible_format\n",
    "\n",
    "from syne_tune_local.experiments.benchmark_definitions.nas201 import nas201_benchmark\n",
    "from syne_tune_local.blackbox_repository import BlackboxRepositoryBackend\n",
    "from syne_tune_local.backend.simulator_backend.simulator_callback import SimulatorCallback\n",
    "from syne_tune_local import Tuner, StoppingCriterion\n",
    "\n",
    "from typing import Optional, Dict, Any, List, Union\n",
    "import logging\n",
    "from syne_tune_local.optimizer.schedulers import FIFOScheduler\n",
    "from syne_tune_local.optimizer.schedulers.searchers import StochasticAndFilterDuplicatesSearcher"
   ],
   "outputs": [
    {
     "name": "stdout",
     "output_type": "stream",
     "text": [
      "Dependencies of YAHPO are not imported since dependencies are missing. You can install them with\n",
      "   pip install 'syne-tune[yahpo]'\n",
      "or (for everything)\n",
      "   pip install 'syne-tune[extra]'\n",
      "Dependencies of YAHPO are not imported since dependencies are missing. You can install them with\n",
      "   pip install 'syne-tune[yahpo]'\n",
      "or (for everything)\n",
      "   pip install 'syne-tune[extra]'\n"
     ]
    }
   ],
   "execution_count": 6
  },
  {
   "cell_type": "markdown",
   "source": [
    "Load NB201 Benchmark"
   ],
   "metadata": {
    "collapsed": false
   }
  },
  {
   "cell_type": "code",
   "source": [
    "b = NB201Benchmark(path=\"./nb201.pkl\", dataset='cifar10')\n",
    "cs = b.get_configuration_space()\n",
    "config = cs.sample_configuration()  # samples a configuration uniformly at random\n",
    "\n",
    "print(cs)\n",
    "print(\"Numpy representation: \", config.get_array())\n",
    "print(\"Dict representation: \", config.get_dictionary())\n",
    "\n",
    "#configuration from a dict\n",
    "new_config = Configuration(cs, values=config.get_dictionary())\n",
    "print(new_config)\n",
    "\n",
    "y, cost = b.objective_function(config)\n",
    "print(\"Test error: %f %%\" % y)\n",
    "print(\"Runtime %f s\" % cost)"
   ],
   "metadata": {
    "collapsed": false,
    "ExecuteTime": {
     "end_time": "2024-07-23T13:00:21.057700Z",
     "start_time": "2024-07-23T13:00:20.914130Z"
    }
   },
   "outputs": [
    {
     "name": "stdout",
     "output_type": "stream",
     "text": [
      "Configuration space object:\n",
      "  Hyperparameters:\n",
      "    op_0_to_1, Type: Categorical, Choices: {none, skip_connect, avg_pool_3x3, nor_conv_1x1, nor_conv_3x3}, Default: none\n",
      "    op_0_to_2, Type: Categorical, Choices: {none, skip_connect, avg_pool_3x3, nor_conv_1x1, nor_conv_3x3}, Default: none\n",
      "    op_0_to_3, Type: Categorical, Choices: {none, skip_connect, avg_pool_3x3, nor_conv_1x1, nor_conv_3x3}, Default: none\n",
      "    op_1_to_2, Type: Categorical, Choices: {none, skip_connect, avg_pool_3x3, nor_conv_1x1, nor_conv_3x3}, Default: none\n",
      "    op_1_to_3, Type: Categorical, Choices: {none, skip_connect, avg_pool_3x3, nor_conv_1x1, nor_conv_3x3}, Default: none\n",
      "    op_2_to_3, Type: Categorical, Choices: {none, skip_connect, avg_pool_3x3, nor_conv_1x1, nor_conv_3x3}, Default: none\n",
      "\n",
      "Numpy representation:  [1. 0. 4. 2. 1. 0.]\n",
      "Dict representation:  {'op_0_to_1': 'skip_connect', 'op_0_to_2': 'none', 'op_0_to_3': 'nor_conv_3x3', 'op_1_to_2': 'avg_pool_3x3', 'op_1_to_3': 'skip_connect', 'op_2_to_3': 'none'}\n",
      "Configuration(values={\n",
      "  'op_0_to_1': 'skip_connect',\n",
      "  'op_0_to_2': 'none',\n",
      "  'op_0_to_3': 'nor_conv_3x3',\n",
      "  'op_1_to_2': 'avg_pool_3x3',\n",
      "  'op_1_to_3': 'skip_connect',\n",
      "  'op_2_to_3': 'none',\n",
      "})\n",
      "Test error: 19.973333 %\n",
      "Runtime 2119.193971 s\n"
     ]
    },
    {
     "name": "stderr",
     "output_type": "stream",
     "text": [
      "/var/folders/b0/nhhvw1x54fggv0t8nzr9s4xm0000gp/T/ipykernel_85878/2721149981.py:7: DeprecationWarning: `Configuration` act's like a dictionary. Please use `dict(config)` instead of `get_dictionary` if you explicitly need a `dict`\n",
      "  print(\"Dict representation: \", config.get_dictionary())\n",
      "/var/folders/b0/nhhvw1x54fggv0t8nzr9s4xm0000gp/T/ipykernel_85878/2721149981.py:10: DeprecationWarning: `Configuration` act's like a dictionary. Please use `dict(config)` instead of `get_dictionary` if you explicitly need a `dict`\n",
      "  new_config = Configuration(cs, values=config.get_dictionary())\n"
     ]
    }
   ],
   "execution_count": 7
  },
  {
   "cell_type": "markdown",
   "source": [
    "Arguments for LLAMBO"
   ],
   "metadata": {
    "collapsed": false
   }
  },
  {
   "cell_type": "code",
   "source": [
    "task_context = {\n",
    "    'model': 'CNN',\n",
    "    'task': 'classification',\n",
    "    'metric': 'validation_loss',\n",
    "    'num_samples': 50000,\n",
    "    'image_size': 'height 32, width 32, and 3 channels',\n",
    "    'num_feat': 32 * 32 * 3,\n",
    "    'tot_feats': 32 * 32 * 3,\n",
    "    'cat_feats': 0,\n",
    "    'n_classes': 10,\n",
    "    'lower_is_better': True,\n",
    "    'hyperparameter_constraints': {\n",
    "        'op_0_to_1': ['categorical', None, [\"none\", \"skip_connect\", \"avg_pool_3x3\", \"nor_conv_1x1\", \"nor_conv_3x3\"]],\n",
    "        # [type, transform, [min_value, max_value]]\n",
    "        'op_0_to_2': ['categorical', None, [\"none\", \"skip_connect\", \"avg_pool_3x3\", \"nor_conv_1x1\", \"nor_conv_3x3\"]],\n",
    "        'op_0_to_3': ['categorical', None, [\"none\", \"skip_connect\", \"avg_pool_3x3\", \"nor_conv_1x1\", \"nor_conv_3x3\"]],\n",
    "        'op_1_to_2': ['categorical', None, [\"none\", \"skip_connect\", \"avg_pool_3x3\", \"nor_conv_1x1\", \"nor_conv_3x3\"]],\n",
    "        'op_1_to_3': ['categorical', None, [\"none\", \"skip_connect\", \"avg_pool_3x3\", \"nor_conv_1x1\", \"nor_conv_3x3\"]],\n",
    "        'op_2_to_3': ['categorical', None, [\"none\", \"skip_connect\", \"avg_pool_3x3\", \"nor_conv_1x1\", \"nor_conv_3x3\"]]\n",
    "    }\n",
    "}\n",
    "\n",
    "\n",
    "def init_f():\n",
    "    return\n",
    "\n",
    "\n",
    "def eval_point(config):\n",
    "    new_config = Configuration(b.get_configuration_space(), values=config)\n",
    "    res = b.objective_function(new_config)\n",
    "    res_dict = {\n",
    "        \"score\": res[0],\n",
    "        \"train_time\": res[1]\n",
    "    }\n",
    "    return config, res_dict"
   ],
   "metadata": {
    "collapsed": false,
    "ExecuteTime": {
     "end_time": "2024-07-23T13:00:21.062847Z",
     "start_time": "2024-07-23T13:00:21.058829Z"
    }
   },
   "outputs": [],
   "execution_count": 8
  },
  {
   "cell_type": "markdown",
   "source": [
    "Ollama"
   ],
   "metadata": {
    "collapsed": false
   }
  },
  {
   "cell_type": "code",
   "source": [
    "# chat_engine = \"llama3\"\n",
    "# model = ollama.pull(chat_engine)\n",
    "# response = ollama.chat(model=\"llama3\", messages=[{'role': 'user', 'content': 'Why is the sky blue?'}])\n",
    "# print(response)\n",
    "# ollama.list()"
   ],
   "metadata": {
    "collapsed": false,
    "ExecuteTime": {
     "end_time": "2024-07-23T13:00:21.066228Z",
     "start_time": "2024-07-23T13:00:21.064499Z"
    }
   },
   "outputs": [],
   "execution_count": 9
  },
  {
   "cell_type": "code",
   "source": [
    "trainset = torchvision.datasets.CIFAR10(root='./data', train=True,\n",
    "                                        download=True)\n",
    "\n",
    "\n",
    "def fetch_statistics(dict, dataset):\n",
    "    class_names = ['Airplane', 'Automobile', 'Bird', 'Cat', 'Deer', 'Dog', 'Frog', 'Horse', 'Ship', 'Truck']\n",
    "    images = dataset.data\n",
    "    labels = dataset.targets\n",
    "\n",
    "    images_np = np.array(images)\n",
    "    labels_np = np.array(labels)\n",
    "\n",
    "    pixel_mean = np.mean(images_np / 255.)\n",
    "    pixel_std = np.std(images_np / 255.)\n",
    "\n",
    "    class_counts = np.bincount(labels_np)\n",
    "    class_distribution = class_counts / len(labels_np)\n",
    "\n",
    "    # Constructing the descriptive string for class distribution with class names\n",
    "    class_distribution_str = \", \".join(\n",
    "        f\"{distribution * 100:.2f}% of datapoints belong to class {labels_np[i]}: {class_names[i]}\"\n",
    "        for i, distribution in enumerate(class_distribution) if i < len(labels_np)\n",
    "    )\n",
    "    print('class_distribution_str', class_distribution_str)\n",
    "    dict['pixel_mean'] = pixel_mean\n",
    "    dict['pixel_std'] = pixel_std\n",
    "    dict['class_distribution'] = class_distribution_str\n",
    "\n",
    "    return dict\n",
    "\n",
    "\n",
    "task_context = fetch_statistics(task_context, trainset)"
   ],
   "metadata": {
    "collapsed": false,
    "ExecuteTime": {
     "end_time": "2024-07-23T13:00:23.209219Z",
     "start_time": "2024-07-23T13:00:21.067357Z"
    }
   },
   "outputs": [
    {
     "name": "stdout",
     "output_type": "stream",
     "text": [
      "Files already downloaded and verified\n",
      "class_distribution_str 10.00% of datapoints belong to class 6: Airplane, 10.00% of datapoints belong to class 9: Automobile, 10.00% of datapoints belong to class 9: Bird, 10.00% of datapoints belong to class 4: Cat, 10.00% of datapoints belong to class 1: Deer, 10.00% of datapoints belong to class 1: Dog, 10.00% of datapoints belong to class 2: Frog, 10.00% of datapoints belong to class 7: Horse, 10.00% of datapoints belong to class 8: Ship, 10.00% of datapoints belong to class 3: Truck\n"
     ]
    }
   ],
   "execution_count": 10
  },
  {
   "cell_type": "markdown",
   "source": [
    "Warmstart"
   ],
   "metadata": {
    "collapsed": false,
    "ExecuteTime": {
     "end_time": "2024-07-16T21:50:50.906679200Z",
     "start_time": "2024-07-16T21:50:50.879733200Z"
    }
   }
  },
  {
   "cell_type": "code",
   "source": [
    "context = \"Full_Context\"\n",
    "# metric = \"acc\"\n",
    "# NUM_SEEDS = 10\n",
    "# problem_type = ProblemType.clf\n",
    "\n",
    "\n",
    "def extract_configs_from_response(response):\n",
    "    content = response['message']['content']\n",
    "    start = content.find(\"[\")\n",
    "    end = content.rfind(\"]\") + 1\n",
    "    list_str = content[start:end]\n",
    "    configurations = ast.literal_eval(list_str)\n",
    "    return configurations\n",
    "\n",
    "\n",
    "def is_dict_valid_in_config_space(d, config_space):\n",
    "    try:\n",
    "        # Attempt to create a Configuration object with the given dictionary and config space\n",
    "        config = CS.Configuration(config_space, values=d)\n",
    "        return True\n",
    "    except:\n",
    "        # Return False if the dictionary is not valid\n",
    "        return False\n",
    "    # Function to check if all dictionaries in a list are valid in the given configuration space\n",
    "\n",
    "\n",
    "def check_all_list(parsed_dicts, config_space):\n",
    "    for idx, d in enumerate(parsed_dicts):\n",
    "        if not is_dict_valid_in_config_space(d, config_space):\n",
    "            return False\n",
    "    return True\n",
    "\n",
    "\n",
    "def obtain_all_list_valid(resp, config_space):\n",
    "    if check_all_list(resp, config_space):\n",
    "        return resp\n",
    "    print(\"fail\")\n",
    "\n",
    "\n",
    "def generate_init_conf(n_samples):\n",
    "    template_object = FullTemplate(context=context, provide_ranges=True)\n",
    "    input_prompt = template_object.add_context(config_space=cs, num_recommendation=n_samples, task_dict=task_context)\n",
    "    print(input_prompt)\n",
    "    response = ollama.chat(model=\"llama3\", messages=[{'role': 'user', 'content': input_prompt}])\n",
    "    configs = extract_configs_from_response(response)\n",
    "    return obtain_all_list_valid(configs, cs)\n",
    "\n",
    "#print(generate_init_conf(3))"
   ],
   "metadata": {
    "collapsed": false,
    "ExecuteTime": {
     "end_time": "2024-07-23T13:00:23.214642Z",
     "start_time": "2024-07-23T13:00:23.210222Z"
    }
   },
   "outputs": [],
   "execution_count": 11
  },
  {
   "cell_type": "markdown",
   "source": [
    "Llambo"
   ],
   "metadata": {
    "collapsed": false,
    "ExecuteTime": {
     "end_time": "2024-07-16T21:50:50.916420200Z",
     "start_time": "2024-07-16T21:50:50.906679200Z"
    }
   }
  },
  {
   "cell_type": "code",
   "source": [
    "llambo = LLAMBO(task_context, sm_mode='discriminative', n_candidates=10, n_templates=2, n_gens=10,\n",
    "                alpha=0.1, n_initial_samples=5, n_trials=4,\n",
    "                init_f=generate_init_conf,\n",
    "                bbox_eval_f=eval_point,\n",
    "                chat_engine=\"llama3\")\n",
    "llambo.seed = 0\n",
    "\n",
    "# run optimization\n",
    "# configs, fvals = llambo.optimize(test_metric=\"score\")"
   ],
   "metadata": {
    "collapsed": false,
    "ExecuteTime": {
     "end_time": "2024-07-23T13:00:23.220999Z",
     "start_time": "2024-07-23T13:00:23.215486Z"
    }
   },
   "outputs": [
    {
     "name": "stdout",
     "output_type": "stream",
     "text": [
      "======================================================================================================================================================\n",
      "[Search settings]: \n",
      "\tn_candidates: 10, n_templates: 2, n_gens: 10, \n",
      "\talpha: 0.1, n_initial_samples: 5, n_trials: 4, \n",
      "\tusing warping: False, ablation: None, shuffle_features: False\n",
      "[Task]: \n",
      "\ttask type: classification, sm: discriminative, lower is better: True\n",
      "Hyperparameter search space: \n",
      "{'op_0_to_1': ['categorical',\n",
      "               None,\n",
      "               ['none',\n",
      "                'skip_connect',\n",
      "                'avg_pool_3x3',\n",
      "                'nor_conv_1x1',\n",
      "                'nor_conv_3x3']],\n",
      " 'op_0_to_2': ['categorical',\n",
      "               None,\n",
      "               ['none',\n",
      "                'skip_connect',\n",
      "                'avg_pool_3x3',\n",
      "                'nor_conv_1x1',\n",
      "                'nor_conv_3x3']],\n",
      " 'op_0_to_3': ['categorical',\n",
      "               None,\n",
      "               ['none',\n",
      "                'skip_connect',\n",
      "                'avg_pool_3x3',\n",
      "                'nor_conv_1x1',\n",
      "                'nor_conv_3x3']],\n",
      " 'op_1_to_2': ['categorical',\n",
      "               None,\n",
      "               ['none',\n",
      "                'skip_connect',\n",
      "                'avg_pool_3x3',\n",
      "                'nor_conv_1x1',\n",
      "                'nor_conv_3x3']],\n",
      " 'op_1_to_3': ['categorical',\n",
      "               None,\n",
      "               ['none',\n",
      "                'skip_connect',\n",
      "                'avg_pool_3x3',\n",
      "                'nor_conv_1x1',\n",
      "                'nor_conv_3x3']],\n",
      " 'op_2_to_3': ['categorical',\n",
      "               None,\n",
      "               ['none',\n",
      "                'skip_connect',\n",
      "                'avg_pool_3x3',\n",
      "                'nor_conv_1x1',\n",
      "                'nor_conv_3x3']]}\n",
      "======================================================================================================================================================\n"
     ]
    }
   ],
   "execution_count": 12
  },
  {
   "cell_type": "markdown",
   "source": [
    "Searcher"
   ],
   "metadata": {
    "collapsed": false,
    "ExecuteTime": {
     "end_time": "2024-07-16T21:49:55.022268800Z",
     "start_time": "2024-07-16T21:49:53.636741500Z"
    }
   }
  },
  {
   "cell_type": "code",
   "source": [
    "\n",
    "logger = logging.getLogger(__name__)\n",
    "\n",
    "MAX_RETRIES = 100\n",
    "\n",
    "\n",
    "class LlamboSearcher(StochasticAndFilterDuplicatesSearcher):\n",
    "\n",
    "    def __init__(\n",
    "            self,\n",
    "            config_space: Dict[str, Any],\n",
    "            metric: Union[List[str], str],\n",
    "            points_to_evaluate: Optional[List[dict]] = None,\n",
    "            **kwargs,\n",
    "    ):\n",
    "        super().__init__(\n",
    "            config_space,\n",
    "            metric=metric,\n",
    "            points_to_evaluate=points_to_evaluate,\n",
    "            **kwargs,\n",
    "        )\n",
    "        self.X = []\n",
    "        self.y = []\n",
    "\n",
    "    def configure_scheduler(self, scheduler):\n",
    "        from syne_tune_local.optimizer.schedulers.scheduler_searcher import (\n",
    "            TrialSchedulerWithSearcher,\n",
    "        )\n",
    "\n",
    "        assert isinstance(\n",
    "            scheduler, TrialSchedulerWithSearcher\n",
    "        ), \"This searcher requires TrialSchedulerWithSearcher scheduler\"\n",
    "        super().configure_scheduler(scheduler)\n",
    "\n",
    "    def _train_model(self, train_data: np.ndarray, train_targets: np.ndarray) -> bool:\n",
    "        \"\"\"\n",
    "        :param train_data: Training input feature matrix X\n",
    "        :param train_targets: Training targets y\n",
    "        :return: Was training successful?\n",
    "        \"\"\"\n",
    "        llambo._update_observations(train_data, train_targets)\n",
    "        return True\n",
    "    \n",
    "    def get_state(self) -> Dict[str, Any]:\n",
    "        return dict(\n",
    "            super().get_state(),\n",
    "        )\n",
    "\n",
    "    def _restore_from_state(self, state: Dict[str, Any]):\n",
    "        super()._restore_from_state(state)\n",
    "\n",
    "    def get_config(self, **kwargs) -> Optional[Dict[str, Any]]:\n",
    "        suggestion = self._next_initial_config()\n",
    "        if suggestion is None:\n",
    "            if self.y:\n",
    "                if self._train_model(np.array(self.X), np.array(self.y)):\n",
    "                    suggestion = convert_LLAMBO_df_to_synetune_dict(llambo.get_config())\n",
    "            \n",
    "        return suggestion\n",
    "        \n",
    "    def _update(self, trial_id: str, config: Dict[str, Any], result: Dict[str, Any]):\n",
    "        self.X.append(convert_synetune_dict_to_LLAMBO_compatible_format(config))\n",
    "        self.y.append(result)\n",
    "        \n",
    "    def clone_from_state(self, state: Dict[str, Any]):\n",
    "        raise NotImplementedError\n"
   ],
   "metadata": {
    "collapsed": false,
    "ExecuteTime": {
     "end_time": "2024-07-23T13:00:23.227557Z",
     "start_time": "2024-07-23T13:00:23.221878Z"
    }
   },
   "outputs": [],
   "execution_count": 13
  },
  {
   "metadata": {
    "ExecuteTime": {
     "end_time": "2024-07-23T13:00:23.238314Z",
     "start_time": "2024-07-23T13:00:23.228489Z"
    }
   },
   "cell_type": "code",
   "source": [
    "\n",
    "logger = logging.getLogger(__name__)\n",
    "\n",
    "MAX_RETRIES = 100\n",
    "\n",
    "\n",
    "class MultiFidelityLLamboSearcher(LlamboSearcher):\n",
    "\n",
    "    def __init__(\n",
    "            self,\n",
    "            config_space: Dict[str, Any],\n",
    "            metric: Union[List[str], str],\n",
    "            points_to_evaluate: Optional[List[dict]] = None,\n",
    "            resource_attr: Optional[str] = None,\n",
    "            **kwargs,\n",
    "    ):\n",
    "        super().__init__(\n",
    "            config_space,\n",
    "            metric=metric,\n",
    "            points_to_evaluate=points_to_evaluate,\n",
    "            **kwargs,\n",
    "        )\n",
    "        self.resource_attr = resource_attr\n",
    "        self.resource_levels = []\n",
    "\n",
    "    def configure_scheduler(self, scheduler):\n",
    "        from syne_tune_local.optimizer.schedulers.multi_fidelity import (\n",
    "            MultiFidelitySchedulerMixin,\n",
    "        )\n",
    "\n",
    "        super().configure_scheduler(scheduler)\n",
    "        assert isinstance(\n",
    "            scheduler, MultiFidelitySchedulerMixin\n",
    "        ), \"This searcher requires MultiFidelitySchedulerMixin scheduler\"\n",
    "        self.resource_attr = scheduler.resource_attr\n",
    "       \n",
    "    def _train_model(self, train_data: np.ndarray, train_targets: np.ndarray) -> bool:\n",
    "        highest_resource_level = self._highest_resource_model_can_fit()\n",
    "        if highest_resource_level is None:\n",
    "            return False\n",
    "        else:\n",
    "            indices = np.where(self.resource_levels == highest_resource_level)\n",
    "            sub_data = train_data[indices]\n",
    "            sub_targets = train_targets[indices]\n",
    "        return super()._train_model(sub_data, sub_targets)\n",
    "     \n",
    "    def _highest_resource_model_can_fit(self) -> Optional[int]:\n",
    "        # find the highest resource level we have at least one data points of the positive class\n",
    "        min_data_points = 4\n",
    "        unique_resource_levels, counts = np.unique(\n",
    "            self.resource_levels, return_counts=True\n",
    "        )\n",
    "        idx = np.where(counts >= min_data_points)[0]\n",
    "\n",
    "        if len(idx) == 0:\n",
    "            return None\n",
    "\n",
    "        # collect data on the highest resource level\n",
    "        return unique_resource_levels[idx[-1]]\n",
    "    \n",
    "    def get_state(self) -> Dict[str, Any]:\n",
    "        return dict(\n",
    "            super().get_state(),\n",
    "        )\n",
    "\n",
    "    def _restore_from_state(self, state: Dict[str, Any]):\n",
    "        super()._restore_from_state(state)\n",
    "\n",
    "    def _update(self, trial_id: str, config: Dict, result: Dict):\n",
    "        super()._update(trial_id=trial_id, config=config, result=result)\n",
    "        resource_level = int(result[self.resource_attr])\n",
    "        self.resource_levels.append(resource_level)\n"
   ],
   "outputs": [],
   "execution_count": 14
  },
  {
   "cell_type": "markdown",
   "source": [
    "Simple searcher combined with LLAMBO"
   ],
   "metadata": {
    "collapsed": false
   }
  },
  {
   "cell_type": "code",
   "source": [
    "from syne_tune_local.optimizer.schedulers.synchronous import SynchronousGeometricHyperbandScheduler\n",
    "\n",
    "logging.getLogger().setLevel(logging.WARNING)\n",
    "\n",
    "random_seed = 1\n",
    "nb201_random_seed = 0\n",
    "n_workers = 1\n",
    "dataset_name = \"cifar10\"\n",
    "benchmark = nas201_benchmark(dataset_name)\n",
    "\n",
    "max_resource_attr = benchmark.max_resource_attr\n",
    "trial_backend = BlackboxRepositoryBackend(\n",
    "    blackbox_name=benchmark.blackbox_name,\n",
    "    elapsed_time_attr=benchmark.elapsed_time_attr,\n",
    "    max_resource_attr=max_resource_attr,\n",
    "    dataset=dataset_name,\n",
    "    seed=nb201_random_seed,\n",
    ")\n",
    "\n",
    "blackbox = trial_backend.blackbox\n",
    "nas_configuration_space = blackbox.configuration_space_with_max_resource_attr(\n",
    "    max_resource_attr\n",
    ")\n",
    "\n",
    "points_to_evaluate = llambo.initialize_configs(5)\n",
    "points_to_evaluate = convert_LLAMBO_df_to_synetune_dict(points_to_evaluate)\n",
    "scheduler = SynchronousGeometricHyperbandScheduler(\n",
    "    config_space=nas_configuration_space,\n",
    "    max_resource_attr=max_resource_attr,\n",
    "    mode=benchmark.mode,\n",
    "    metric=benchmark.metric,\n",
    "    random_seed=random_seed,\n",
    "    searcher=MultiFidelityLLamboSearcher,\n",
    "    resource_attr=blackbox.fidelity_name(),\n",
    "    points_to_evaluate=points_to_evaluate,\n",
    "    brackets=1,\n",
    "    max_resource_level=2,\n",
    ")\n",
    "\n",
    "max_wallclock_time = 300 # seconds\n",
    "stop_criterion = StoppingCriterion(max_wallclock_time=max_wallclock_time)\n",
    "print_update_interval = 700\n",
    "results_update_interval = 300\n",
    "tuner = Tuner(\n",
    "    trial_backend=trial_backend,\n",
    "    scheduler=scheduler,\n",
    "    stop_criterion=stop_criterion,\n",
    "    n_workers=n_workers,\n",
    "    sleep_time=0,\n",
    "    results_update_interval=results_update_interval,\n",
    "    print_update_interval=print_update_interval,\n",
    "    callbacks=[SimulatorCallback()],\n",
    ")\n",
    "\n",
    "tuner.run()"
   ],
   "metadata": {
    "collapsed": false,
    "ExecuteTime": {
     "end_time": "2024-07-23T13:00:56.038404Z",
     "start_time": "2024-07-23T13:00:23.240334Z"
    }
   },
   "outputs": [
    {
     "name": "stdout",
     "output_type": "stream",
     "text": [
      "You are assisting me with automated machine learning using CNN for a classification task. The classification performance is measured using validation_loss. The dataset has 50000 image samples with dimensions of height 32, width 32, and 3 channels. Class distribution is 10.00% of datapoints belong to class 6: Airplane, 10.00% of datapoints belong to class 9: Automobile, 10.00% of datapoints belong to class 9: Bird, 10.00% of datapoints belong to class 4: Cat, 10.00% of datapoints belong to class 1: Deer, 10.00% of datapoints belong to class 1: Dog, 10.00% of datapoints belong to class 2: Frog, 10.00% of datapoints belong to class 7: Horse, 10.00% of datapoints belong to class 8: Ship, 10.00% of datapoints belong to class 3: Truck. The pixel mean is 0.4733630004850874 and pixel standard deviation is 0.25156892506322026. I’m exploring a subset of hyperparameters detailed as: op_0_to_1 (string ('none', 'skip_connect', 'avg_pool_3x3', 'nor_conv_1x1', 'nor_conv_3x3')), op_0_to_2 (string ('none', 'skip_connect', 'avg_pool_3x3', 'nor_conv_1x1', 'nor_conv_3x3')), op_0_to_3 (string ('none', 'skip_connect', 'avg_pool_3x3', 'nor_conv_1x1', 'nor_conv_3x3')), op_1_to_2 (string ('none', 'skip_connect', 'avg_pool_3x3', 'nor_conv_1x1', 'nor_conv_3x3')), op_1_to_3 (string ('none', 'skip_connect', 'avg_pool_3x3', 'nor_conv_1x1', 'nor_conv_3x3')), op_2_to_3 (string ('none', 'skip_connect', 'avg_pool_3x3', 'nor_conv_1x1', 'nor_conv_3x3')).\n",
      "Provide 5 diverse and efficient configuration suggestions to commence a Bayesian Optimization procedure aimed at fine-tuning hyperparameters. These configurations should be carefully customized to suit the characteristics of the dataset at hand. You can include ‘None’ in the configurations. Your response should include only a list of dictionaries, where each dictionary describes one recommended configuration. Do not enumerate the dictionaries. The list of dictionaries should be wrapped with square brackets [], and each dictionary should be wrapped with curly brackets {}. Here is an example of the response format: ``` [     {         \"op_0_to_1\": \"skip_connect\",         \"op_0_to_2\": \"avg_pool_3x3\",         \"op_0_to_3\": \"nor_conv_1x1\",         \"op_1_to_2\": \"none\",         \"op_1_to_3\": \"nor_conv_3x3\",         \"op_2_to_3\": \"skip_connect\"     },     {         \"op_0_to_1\": \"avg_pool_3x3\",         \"op_0_to_2\": \"nor_conv_1x1\",         \"op_0_to_3\": \"none\",         \"op_1_to_2\": \"skip_connect\",         \"op_1_to_3\": \"avg_pool_3x3\",         \"op_2_to_3\": \"nor_conv_3x3\"     },     {         \"op_0_to_1\": \"nor_conv_3x3\",         \"op_0_to_2\": \"skip_connect\",         \"op_0_to_3\": \"avg_pool_3x3\",         \"op_1_to_2\": \"none\",         \"op_1_to_3\": \"skip_connect\",         \"op_2_to_3\": \"nor_conv_1x1\"     },     {         \"op_0_to_1\": \"None\",         \"op_0_to_2\": \"avg_pool_3x3\",         \"op_0_to_3\": \"none\",         \"op_1_to_2\": \"skip_connect\",         \"op_1_to_3\": \"nor_conv_3x3\",         \"op_2_to_3\": \"skip_connect\"     },     {         \"op_0_to_1\": \"nor_conv_1x1\",         \"op_0_to_2\": \"none\",         \"op_0_to_3\": \"avg_pool_3x3\",         \"op_1_to_2\": \"avg_pool_3x3\",         \"op_1_to_3\": \"skip_connect\",         \"op_2_to_3\": \"nor_conv_1x1\"     } ] ```\n",
      "fail\n"
     ]
    },
    {
     "ename": "AssertionError",
     "evalue": "init_f() should return a list of configs (dictionaries)",
     "output_type": "error",
     "traceback": [
      "\u001B[0;31m---------------------------------------------------------------------------\u001B[0m",
      "\u001B[0;31mAssertionError\u001B[0m                            Traceback (most recent call last)",
      "Cell \u001B[0;32mIn[15], line 25\u001B[0m\n\u001B[1;32m     20\u001B[0m blackbox \u001B[38;5;241m=\u001B[39m trial_backend\u001B[38;5;241m.\u001B[39mblackbox\n\u001B[1;32m     21\u001B[0m nas_configuration_space \u001B[38;5;241m=\u001B[39m blackbox\u001B[38;5;241m.\u001B[39mconfiguration_space_with_max_resource_attr(\n\u001B[1;32m     22\u001B[0m     max_resource_attr\n\u001B[1;32m     23\u001B[0m )\n\u001B[0;32m---> 25\u001B[0m points_to_evaluate \u001B[38;5;241m=\u001B[39m \u001B[43mllambo\u001B[49m\u001B[38;5;241;43m.\u001B[39;49m\u001B[43minitialize_configs\u001B[49m\u001B[43m(\u001B[49m\u001B[38;5;241;43m5\u001B[39;49m\u001B[43m)\u001B[49m\n\u001B[1;32m     26\u001B[0m points_to_evaluate \u001B[38;5;241m=\u001B[39m convert_LLAMBO_df_to_synetune_dict(points_to_evaluate)\n\u001B[1;32m     27\u001B[0m scheduler \u001B[38;5;241m=\u001B[39m SynchronousGeometricHyperbandScheduler(\n\u001B[1;32m     28\u001B[0m     config_space\u001B[38;5;241m=\u001B[39mnas_configuration_space,\n\u001B[1;32m     29\u001B[0m     max_resource_attr\u001B[38;5;241m=\u001B[39mmax_resource_attr,\n\u001B[0;32m   (...)\u001B[0m\n\u001B[1;32m     37\u001B[0m     max_resource_level\u001B[38;5;241m=\u001B[39m\u001B[38;5;241m2\u001B[39m,\n\u001B[1;32m     38\u001B[0m )\n",
      "File \u001B[0;32m~/E/Personal/MasterStudies-UniversityOfFreiburg/SecondSemester/DeepLearningLab/Project/ModifiedProject/llambo/llambo.py:269\u001B[0m, in \u001B[0;36mLLAMBO.initialize_configs\u001B[0;34m(self, num_samples)\u001B[0m\n\u001B[1;32m    266\u001B[0m \u001B[38;5;28;01mdef\u001B[39;00m \u001B[38;5;21minitialize_configs\u001B[39m(\u001B[38;5;28mself\u001B[39m, num_samples):\n\u001B[1;32m    267\u001B[0m     init_configs \u001B[38;5;241m=\u001B[39m \u001B[38;5;28mself\u001B[39m\u001B[38;5;241m.\u001B[39minit_f(num_samples)\n\u001B[0;32m--> 269\u001B[0m     \u001B[38;5;28;01massert\u001B[39;00m \u001B[38;5;28misinstance\u001B[39m(init_configs, \u001B[38;5;28mlist\u001B[39m), \u001B[38;5;124m'\u001B[39m\u001B[38;5;124minit_f() should return a list of configs (dictionaries)\u001B[39m\u001B[38;5;124m'\u001B[39m\n\u001B[1;32m    270\u001B[0m     \u001B[38;5;28;01mfor\u001B[39;00m item \u001B[38;5;129;01min\u001B[39;00m init_configs:\n\u001B[1;32m    271\u001B[0m         \u001B[38;5;28;01massert\u001B[39;00m \u001B[38;5;28misinstance\u001B[39m(item, \u001B[38;5;28mdict\u001B[39m), \u001B[38;5;124m'\u001B[39m\u001B[38;5;124minit_f() should return a list of configs (dictionaries)\u001B[39m\u001B[38;5;124m'\u001B[39m\n",
      "\u001B[0;31mAssertionError\u001B[0m: init_f() should return a list of configs (dictionaries)"
     ]
    }
   ],
   "execution_count": 15
  },
  {
   "metadata": {},
   "cell_type": "code",
   "source": [
    "import openai\n",
    "\n",
    "openai.api_key = 'sk-proj-cTiFSkfqsowfmg6FId0iT3BlbkFJfDi43ms9k13R9bKElYE1'\n",
    "response = openai.ChatCompletion.create(\n",
    "  model=\"gpt-4o-mini\",\n",
    "  messages=[\n",
    "    {\"role\": \"system\", \"content\": \"You are a helpful assistant.\"},\n",
    "    {\"role\": \"user\", \"content\": \"Who won the world series in 2020?\"},\n",
    "    {\"role\": \"assistant\", \"content\": \"The Los Angeles Dodgers won the World Series in 2020.\"},\n",
    "    {\"role\": \"user\", \"content\": \"Where was it played?\"}\n",
    "  ]\n",
    ")"
   ],
   "outputs": [],
   "execution_count": null
  },
  {
   "metadata": {},
   "cell_type": "code",
   "source": [
    "llambo = LLAMBO(task_context, sm_mode='discriminative', n_candidates=10, n_templates=2, n_gens=10,\n",
    "                alpha=0.1, n_initial_samples=5, n_trials=4,\n",
    "                init_f=generate_init_conf,\n",
    "                bbox_eval_f=eval_point,\n",
    "                chat_engine=\"gpt-4o-mini\")\n",
    "llambo.seed = 0\n",
    "\n",
    "# run optimization\n",
    "# configs, fvals = llambo.optimize(test_metric=\"score\")"
   ],
   "outputs": [],
   "execution_count": null
  }
 ],
 "metadata": {
  "kernelspec": {
   "display_name": "Python 3",
   "language": "python",
   "name": "python3"
  },
  "language_info": {
   "codemirror_mode": {
    "name": "ipython",
    "version": 2
   },
   "file_extension": ".py",
   "mimetype": "text/x-python",
   "name": "python",
   "nbconvert_exporter": "python",
   "pygments_lexer": "ipython2",
   "version": "2.7.6"
  }
 },
 "nbformat": 4,
 "nbformat_minor": 0
}
