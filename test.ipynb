{
 "cells": [
  {
   "cell_type": "markdown",
   "source": [
    "Imports"
   ],
   "metadata": {
    "collapsed": false
   }
  },
  {
   "cell_type": "code",
   "metadata": {
    "collapsed": true,
    "ExecuteTime": {
     "end_time": "2024-07-25T22:19:09.730946Z",
     "start_time": "2024-07-25T22:19:00.110768Z"
    }
   },
   "source": [
    "from nb201 import NB201Benchmark\n",
    "import numpy as np\n",
    "from warmstart.utils_templates import FullTemplate\n",
    "import ConfigSpace as CS\n",
    "from ConfigSpace import Configuration\n",
    "import ollama\n",
    "import openai\n",
    "from openai import AsyncOpenAI\n",
    "from openai import OpenAI\n",
    "import torchvision\n",
    "from exp_baselines.bayesmark.data import ProblemType\n",
    "import ast\n",
    "from llambo.llambo import LLAMBO\n",
    "from utils import convert_LLAMBO_df_to_synetune_dict\n",
    "from utils import convert_synetune_dict_to_LLAMBO_compatible_format\n",
    "\n",
    "from syne_tune_local.experiments.benchmark_definitions.nas201 import nas201_benchmark\n",
    "from syne_tune_local.blackbox_repository import BlackboxRepositoryBackend\n",
    "from syne_tune_local.backend.simulator_backend.simulator_callback import SimulatorCallback\n",
    "from syne_tune_local import Tuner, StoppingCriterion\n",
    "\n",
    "from typing import Optional, Dict, Any, List, Union\n",
    "import logging\n",
    "from syne_tune_local.optimizer.schedulers import FIFOScheduler\n",
    "from syne_tune_local.optimizer.schedulers.searchers import StochasticAndFilterDuplicatesSearcher\n",
    "\n",
    "openai.api_type = 'open_ai'\n",
    "openai.api_version = '2020-11-07'\n",
    "openai.api_base = 'https://api.openai.com/'\n",
    "openai.api_key = 'sk-proj-cTiFSkfqsowfmg6FId0iT3BlbkFJfDi43ms9k13R9bKElYE1'"
   ],
   "outputs": [
    {
     "name": "stdout",
     "output_type": "stream",
     "text": [
      "sagemaker.config INFO - Not applying SDK defaults from location: /Library/Application Support/sagemaker/config.yaml\n",
      "sagemaker.config INFO - Not applying SDK defaults from location: /Users/e.lushtaku/Library/Application Support/sagemaker/config.yaml\n",
      "Dependencies of YAHPO are not imported since dependencies are missing. You can install them with\n",
      "   pip install 'syne-tune[yahpo]'\n",
      "or (for everything)\n",
      "   pip install 'syne-tune[extra]'\n",
      "Dependencies of YAHPO are not imported since dependencies are missing. You can install them with\n",
      "   pip install 'syne-tune[yahpo]'\n",
      "or (for everything)\n",
      "   pip install 'syne-tune[extra]'\n"
     ]
    }
   ],
   "execution_count": 1
  },
  {
   "cell_type": "markdown",
   "source": [
    "Load NB201 Benchmark"
   ],
   "metadata": {
    "collapsed": false
   }
  },
  {
   "cell_type": "code",
   "source": [
    "b = NB201Benchmark(path=\"./nb201.pkl\", dataset='cifar10')\n",
    "cs = b.get_configuration_space()\n",
    "config = cs.sample_configuration()  # samples a configuration uniformly at random\n",
    "\n",
    "print(cs)\n",
    "print(\"Numpy representation: \", config.get_array())\n",
    "print(\"Dict representation: \", config.get_dictionary())\n",
    "\n",
    "#configuration from a dict\n",
    "new_config = Configuration(cs, values=config.get_dictionary())\n",
    "print(new_config)\n",
    "\n",
    "y, cost = b.objective_function(config)\n",
    "print(\"Test error: %f %%\" % y)\n",
    "print(\"Runtime %f s\" % cost)"
   ],
   "metadata": {
    "collapsed": false,
    "ExecuteTime": {
     "end_time": "2024-07-25T22:19:09.767843Z",
     "start_time": "2024-07-25T22:19:09.732122Z"
    }
   },
   "outputs": [
    {
     "name": "stdout",
     "output_type": "stream",
     "text": [
      "Configuration space object:\n",
      "  Hyperparameters:\n",
      "    op_0_to_1, Type: Categorical, Choices: {none, skip_connect, avg_pool_3x3, nor_conv_1x1, nor_conv_3x3}, Default: none\n",
      "    op_0_to_2, Type: Categorical, Choices: {none, skip_connect, avg_pool_3x3, nor_conv_1x1, nor_conv_3x3}, Default: none\n",
      "    op_0_to_3, Type: Categorical, Choices: {none, skip_connect, avg_pool_3x3, nor_conv_1x1, nor_conv_3x3}, Default: none\n",
      "    op_1_to_2, Type: Categorical, Choices: {none, skip_connect, avg_pool_3x3, nor_conv_1x1, nor_conv_3x3}, Default: none\n",
      "    op_1_to_3, Type: Categorical, Choices: {none, skip_connect, avg_pool_3x3, nor_conv_1x1, nor_conv_3x3}, Default: none\n",
      "    op_2_to_3, Type: Categorical, Choices: {none, skip_connect, avg_pool_3x3, nor_conv_1x1, nor_conv_3x3}, Default: none\n",
      "\n",
      "Numpy representation:  [0. 0. 3. 0. 0. 4.]\n",
      "Dict representation:  {'op_0_to_1': 'none', 'op_0_to_2': 'none', 'op_0_to_3': 'nor_conv_1x1', 'op_1_to_2': 'none', 'op_1_to_3': 'none', 'op_2_to_3': 'nor_conv_3x3'}\n",
      "Configuration(values={\n",
      "  'op_0_to_1': 'none',\n",
      "  'op_0_to_2': 'none',\n",
      "  'op_0_to_3': 'nor_conv_1x1',\n",
      "  'op_1_to_2': 'none',\n",
      "  'op_1_to_3': 'none',\n",
      "  'op_2_to_3': 'nor_conv_3x3',\n",
      "})\n",
      "Test error: 90.000000 %\n",
      "Runtime 2724.541724 s\n"
     ]
    },
    {
     "name": "stderr",
     "output_type": "stream",
     "text": [
      "/var/folders/b0/nhhvw1x54fggv0t8nzr9s4xm0000gp/T/ipykernel_84265/2721149981.py:7: DeprecationWarning: `Configuration` act's like a dictionary. Please use `dict(config)` instead of `get_dictionary` if you explicitly need a `dict`\n",
      "  print(\"Dict representation: \", config.get_dictionary())\n",
      "/var/folders/b0/nhhvw1x54fggv0t8nzr9s4xm0000gp/T/ipykernel_84265/2721149981.py:10: DeprecationWarning: `Configuration` act's like a dictionary. Please use `dict(config)` instead of `get_dictionary` if you explicitly need a `dict`\n",
      "  new_config = Configuration(cs, values=config.get_dictionary())\n"
     ]
    }
   ],
   "execution_count": 2
  },
  {
   "cell_type": "markdown",
   "source": [
    "Arguments for LLAMBO"
   ],
   "metadata": {
    "collapsed": false
   }
  },
  {
   "cell_type": "code",
   "source": [
    "task_context = {\n",
    "    'model': 'CNN',\n",
    "    'task': 'classification',\n",
    "    'metric': 'validation_loss',\n",
    "    'num_samples': 50000,\n",
    "    'image_size': 'height 32, width 32, and 3 channels',\n",
    "    'num_feat': 32 * 32 * 3,\n",
    "    'tot_feats': 32 * 32 * 3,\n",
    "    'cat_feats': 0,\n",
    "    'n_classes': 10,\n",
    "    'lower_is_better': True,\n",
    "    'hyperparameter_constraints': {\n",
    "        'op_0_to_1': ['categorical', None, [\"none\", \"skip_connect\", \"avg_pool_3x3\", \"nor_conv_1x1\", \"nor_conv_3x3\"]],\n",
    "        # [type, transform, [min_value, max_value]]\n",
    "        'op_0_to_2': ['categorical', None, [\"none\", \"skip_connect\", \"avg_pool_3x3\", \"nor_conv_1x1\", \"nor_conv_3x3\"]],\n",
    "        'op_0_to_3': ['categorical', None, [\"none\", \"skip_connect\", \"avg_pool_3x3\", \"nor_conv_1x1\", \"nor_conv_3x3\"]],\n",
    "        'op_1_to_2': ['categorical', None, [\"none\", \"skip_connect\", \"avg_pool_3x3\", \"nor_conv_1x1\", \"nor_conv_3x3\"]],\n",
    "        'op_1_to_3': ['categorical', None, [\"none\", \"skip_connect\", \"avg_pool_3x3\", \"nor_conv_1x1\", \"nor_conv_3x3\"]],\n",
    "        'op_2_to_3': ['categorical', None, [\"none\", \"skip_connect\", \"avg_pool_3x3\", \"nor_conv_1x1\", \"nor_conv_3x3\"]]\n",
    "    }\n",
    "}\n",
    "\n",
    "def eval_point(config):\n",
    "    new_config = Configuration(b.get_configuration_space(), values=config)\n",
    "    res = b.objective_function(new_config)\n",
    "    res_dict = {\n",
    "        \"score\": res[0],\n",
    "        \"train_time\": res[1]\n",
    "    }\n",
    "    return config, res_dict"
   ],
   "metadata": {
    "collapsed": false,
    "ExecuteTime": {
     "end_time": "2024-07-25T22:19:09.772900Z",
     "start_time": "2024-07-25T22:19:09.768649Z"
    }
   },
   "outputs": [],
   "execution_count": 3
  },
  {
   "cell_type": "markdown",
   "source": [
    "Ollama"
   ],
   "metadata": {
    "collapsed": false
   }
  },
  {
   "cell_type": "code",
   "source": [
    "# chat_engine = \"llama3\"\n",
    "# model = ollama.pull(chat_engine)\n",
    "# response = ollama.chat(model=\"llama3\", messages=[{'role': 'user', 'content': 'Why is the sky blue?'}])\n",
    "# print(response)\n",
    "# ollama.list()"
   ],
   "metadata": {
    "collapsed": false,
    "ExecuteTime": {
     "end_time": "2024-07-25T22:19:09.777594Z",
     "start_time": "2024-07-25T22:19:09.774541Z"
    }
   },
   "outputs": [],
   "execution_count": 4
  },
  {
   "cell_type": "code",
   "source": [
    "trainset = torchvision.datasets.CIFAR10(root='./data', train=True,\n",
    "                                        download=True)\n",
    "\n",
    "\n",
    "def fetch_statistics(dict, dataset):\n",
    "    class_names = ['Airplane', 'Automobile', 'Bird', 'Cat', 'Deer', 'Dog', 'Frog', 'Horse', 'Ship', 'Truck']\n",
    "    images = dataset.data\n",
    "    labels = dataset.targets\n",
    "\n",
    "    images_np = np.array(images)\n",
    "    labels_np = np.array(labels)\n",
    "\n",
    "    pixel_mean = np.mean(images_np / 255.)\n",
    "    pixel_std = np.std(images_np / 255.)\n",
    "\n",
    "    class_counts = np.bincount(labels_np)\n",
    "    class_distribution = class_counts / len(labels_np)\n",
    "\n",
    "    # Constructing the descriptive string for class distribution with class names\n",
    "    class_distribution_str = \", \".join(\n",
    "        f\"{distribution * 100:.2f}% of datapoints belong to class {labels_np[i]}: {class_names[i]}\"\n",
    "        for i, distribution in enumerate(class_distribution) if i < len(labels_np)\n",
    "    )\n",
    "    print('class_distribution_str', class_distribution_str)\n",
    "    dict['pixel_mean'] = pixel_mean\n",
    "    dict['pixel_std'] = pixel_std\n",
    "    dict['class_distribution'] = class_distribution_str\n",
    "\n",
    "    return dict\n",
    "\n",
    "\n",
    "task_context = fetch_statistics(task_context, trainset)"
   ],
   "metadata": {
    "collapsed": false,
    "ExecuteTime": {
     "end_time": "2024-07-25T22:19:11.234671Z",
     "start_time": "2024-07-25T22:19:09.778445Z"
    }
   },
   "outputs": [
    {
     "name": "stdout",
     "output_type": "stream",
     "text": [
      "Files already downloaded and verified\n",
      "class_distribution_str 10.00% of datapoints belong to class 6: Airplane, 10.00% of datapoints belong to class 9: Automobile, 10.00% of datapoints belong to class 9: Bird, 10.00% of datapoints belong to class 4: Cat, 10.00% of datapoints belong to class 1: Deer, 10.00% of datapoints belong to class 1: Dog, 10.00% of datapoints belong to class 2: Frog, 10.00% of datapoints belong to class 7: Horse, 10.00% of datapoints belong to class 8: Ship, 10.00% of datapoints belong to class 3: Truck\n"
     ]
    }
   ],
   "execution_count": 5
  },
  {
   "cell_type": "markdown",
   "source": [
    "Warmstart"
   ],
   "metadata": {
    "collapsed": false,
    "ExecuteTime": {
     "end_time": "2024-07-16T21:50:50.906679200Z",
     "start_time": "2024-07-16T21:50:50.879733200Z"
    }
   }
  },
  {
   "cell_type": "code",
   "source": [
    "context = \"Full_Context\"\n",
    "chat_engine = \"gpt-4o-mini\"\n",
    "# metric = \"acc\"\n",
    "# NUM_SEEDS = 10\n",
    "# problem_type = ProblemType.clf\n",
    "\n",
    "\n",
    "def extract_configs_from_response(response):\n",
    "    # content = response['message']['content']\n",
    "    content = response.choices[0].message.content\n",
    "    print('content', content)\n",
    "    start = content.find(\"[\")\n",
    "    end = content.rfind(\"]\") + 1\n",
    "    list_str = content[start:end]\n",
    "    configurations = ast.literal_eval(list_str)\n",
    "    return configurations\n",
    "\n",
    "\n",
    "def is_dict_valid_in_config_space(d, config_space):\n",
    "    try:\n",
    "        # Attempt to create a Configuration object with the given dictionary and config space\n",
    "        config = CS.Configuration(config_space, values=d)\n",
    "        return True\n",
    "    except:\n",
    "        # Return False if the dictionary is not valid\n",
    "        return False\n",
    "    # Function to check if all dictionaries in a list are valid in the given configuration space\n",
    "\n",
    "\n",
    "def check_all_list(parsed_dicts, config_space):\n",
    "    for idx, d in enumerate(parsed_dicts):\n",
    "        if not is_dict_valid_in_config_space(d, config_space):\n",
    "            return False\n",
    "    return True\n",
    "\n",
    "\n",
    "def obtain_all_list_valid(resp, config_space):\n",
    "    if check_all_list(resp, config_space):\n",
    "        return resp\n",
    "    print(\"fail\")\n",
    "\n",
    "\n",
    "def generate_init_conf(n_samples, client):\n",
    "    template_object = FullTemplate(context=context, provide_ranges=True)\n",
    "    user_message = template_object.add_context(config_space=cs, num_recommendation=n_samples, task_dict=task_context)\n",
    "    print(user_message)\n",
    "\n",
    "    messages = []\n",
    "    messages.append({\"role\": \"system\", \"content\": \"You are an AI assistant that helps people find information.\"})\n",
    "    messages.append({\"role\": \"user\", \"content\": user_message})\n",
    "\n",
    "    client = OpenAI(\n",
    "        organization='org-HIWwqsnxyBU3xMl6PkwdjxdN',\n",
    "        project='proj_g30ZlMFGBNu4qsUctIhNI5B3',\n",
    "        api_key='sk-proj-cTiFSkfqsowfmg6FId0iT3BlbkFJfDi43ms9k13R9bKElYE1'\n",
    "    )\n",
    "    \n",
    "    response = client.chat.completions.create(\n",
    "        model=\"gpt-4o-mini\",\n",
    "        messages=messages,\n",
    "        temperature=0.7,\n",
    "        max_tokens=4000,\n",
    "        top_p=0.95,\n",
    "        n=max(5, 3),  # e.g. for 5 templates, get 2 generations per template\n",
    "        timeout=100\n",
    "    )\n",
    "    # response = openai.ChatCompletion.create(\n",
    "    #                     engine=chat_engine,\n",
    "    #                     messages=message,\n",
    "    #                     temperature=0.7,\n",
    "    #                     max_tokens=8,\n",
    "    #                     top_p=0.95,\n",
    "    #                     n=max(5, 3),  # e.g. for 5 templates, get 2 generations per template\n",
    "    #                     request_timeout=10\n",
    "    #                 )\n",
    "\n",
    "    configs = extract_configs_from_response(response)\n",
    "\n",
    "    return obtain_all_list_valid(configs, cs)\n",
    "\n",
    "#print(generate_init_conf(3))"
   ],
   "metadata": {
    "collapsed": false,
    "ExecuteTime": {
     "end_time": "2024-07-25T22:19:11.241018Z",
     "start_time": "2024-07-25T22:19:11.235582Z"
    }
   },
   "outputs": [],
   "execution_count": 6
  },
  {
   "cell_type": "markdown",
   "source": [
    "Llambo"
   ],
   "metadata": {
    "collapsed": false,
    "ExecuteTime": {
     "end_time": "2024-07-16T21:50:50.916420200Z",
     "start_time": "2024-07-16T21:50:50.906679200Z"
    }
   }
  },
  {
   "cell_type": "code",
   "source": [
    "# llambo = LLAMBO(task_context, sm_mode='discriminative', n_candidates=10, n_templates=2, n_gens=10,\n",
    "#                 alpha=0.1, n_initial_samples=5, n_trials=4,\n",
    "#                 init_f=generate_init_conf,\n",
    "#                 bbox_eval_f=eval_point,\n",
    "#                 chat_engine=\"llama3\")\n",
    "# llambo.seed = 0\n",
    "# \n",
    "# # run optimization\n",
    "# # configs, fvals = llambo.optimize(test_metric=\"score\")"
   ],
   "metadata": {
    "collapsed": false,
    "ExecuteTime": {
     "end_time": "2024-07-25T22:19:11.248764Z",
     "start_time": "2024-07-25T22:19:11.242069Z"
    }
   },
   "outputs": [],
   "execution_count": 7
  },
  {
   "cell_type": "markdown",
   "source": [
    "Searcher"
   ],
   "metadata": {
    "collapsed": false,
    "ExecuteTime": {
     "end_time": "2024-07-16T21:49:55.022268800Z",
     "start_time": "2024-07-16T21:49:53.636741500Z"
    }
   }
  },
  {
   "cell_type": "code",
   "source": [
    "\n",
    "logger = logging.getLogger(__name__)\n",
    "\n",
    "MAX_RETRIES = 100\n",
    "\n",
    "\n",
    "class LlamboSearcher(StochasticAndFilterDuplicatesSearcher):\n",
    "\n",
    "    def __init__(\n",
    "            self,\n",
    "            config_space: Dict[str, Any],\n",
    "            metric: Union[List[str], str],\n",
    "            points_to_evaluate: Optional[List[dict]] = None,\n",
    "            **kwargs,\n",
    "    ):\n",
    "        super().__init__(\n",
    "            config_space,\n",
    "            metric=metric,\n",
    "            points_to_evaluate=points_to_evaluate,\n",
    "            **kwargs,\n",
    "        )\n",
    "        self.X = []\n",
    "        self.y = []\n",
    "\n",
    "    def configure_scheduler(self, scheduler):\n",
    "        from syne_tune_local.optimizer.schedulers.scheduler_searcher import (\n",
    "            TrialSchedulerWithSearcher,\n",
    "        )\n",
    "\n",
    "        assert isinstance(\n",
    "            scheduler, TrialSchedulerWithSearcher\n",
    "        ), \"This searcher requires TrialSchedulerWithSearcher scheduler\"\n",
    "        super().configure_scheduler(scheduler)\n",
    "\n",
    "    def _train_model(self, train_data: np.ndarray, train_targets: np.ndarray) -> bool:\n",
    "        \"\"\"\n",
    "        :param train_data: Training input feature matrix X\n",
    "        :param train_targets: Training targets y\n",
    "        :return: Was training successful?\n",
    "        \"\"\"\n",
    "        llambo._update_observations(train_data, train_targets)\n",
    "        return True\n",
    "    \n",
    "    def get_state(self) -> Dict[str, Any]:\n",
    "        return dict(\n",
    "            super().get_state(),\n",
    "        )\n",
    "\n",
    "    def _restore_from_state(self, state: Dict[str, Any]):\n",
    "        super()._restore_from_state(state)\n",
    "\n",
    "    def get_config(self, **kwargs) -> Optional[Dict[str, Any]]:\n",
    "        suggestion = self._next_initial_config()\n",
    "        if suggestion is None:\n",
    "            if self.y:\n",
    "                if self._train_model(np.array(self.X), np.array(self.y)):\n",
    "                    suggestion = convert_LLAMBO_df_to_synetune_dict(llambo.get_config())\n",
    "            \n",
    "        return suggestion\n",
    "        \n",
    "    def _update(self, trial_id: str, config: Dict[str, Any], result: Dict[str, Any]):\n",
    "        self.X.append(convert_synetune_dict_to_LLAMBO_compatible_format(config))\n",
    "        self.y.append(result)\n",
    "        \n",
    "    def clone_from_state(self, state: Dict[str, Any]):\n",
    "        raise NotImplementedError\n"
   ],
   "metadata": {
    "collapsed": false,
    "ExecuteTime": {
     "end_time": "2024-07-25T22:19:11.255106Z",
     "start_time": "2024-07-25T22:19:11.249668Z"
    }
   },
   "outputs": [],
   "execution_count": 8
  },
  {
   "metadata": {
    "ExecuteTime": {
     "end_time": "2024-07-25T22:19:11.262112Z",
     "start_time": "2024-07-25T22:19:11.256076Z"
    }
   },
   "cell_type": "code",
   "source": [
    "\n",
    "logger = logging.getLogger(__name__)\n",
    "\n",
    "MAX_RETRIES = 100\n",
    "\n",
    "\n",
    "class MultiFidelityLLamboSearcher(LlamboSearcher):\n",
    "\n",
    "    def __init__(\n",
    "            self,\n",
    "            config_space: Dict[str, Any],\n",
    "            metric: Union[List[str], str],\n",
    "            points_to_evaluate: Optional[List[dict]] = None,\n",
    "            resource_attr: Optional[str] = None,\n",
    "            **kwargs,\n",
    "    ):\n",
    "        super().__init__(\n",
    "            config_space,\n",
    "            metric=metric,\n",
    "            points_to_evaluate=points_to_evaluate,\n",
    "            **kwargs,\n",
    "        )\n",
    "        self.resource_attr = resource_attr\n",
    "        self.resource_levels = []\n",
    "\n",
    "    def configure_scheduler(self, scheduler):\n",
    "        from syne_tune_local.optimizer.schedulers.multi_fidelity import (\n",
    "            MultiFidelitySchedulerMixin,\n",
    "        )\n",
    "\n",
    "        super().configure_scheduler(scheduler)\n",
    "        assert isinstance(\n",
    "            scheduler, MultiFidelitySchedulerMixin\n",
    "        ), \"This searcher requires MultiFidelitySchedulerMixin scheduler\"\n",
    "        self.resource_attr = scheduler.resource_attr\n",
    "       \n",
    "    def _train_model(self, train_data: np.ndarray, train_targets: np.ndarray) -> bool:\n",
    "        highest_resource_level = self._highest_resource_model_can_fit()\n",
    "        if highest_resource_level is None:\n",
    "            return False\n",
    "        else:\n",
    "            indices = np.where(self.resource_levels == highest_resource_level)\n",
    "            sub_data = train_data[indices]\n",
    "            sub_targets = train_targets[indices]\n",
    "        return super()._train_model(sub_data, sub_targets)\n",
    "     \n",
    "    def _highest_resource_model_can_fit(self) -> Optional[int]:\n",
    "        # find the highest resource level we have at least one data points of the positive class\n",
    "        min_data_points = 4\n",
    "        unique_resource_levels, counts = np.unique(\n",
    "            self.resource_levels, return_counts=True\n",
    "        )\n",
    "        idx = np.where(counts >= min_data_points)[0]\n",
    "\n",
    "        if len(idx) == 0:\n",
    "            return None\n",
    "\n",
    "        # collect data on the highest resource level\n",
    "        return unique_resource_levels[idx[-1]]\n",
    "    \n",
    "    def get_state(self) -> Dict[str, Any]:\n",
    "        return dict(\n",
    "            super().get_state(),\n",
    "        )\n",
    "\n",
    "    def _restore_from_state(self, state: Dict[str, Any]):\n",
    "        super()._restore_from_state(state)\n",
    "\n",
    "    def _update(self, trial_id: str, config: Dict, result: Dict):\n",
    "        super()._update(trial_id=trial_id, config=config, result=result)\n",
    "        resource_level = int(result[self.resource_attr])\n",
    "        self.resource_levels.append(resource_level)\n"
   ],
   "outputs": [],
   "execution_count": 9
  },
  {
   "cell_type": "markdown",
   "source": [
    "Simple searcher combined with LLAMBO"
   ],
   "metadata": {
    "collapsed": false
   }
  },
  {
   "cell_type": "code",
   "source": [
    "# from syne_tune_local.optimizer.schedulers.synchronous import SynchronousGeometricHyperbandScheduler\n",
    "# \n",
    "# logging.getLogger().setLevel(logging.WARNING)\n",
    "# \n",
    "# random_seed = 1\n",
    "# nb201_random_seed = 0\n",
    "# n_workers = 1\n",
    "# dataset_name = \"cifar10\"\n",
    "# benchmark = nas201_benchmark(dataset_name)\n",
    "# \n",
    "# max_resource_attr = benchmark.max_resource_attr\n",
    "# trial_backend = BlackboxRepositoryBackend(\n",
    "#     blackbox_name=benchmark.blackbox_name,\n",
    "#     elapsed_time_attr=benchmark.elapsed_time_attr,\n",
    "#     max_resource_attr=max_resource_attr,\n",
    "#     dataset=dataset_name,\n",
    "#     seed=nb201_random_seed,\n",
    "# )\n",
    "# \n",
    "# blackbox = trial_backend.blackbox\n",
    "# nas_configuration_space = blackbox.configuration_space_with_max_resource_attr(\n",
    "#     max_resource_attr\n",
    "# )\n",
    "# \n",
    "# points_to_evaluate = llambo.initialize_configs(5)\n",
    "# points_to_evaluate = convert_LLAMBO_df_to_synetune_dict(points_to_evaluate)\n",
    "# scheduler = SynchronousGeometricHyperbandScheduler(\n",
    "#     config_space=nas_configuration_space,\n",
    "#     max_resource_attr=max_resource_attr,\n",
    "#     mode=benchmark.mode,\n",
    "#     metric=benchmark.metric,\n",
    "#     random_seed=random_seed,\n",
    "#     searcher=MultiFidelityLLamboSearcher,\n",
    "#     resource_attr=blackbox.fidelity_name(),\n",
    "#     points_to_evaluate=points_to_evaluate,\n",
    "#     brackets=1,\n",
    "#     max_resource_level=2,\n",
    "# )\n",
    "# \n",
    "# max_wallclock_time = 300 # seconds\n",
    "# stop_criterion = StoppingCriterion(max_wallclock_time=max_wallclock_time)\n",
    "# print_update_interval = 700\n",
    "# results_update_interval = 300\n",
    "# tuner = Tuner(\n",
    "#     trial_backend=trial_backend,\n",
    "#     scheduler=scheduler,\n",
    "#     stop_criterion=stop_criterion,\n",
    "#     n_workers=n_workers,\n",
    "#     sleep_time=0,\n",
    "#     results_update_interval=results_update_interval,\n",
    "#     print_update_interval=print_update_interval,\n",
    "#     callbacks=[SimulatorCallback()],\n",
    "# )\n",
    "# \n",
    "# tuner.run()"
   ],
   "metadata": {
    "collapsed": false,
    "ExecuteTime": {
     "end_time": "2024-07-25T22:19:11.266177Z",
     "start_time": "2024-07-25T22:19:11.264026Z"
    }
   },
   "outputs": [],
   "execution_count": 10
  },
  {
   "metadata": {
    "ExecuteTime": {
     "end_time": "2024-07-25T22:19:11.269287Z",
     "start_time": "2024-07-25T22:19:11.266772Z"
    }
   },
   "cell_type": "code",
   "source": [
    "# import os\n",
    "# import openai\n",
    "# \n",
    "# openai.api_type = 'open_ai'\n",
    "# openai.api_version = '2020-11-07'\n",
    "# openai.api_base = 'https://api.openai.com/v1'\n",
    "# \n",
    "# openai.api_key = 'sk-proj-cTiFSkfqsowfmg6FId0iT3BlbkFJfDi43ms9k13R9bKElYE1'\n",
    "# \n",
    "# # response = openai.ChatCompletion.create(\n",
    "# #   model=\"gpt-4o-mini\",\n",
    "# #   messages=[\n",
    "# #     {\"role\": \"system\", \"content\": \"You are a helpful assistant.\"},\n",
    "# #     {\"role\": \"user\", \"content\": \"Who won the world series in 2020?\"},\n",
    "# #     {\"role\": \"assistant\", \"content\": \"The Los Angeles Dodgers won the World Series in 2020.\"},\n",
    "# #     {\"role\": \"user\", \"content\": \"Where was it played?\"}\n",
    "# #   ]\n",
    "# # )\n",
    "# # print(response)\n",
    "# \n",
    "# client = AsyncOpenAI(\n",
    "#     organization='org-HIWwqsnxyBU3xMl6PkwdjxdN',\n",
    "#     project='proj_g30ZlMFGBNu4qsUctIhNI5B3',\n",
    "#     api_key='sk-proj-cTiFSkfqsowfmg6FId0iT3BlbkFJfDi43ms9k13R9bKElYE1'\n",
    "# )\n",
    "# \n",
    "# response = client.chat.completions.create(\n",
    "#     model=\"gpt-4o-mini\",\n",
    "#     messages=[{\"role\": \"user\", \"content\": \"Say this is a test\"}],\n",
    "#     \n",
    "# )\n",
    "# \n",
    "# print(response.choices[0].message.content)"
   ],
   "outputs": [],
   "execution_count": 11
  },
  {
   "metadata": {
    "ExecuteTime": {
     "end_time": "2024-07-25T22:19:11.279207Z",
     "start_time": "2024-07-25T22:19:11.270089Z"
    }
   },
   "cell_type": "code",
   "source": [
    "client = AsyncOpenAI(\n",
    "    organization='org-HIWwqsnxyBU3xMl6PkwdjxdN',\n",
    "    project='proj_g30ZlMFGBNu4qsUctIhNI5B3',\n",
    "    api_key='sk-proj-cTiFSkfqsowfmg6FId0iT3BlbkFJfDi43ms9k13R9bKElYE1'\n",
    ")\n",
    "\n",
    "llambo = LLAMBO(task_context, sm_mode='discriminative', n_candidates=10, n_templates=2, n_gens=10,\n",
    "                alpha=0.1, n_initial_samples=5, n_trials=4,\n",
    "                init_f=generate_init_conf,\n",
    "                bbox_eval_f=eval_point,\n",
    "                chat_engine=\"gpt-4o-mini\",\n",
    "                client = client)\n",
    "llambo.seed = 0\n",
    "\n",
    "# run optimization\n",
    "# configs, fvals = llambo.optimize(test_metric=\"score\")"
   ],
   "outputs": [
    {
     "name": "stdout",
     "output_type": "stream",
     "text": [
      "======================================================================================================================================================\n",
      "[Search settings]: \n",
      "\tn_candidates: 10, n_templates: 2, n_gens: 10, \n",
      "\talpha: 0.1, n_initial_samples: 5, n_trials: 4, \n",
      "\tusing warping: False, ablation: None, shuffle_features: False\n",
      "[Task]: \n",
      "\ttask type: classification, sm: discriminative, lower is better: True\n",
      "Hyperparameter search space: \n",
      "{'op_0_to_1': ['categorical',\n",
      "               None,\n",
      "               ['none',\n",
      "                'skip_connect',\n",
      "                'avg_pool_3x3',\n",
      "                'nor_conv_1x1',\n",
      "                'nor_conv_3x3']],\n",
      " 'op_0_to_2': ['categorical',\n",
      "               None,\n",
      "               ['none',\n",
      "                'skip_connect',\n",
      "                'avg_pool_3x3',\n",
      "                'nor_conv_1x1',\n",
      "                'nor_conv_3x3']],\n",
      " 'op_0_to_3': ['categorical',\n",
      "               None,\n",
      "               ['none',\n",
      "                'skip_connect',\n",
      "                'avg_pool_3x3',\n",
      "                'nor_conv_1x1',\n",
      "                'nor_conv_3x3']],\n",
      " 'op_1_to_2': ['categorical',\n",
      "               None,\n",
      "               ['none',\n",
      "                'skip_connect',\n",
      "                'avg_pool_3x3',\n",
      "                'nor_conv_1x1',\n",
      "                'nor_conv_3x3']],\n",
      " 'op_1_to_3': ['categorical',\n",
      "               None,\n",
      "               ['none',\n",
      "                'skip_connect',\n",
      "                'avg_pool_3x3',\n",
      "                'nor_conv_1x1',\n",
      "                'nor_conv_3x3']],\n",
      " 'op_2_to_3': ['categorical',\n",
      "               None,\n",
      "               ['none',\n",
      "                'skip_connect',\n",
      "                'avg_pool_3x3',\n",
      "                'nor_conv_1x1',\n",
      "                'nor_conv_3x3']]}\n",
      "======================================================================================================================================================\n"
     ]
    }
   ],
   "execution_count": 12
  },
  {
   "metadata": {
    "ExecuteTime": {
     "end_time": "2024-07-25T22:23:41.612081Z",
     "start_time": "2024-07-25T22:22:31.337609Z"
    }
   },
   "cell_type": "code",
   "source": [
    "from syne_tune_local.optimizer.schedulers.synchronous import SynchronousGeometricHyperbandScheduler\n",
    "\n",
    "logging.getLogger().setLevel(logging.WARNING)\n",
    "\n",
    "random_seed = 1\n",
    "nb201_random_seed = 0\n",
    "n_workers = 1\n",
    "dataset_name = \"cifar10\"\n",
    "benchmark = nas201_benchmark(dataset_name)\n",
    "\n",
    "max_resource_attr = benchmark.max_resource_attr\n",
    "trial_backend = BlackboxRepositoryBackend(\n",
    "    blackbox_name=benchmark.blackbox_name,\n",
    "    elapsed_time_attr=benchmark.elapsed_time_attr,\n",
    "    max_resource_attr=max_resource_attr,\n",
    "    dataset=dataset_name,\n",
    "    seed=nb201_random_seed,\n",
    ")\n",
    "\n",
    "blackbox = trial_backend.blackbox\n",
    "nas_configuration_space = blackbox.configuration_space_with_max_resource_attr(\n",
    "    max_resource_attr\n",
    ")\n",
    "\n",
    "points_to_evaluate = llambo.initialize_configs(5)\n",
    "points_to_evaluate = convert_LLAMBO_df_to_synetune_dict(points_to_evaluate)\n",
    "scheduler = SynchronousGeometricHyperbandScheduler(\n",
    "    config_space=nas_configuration_space,\n",
    "    max_resource_attr=max_resource_attr,\n",
    "    mode=benchmark.mode,\n",
    "    metric=benchmark.metric,\n",
    "    random_seed=random_seed,\n",
    "    searcher=MultiFidelityLLamboSearcher,\n",
    "    resource_attr=blackbox.fidelity_name(),\n",
    "    points_to_evaluate=points_to_evaluate,\n",
    "    brackets=1,\n",
    "    max_resource_level=2,\n",
    ")\n",
    "\n",
    "max_wallclock_time = 300 # seconds\n",
    "stop_criterion = StoppingCriterion(max_wallclock_time=max_wallclock_time)\n",
    "print_update_interval = 700\n",
    "results_update_interval = 300\n",
    "tuner = Tuner(\n",
    "    trial_backend=trial_backend,\n",
    "    scheduler=scheduler,\n",
    "    stop_criterion=stop_criterion,\n",
    "    n_workers=n_workers,\n",
    "    sleep_time=0,\n",
    "    results_update_interval=results_update_interval,\n",
    "    print_update_interval=print_update_interval,\n",
    "    callbacks=[SimulatorCallback()],\n",
    ")\n",
    "\n",
    "tuner.run()"
   ],
   "outputs": [
    {
     "name": "stdout",
     "output_type": "stream",
     "text": [
      "You are assisting me with automated machine learning using CNN for a classification task. The classification performance is measured using validation_loss. The dataset has 50000 image samples with dimensions of height 32, width 32, and 3 channels. Class distribution is 10.00% of datapoints belong to class 6: Airplane, 10.00% of datapoints belong to class 9: Automobile, 10.00% of datapoints belong to class 9: Bird, 10.00% of datapoints belong to class 4: Cat, 10.00% of datapoints belong to class 1: Deer, 10.00% of datapoints belong to class 1: Dog, 10.00% of datapoints belong to class 2: Frog, 10.00% of datapoints belong to class 7: Horse, 10.00% of datapoints belong to class 8: Ship, 10.00% of datapoints belong to class 3: Truck. The pixel mean is 0.4733630004850874 and pixel standard deviation is 0.25156892506322026. I’m exploring a subset of hyperparameters detailed as: op_0_to_1 (string ('none', 'skip_connect', 'avg_pool_3x3', 'nor_conv_1x1', 'nor_conv_3x3')), op_0_to_2 (string ('none', 'skip_connect', 'avg_pool_3x3', 'nor_conv_1x1', 'nor_conv_3x3')), op_0_to_3 (string ('none', 'skip_connect', 'avg_pool_3x3', 'nor_conv_1x1', 'nor_conv_3x3')), op_1_to_2 (string ('none', 'skip_connect', 'avg_pool_3x3', 'nor_conv_1x1', 'nor_conv_3x3')), op_1_to_3 (string ('none', 'skip_connect', 'avg_pool_3x3', 'nor_conv_1x1', 'nor_conv_3x3')), op_2_to_3 (string ('none', 'skip_connect', 'avg_pool_3x3', 'nor_conv_1x1', 'nor_conv_3x3')).\n",
      "Provide 5 diverse and efficient configuration suggestions to commence a Bayesian Optimization procedure aimed at fine-tuning hyperparameters. These configurations should be carefully customized to suit the characteristics of the dataset at hand. You can include ‘None’ in the configurations. Your response should include only a list of dictionaries, where each dictionary describes one recommended configuration. Do not enumerate the dictionaries. The list of dictionaries should be wrapped with square brackets [], and each dictionary should be wrapped with curly brackets {}. Here is an example of the response format: ``` [     {         \"op_0_to_1\": \"skip_connect\",         \"op_0_to_2\": \"avg_pool_3x3\",         \"op_0_to_3\": \"nor_conv_1x1\",         \"op_1_to_2\": \"none\",         \"op_1_to_3\": \"nor_conv_3x3\",         \"op_2_to_3\": \"skip_connect\"     },     {         \"op_0_to_1\": \"avg_pool_3x3\",         \"op_0_to_2\": \"nor_conv_1x1\",         \"op_0_to_3\": \"none\",         \"op_1_to_2\": \"skip_connect\",         \"op_1_to_3\": \"avg_pool_3x3\",         \"op_2_to_3\": \"nor_conv_3x3\"     },     {         \"op_0_to_1\": \"nor_conv_3x3\",         \"op_0_to_2\": \"skip_connect\",         \"op_0_to_3\": \"avg_pool_3x3\",         \"op_1_to_2\": \"none\",         \"op_1_to_3\": \"skip_connect\",         \"op_2_to_3\": \"nor_conv_1x1\"     },     {         \"op_0_to_1\": \"None\",         \"op_0_to_2\": \"avg_pool_3x3\",         \"op_0_to_3\": \"none\",         \"op_1_to_2\": \"skip_connect\",         \"op_1_to_3\": \"nor_conv_3x3\",         \"op_2_to_3\": \"skip_connect\"     },     {         \"op_0_to_1\": \"nor_conv_1x1\",         \"op_0_to_2\": \"none\",         \"op_0_to_3\": \"avg_pool_3x3\",         \"op_1_to_2\": \"avg_pool_3x3\",         \"op_1_to_3\": \"skip_connect\",         \"op_2_to_3\": \"nor_conv_1x1\"     } ] ```\n",
      "content ``` \n",
      "[ \n",
      "    { \n",
      "        \"op_0_to_1\": \"skip_connect\", \n",
      "        \"op_0_to_2\": \"nor_conv_3x3\", \n",
      "        \"op_0_to_3\": \"avg_pool_3x3\", \n",
      "        \"op_1_to_2\": \"none\", \n",
      "        \"op_1_to_3\": \"nor_conv_1x1\", \n",
      "        \"op_2_to_3\": \"skip_connect\" \n",
      "    }, \n",
      "    { \n",
      "        \"op_0_to_1\": \"avg_pool_3x3\", \n",
      "        \"op_0_to_2\": \"none\", \n",
      "        \"op_0_to_3\": \"nor_conv_1x1\", \n",
      "        \"op_1_to_2\": \"skip_connect\", \n",
      "        \"op_1_to_3\": \"nor_conv_3x3\", \n",
      "        \"op_2_to_3\": \"avg_pool_3x3\" \n",
      "    }, \n",
      "    { \n",
      "        \"op_0_to_1\": \"nor_conv_3x3\", \n",
      "        \"op_0_to_2\": \"skip_connect\", \n",
      "        \"op_0_to_3\": \"none\", \n",
      "        \"op_1_to_2\": \"avg_pool_3x3\", \n",
      "        \"op_1_to_3\": \"none\", \n",
      "        \"op_2_to_3\": \"nor_conv_1x1\" \n",
      "    }, \n",
      "    { \n",
      "        \"op_0_to_1\": \"none\", \n",
      "        \"op_0_to_2\": \"avg_pool_3x3\", \n",
      "        \"op_0_to_3\": \"skip_connect\", \n",
      "        \"op_1_to_2\": \"nor_conv_1x1\", \n",
      "        \"op_1_to_3\": \"avg_pool_3x3\", \n",
      "        \"op_2_to_3\": \"none\" \n",
      "    }, \n",
      "    { \n",
      "        \"op_0_to_1\": \"nor_conv_1x1\", \n",
      "        \"op_0_to_2\": \"skip_connect\", \n",
      "        \"op_0_to_3\": \"avg_pool_3x3\", \n",
      "        \"op_1_to_2\": \"none\", \n",
      "        \"op_1_to_3\": \"nor_conv_3x3\", \n",
      "        \"op_2_to_3\": \"skip_connect\" \n",
      "    } \n",
      "] \n",
      "```\n"
     ]
    },
    {
     "name": "stderr",
     "output_type": "stream",
     "text": [
      "WARNING:syne_tune_local.optimizer.schedulers.scheduler_searcher:max_resource_level = 2 is different from the value 200 inferred from config_space\n",
      "WARNING:syne_tune_local.optimizer.schedulers.scheduler_searcher:max_resource_level = 2 is different from the value 200 inferred from config_space\n",
      "ERROR:syne_tune_local.tuner:An error happened during the tuning, cleaning up resources and logging final resources before throwing the exception.\n"
     ]
    },
    {
     "name": "stdout",
     "output_type": "stream",
     "text": [
      "Adjusted alpha: 0.1 | [original alpha: 0.1], desired fval: 0.563490\n",
      "--------------------\n",
      "Resource summary (last result is reported):\n",
      " trial_id status  iter        hp_x0        hp_x1        hp_x2        hp_x3        hp_x4        hp_x5  epochs  metric_valid_error  metric_train_error  metric_runtime  metric_elapsed_time  metric_latency  metric_flops  metric_params  hp_epoch\n",
      "        0 Paused     1 skip_connect nor_conv_3x3 avg_pool_3x3         none nor_conv_1x1 skip_connect       1              0.6776             0.62480       17.234987            17.234987        0.015232     47.104649       0.344346         1\n",
      "        1 Paused     1 avg_pool_3x3         none nor_conv_1x1 skip_connect nor_conv_3x3 avg_pool_3x3       1              0.7451             0.65070       19.247335            19.247335        0.014326     47.104649       0.344346         1\n",
      "        2 Paused     2 nor_conv_3x3 skip_connect         none avg_pool_3x3         none nor_conv_1x1       2              0.5074             0.45092       17.479578            17.479578        0.016961     47.104649       0.344346         2\n",
      "        3 Paused     1         none avg_pool_3x3 skip_connect nor_conv_1x1 avg_pool_3x3         none       1              0.6000             0.63844       14.952966            14.952966        0.013512     11.715210       0.101306         1\n",
      "        4 Paused     1 nor_conv_1x1 skip_connect avg_pool_3x3         none nor_conv_3x3 skip_connect       1              0.5800             0.56300       16.903635            16.903635        0.015369     47.104649       0.344346         1\n",
      "0 trials running, 5 finished (0 until the end), 0.04s wallclock-time\n",
      "\n",
      "metric_valid_error: best 0.5073999762535095 for trial-id 2\n",
      "--------------------\n"
     ]
    },
    {
     "ename": "ValueError",
     "evalue": "Unknown format code 'f' for object of type 'str'",
     "output_type": "error",
     "traceback": [
      "\u001B[0;31m---------------------------------------------------------------------------\u001B[0m",
      "\u001B[0;31mValueError\u001B[0m                                Traceback (most recent call last)",
      "Cell \u001B[0;32mIn[14], line 55\u001B[0m\n\u001B[1;32m     43\u001B[0m results_update_interval \u001B[38;5;241m=\u001B[39m \u001B[38;5;241m300\u001B[39m\n\u001B[1;32m     44\u001B[0m tuner \u001B[38;5;241m=\u001B[39m Tuner(\n\u001B[1;32m     45\u001B[0m     trial_backend\u001B[38;5;241m=\u001B[39mtrial_backend,\n\u001B[1;32m     46\u001B[0m     scheduler\u001B[38;5;241m=\u001B[39mscheduler,\n\u001B[0;32m   (...)\u001B[0m\n\u001B[1;32m     52\u001B[0m     callbacks\u001B[38;5;241m=\u001B[39m[SimulatorCallback()],\n\u001B[1;32m     53\u001B[0m )\n\u001B[0;32m---> 55\u001B[0m \u001B[43mtuner\u001B[49m\u001B[38;5;241;43m.\u001B[39;49m\u001B[43mrun\u001B[49m\u001B[43m(\u001B[49m\u001B[43m)\u001B[49m\n",
      "File \u001B[0;32m~/E/Personal/MasterStudies-UniversityOfFreiburg/SecondSemester/DeepLearningLab/Project/ModifiedProject/syne_tune_local/tuner.py:342\u001B[0m, in \u001B[0;36mTuner.run\u001B[0;34m(self)\u001B[0m\n\u001B[1;32m    337\u001B[0m \u001B[38;5;28;01mexcept\u001B[39;00m \u001B[38;5;167;01mException\u001B[39;00m \u001B[38;5;28;01mas\u001B[39;00m e:\n\u001B[1;32m    338\u001B[0m     logger\u001B[38;5;241m.\u001B[39merror(\n\u001B[1;32m    339\u001B[0m         \u001B[38;5;124m\"\u001B[39m\u001B[38;5;124mAn error happened during the tuning, cleaning up resources and logging final resources \u001B[39m\u001B[38;5;124m\"\u001B[39m\n\u001B[1;32m    340\u001B[0m         \u001B[38;5;124m\"\u001B[39m\u001B[38;5;124mbefore throwing the exception.\u001B[39m\u001B[38;5;124m\"\u001B[39m\n\u001B[1;32m    341\u001B[0m     )\n\u001B[0;32m--> 342\u001B[0m     \u001B[38;5;28;01mraise\u001B[39;00m e\n\u001B[1;32m    343\u001B[0m \u001B[38;5;28;01mfinally\u001B[39;00m:\n\u001B[1;32m    344\u001B[0m     \u001B[38;5;66;03m# graceful termination block called when the tuner reached its stop condition, when an error happened or\u001B[39;00m\n\u001B[1;32m    345\u001B[0m     \u001B[38;5;66;03m# when the job got interrupted (can happen in spot-instances or when sending a SIGINT signal with ctrl+C).\u001B[39;00m\n\u001B[1;32m    346\u001B[0m     \u001B[38;5;66;03m# the block displays the best configuration found and stops trials that may still be running.\u001B[39;00m\n\u001B[1;32m    347\u001B[0m     print_best_metric_found(\n\u001B[1;32m    348\u001B[0m         tuning_status\u001B[38;5;241m=\u001B[39m\u001B[38;5;28mself\u001B[39m\u001B[38;5;241m.\u001B[39mtuning_status,\n\u001B[1;32m    349\u001B[0m         metric_names\u001B[38;5;241m=\u001B[39m\u001B[38;5;28mself\u001B[39m\u001B[38;5;241m.\u001B[39mscheduler\u001B[38;5;241m.\u001B[39mmetric_names(),\n\u001B[1;32m    350\u001B[0m         mode\u001B[38;5;241m=\u001B[39m\u001B[38;5;28mself\u001B[39m\u001B[38;5;241m.\u001B[39mscheduler\u001B[38;5;241m.\u001B[39mmetric_mode(),\n\u001B[1;32m    351\u001B[0m     )\n",
      "File \u001B[0;32m~/E/Personal/MasterStudies-UniversityOfFreiburg/SecondSemester/DeepLearningLab/Project/ModifiedProject/syne_tune_local/tuner.py:321\u001B[0m, in \u001B[0;36mTuner.run\u001B[0;34m(self)\u001B[0m\n\u001B[1;32m    319\u001B[0m \u001B[38;5;28;01melse\u001B[39;00m:\n\u001B[1;32m    320\u001B[0m     \u001B[38;5;28;01mtry\u001B[39;00m:\n\u001B[0;32m--> 321\u001B[0m         \u001B[38;5;28;43mself\u001B[39;49m\u001B[38;5;241;43m.\u001B[39;49m\u001B[43m_schedule_new_tasks\u001B[49m\u001B[43m(\u001B[49m\u001B[43mrunning_trials_ids\u001B[49m\u001B[38;5;241;43m=\u001B[39;49m\u001B[43mrunning_trials_ids\u001B[49m\u001B[43m)\u001B[49m\n\u001B[1;32m    322\u001B[0m     \u001B[38;5;28;01mexcept\u001B[39;00m \u001B[38;5;167;01mStopIteration\u001B[39;00m:\n\u001B[1;32m    323\u001B[0m         logger\u001B[38;5;241m.\u001B[39minfo(\n\u001B[1;32m    324\u001B[0m             \u001B[38;5;124m\"\u001B[39m\u001B[38;5;124mTuning is finishing as the whole configuration space got exhausted.\u001B[39m\u001B[38;5;124m\"\u001B[39m\n\u001B[1;32m    325\u001B[0m         )\n",
      "File \u001B[0;32m~/E/Personal/MasterStudies-UniversityOfFreiburg/SecondSemester/DeepLearningLab/Project/ModifiedProject/syne_tune_local/tuner.py:495\u001B[0m, in \u001B[0;36mTuner._schedule_new_tasks\u001B[0;34m(self, running_trials_ids)\u001B[0m\n\u001B[1;32m    493\u001B[0m \u001B[38;5;66;03m# Schedule as many trials as we have free workers\u001B[39;00m\n\u001B[1;32m    494\u001B[0m \u001B[38;5;28;01mfor\u001B[39;00m _ \u001B[38;5;129;01min\u001B[39;00m \u001B[38;5;28mrange\u001B[39m(\u001B[38;5;28mself\u001B[39m\u001B[38;5;241m.\u001B[39mn_workers \u001B[38;5;241m-\u001B[39m num_busy_workers):\n\u001B[0;32m--> 495\u001B[0m     trial \u001B[38;5;241m=\u001B[39m \u001B[38;5;28;43mself\u001B[39;49m\u001B[38;5;241;43m.\u001B[39;49m\u001B[43m_schedule_new_task\u001B[49m\u001B[43m(\u001B[49m\u001B[43m)\u001B[49m\n\u001B[1;32m    496\u001B[0m     trial_id \u001B[38;5;241m=\u001B[39m trial\u001B[38;5;241m.\u001B[39mtrial_id\n\u001B[1;32m    497\u001B[0m     running_trials_ids\u001B[38;5;241m.\u001B[39madd(trial_id)\n",
      "File \u001B[0;32m~/E/Personal/MasterStudies-UniversityOfFreiburg/SecondSemester/DeepLearningLab/Project/ModifiedProject/syne_tune_local/tuner.py:511\u001B[0m, in \u001B[0;36mTuner._schedule_new_task\u001B[0;34m(self)\u001B[0m\n\u001B[1;32m    504\u001B[0m \u001B[38;5;28;01mdef\u001B[39;00m \u001B[38;5;21m_schedule_new_task\u001B[39m(\u001B[38;5;28mself\u001B[39m) \u001B[38;5;241m-\u001B[39m\u001B[38;5;241m>\u001B[39m Optional[TrialResult]:\n\u001B[1;32m    505\u001B[0m \u001B[38;5;250m    \u001B[39m\u001B[38;5;124;03m\"\"\"Schedules a new task according to scheduler suggestion.\u001B[39;00m\n\u001B[1;32m    506\u001B[0m \n\u001B[1;32m    507\u001B[0m \u001B[38;5;124;03m    :return: Information for the trial suggested, ``None`` if the scheduler does\u001B[39;00m\n\u001B[1;32m    508\u001B[0m \u001B[38;5;124;03m        not suggest a new configuration (this can happen if its configuration\u001B[39;00m\n\u001B[1;32m    509\u001B[0m \u001B[38;5;124;03m        space is exhausted)\u001B[39;00m\n\u001B[1;32m    510\u001B[0m \u001B[38;5;124;03m    \"\"\"\u001B[39;00m\n\u001B[0;32m--> 511\u001B[0m     suggestion \u001B[38;5;241m=\u001B[39m \u001B[38;5;28;43mself\u001B[39;49m\u001B[38;5;241;43m.\u001B[39;49m\u001B[43mscheduler\u001B[49m\u001B[38;5;241;43m.\u001B[39;49m\u001B[43msuggest\u001B[49m\u001B[43m(\u001B[49m\u001B[43mtrial_id\u001B[49m\u001B[38;5;241;43m=\u001B[39;49m\u001B[38;5;28;43mself\u001B[39;49m\u001B[38;5;241;43m.\u001B[39;49m\u001B[43mtrial_backend\u001B[49m\u001B[38;5;241;43m.\u001B[39;49m\u001B[43mnew_trial_id\u001B[49m\u001B[43m(\u001B[49m\u001B[43m)\u001B[49m\u001B[43m)\u001B[49m\n\u001B[1;32m    512\u001B[0m     \u001B[38;5;28;01mif\u001B[39;00m suggestion \u001B[38;5;129;01mis\u001B[39;00m \u001B[38;5;28;01mNone\u001B[39;00m:\n\u001B[1;32m    513\u001B[0m         logger\u001B[38;5;241m.\u001B[39minfo(\u001B[38;5;124m\"\u001B[39m\u001B[38;5;124mSearcher ran out of candidates, tuning job is stopping.\u001B[39m\u001B[38;5;124m\"\u001B[39m)\n",
      "File \u001B[0;32m~/E/Personal/MasterStudies-UniversityOfFreiburg/SecondSemester/DeepLearningLab/Project/ModifiedProject/syne_tune_local/optimizer/schedulers/scheduler_searcher.py:64\u001B[0m, in \u001B[0;36mTrialSchedulerWithSearcher.suggest\u001B[0;34m(self, trial_id)\u001B[0m\n\u001B[1;32m     62\u001B[0m \u001B[38;5;28;01mdef\u001B[39;00m \u001B[38;5;21msuggest\u001B[39m(\u001B[38;5;28mself\u001B[39m, trial_id: \u001B[38;5;28mint\u001B[39m) \u001B[38;5;241m-\u001B[39m\u001B[38;5;241m>\u001B[39m Optional[TrialSuggestion]:\n\u001B[1;32m     63\u001B[0m     \u001B[38;5;28mself\u001B[39m\u001B[38;5;241m.\u001B[39m_initialize_searcher()\n\u001B[0;32m---> 64\u001B[0m     \u001B[38;5;28;01mreturn\u001B[39;00m \u001B[38;5;28;43msuper\u001B[39;49m\u001B[43m(\u001B[49m\u001B[43m)\u001B[49m\u001B[38;5;241;43m.\u001B[39;49m\u001B[43msuggest\u001B[49m\u001B[43m(\u001B[49m\u001B[43mtrial_id\u001B[49m\u001B[43m)\u001B[49m\n",
      "File \u001B[0;32m~/E/Personal/MasterStudies-UniversityOfFreiburg/SecondSemester/DeepLearningLab/Project/ModifiedProject/syne_tune_local/optimizer/scheduler.py:157\u001B[0m, in \u001B[0;36mTrialScheduler.suggest\u001B[0;34m(self, trial_id)\u001B[0m\n\u001B[1;32m    128\u001B[0m \u001B[38;5;28;01mdef\u001B[39;00m \u001B[38;5;21msuggest\u001B[39m(\u001B[38;5;28mself\u001B[39m, trial_id: \u001B[38;5;28mint\u001B[39m) \u001B[38;5;241m-\u001B[39m\u001B[38;5;241m>\u001B[39m Optional[TrialSuggestion]:\n\u001B[1;32m    129\u001B[0m \u001B[38;5;250m    \u001B[39m\u001B[38;5;124;03m\"\"\"Returns a suggestion for a new trial, or one to be resumed\u001B[39;00m\n\u001B[1;32m    130\u001B[0m \n\u001B[1;32m    131\u001B[0m \u001B[38;5;124;03m    This method returns ``suggestion`` of type :class:`TrialSuggestion` (unless\u001B[39;00m\n\u001B[0;32m   (...)\u001B[0m\n\u001B[1;32m    155\u001B[0m \u001B[38;5;124;03m        above. If no suggestion can be made, None is returned\u001B[39;00m\n\u001B[1;32m    156\u001B[0m \u001B[38;5;124;03m    \"\"\"\u001B[39;00m\n\u001B[0;32m--> 157\u001B[0m     ret_val \u001B[38;5;241m=\u001B[39m \u001B[38;5;28;43mself\u001B[39;49m\u001B[38;5;241;43m.\u001B[39;49m\u001B[43m_suggest\u001B[49m\u001B[43m(\u001B[49m\u001B[43mtrial_id\u001B[49m\u001B[43m)\u001B[49m\n\u001B[1;32m    158\u001B[0m     \u001B[38;5;28;01mif\u001B[39;00m ret_val \u001B[38;5;129;01mis\u001B[39;00m \u001B[38;5;129;01mnot\u001B[39;00m \u001B[38;5;28;01mNone\u001B[39;00m:\n\u001B[1;32m    159\u001B[0m         \u001B[38;5;28;01massert\u001B[39;00m \u001B[38;5;28misinstance\u001B[39m(ret_val, TrialSuggestion)\n",
      "File \u001B[0;32m~/E/Personal/MasterStudies-UniversityOfFreiburg/SecondSemester/DeepLearningLab/Project/ModifiedProject/syne_tune_local/optimizer/schedulers/synchronous/hyperband.py:310\u001B[0m, in \u001B[0;36mSynchronousHyperbandScheduler._suggest\u001B[0;34m(self, trial_id)\u001B[0m\n\u001B[1;32m    307\u001B[0m         logger\u001B[38;5;241m.\u001B[39minfo(\u001B[38;5;124mf\u001B[39m\u001B[38;5;124m\"\u001B[39m\u001B[38;5;124mtrial_id \u001B[39m\u001B[38;5;132;01m{\u001B[39;00mtrial_id\u001B[38;5;132;01m}\u001B[39;00m\u001B[38;5;124m promoted to \u001B[39m\u001B[38;5;132;01m{\u001B[39;00mslot_in_rung\u001B[38;5;241m.\u001B[39mlevel\u001B[38;5;132;01m}\u001B[39;00m\u001B[38;5;124m\"\u001B[39m)\n\u001B[1;32m    308\u001B[0m \u001B[38;5;28;01melse\u001B[39;00m:\n\u001B[1;32m    309\u001B[0m     \u001B[38;5;66;03m# New trial to be started (id is ``trial_id`` passed in)\u001B[39;00m\n\u001B[0;32m--> 310\u001B[0m     config \u001B[38;5;241m=\u001B[39m \u001B[38;5;28;43mself\u001B[39;49m\u001B[38;5;241;43m.\u001B[39;49m\u001B[43msearcher\u001B[49m\u001B[38;5;241;43m.\u001B[39;49m\u001B[43mget_config\u001B[49m\u001B[43m(\u001B[49m\u001B[43mtrial_id\u001B[49m\u001B[38;5;241;43m=\u001B[39;49m\u001B[38;5;28;43mstr\u001B[39;49m\u001B[43m(\u001B[49m\u001B[43mtrial_id\u001B[49m\u001B[43m)\u001B[49m\u001B[43m)\u001B[49m\n\u001B[1;32m    311\u001B[0m     \u001B[38;5;28;01mif\u001B[39;00m config \u001B[38;5;129;01mis\u001B[39;00m \u001B[38;5;129;01mnot\u001B[39;00m \u001B[38;5;28;01mNone\u001B[39;00m:\n\u001B[1;32m    312\u001B[0m         config \u001B[38;5;241m=\u001B[39m cast_config_values(config, \u001B[38;5;28mself\u001B[39m\u001B[38;5;241m.\u001B[39mconfig_space)\n",
      "Cell \u001B[0;32mIn[8], line 56\u001B[0m, in \u001B[0;36mLlamboSearcher.get_config\u001B[0;34m(self, **kwargs)\u001B[0m\n\u001B[1;32m     54\u001B[0m     \u001B[38;5;28;01mif\u001B[39;00m \u001B[38;5;28mself\u001B[39m\u001B[38;5;241m.\u001B[39my:\n\u001B[1;32m     55\u001B[0m         \u001B[38;5;28;01mif\u001B[39;00m \u001B[38;5;28mself\u001B[39m\u001B[38;5;241m.\u001B[39m_train_model(np\u001B[38;5;241m.\u001B[39marray(\u001B[38;5;28mself\u001B[39m\u001B[38;5;241m.\u001B[39mX), np\u001B[38;5;241m.\u001B[39marray(\u001B[38;5;28mself\u001B[39m\u001B[38;5;241m.\u001B[39my)):\n\u001B[0;32m---> 56\u001B[0m             suggestion \u001B[38;5;241m=\u001B[39m convert_LLAMBO_df_to_synetune_dict(\u001B[43mllambo\u001B[49m\u001B[38;5;241;43m.\u001B[39;49m\u001B[43mget_config\u001B[49m\u001B[43m(\u001B[49m\u001B[43m)\u001B[49m)\n\u001B[1;32m     58\u001B[0m \u001B[38;5;28;01mreturn\u001B[39;00m suggestion\n",
      "File \u001B[0;32m~/E/Personal/MasterStudies-UniversityOfFreiburg/SecondSemester/DeepLearningLab/Project/ModifiedProject/llambo/llambo.py:247\u001B[0m, in \u001B[0;36mLLAMBO.get_config\u001B[0;34m(self)\u001B[0m\n\u001B[1;32m    246\u001B[0m \u001B[38;5;28;01mdef\u001B[39;00m \u001B[38;5;21mget_config\u001B[39m(\u001B[38;5;28mself\u001B[39m):\n\u001B[0;32m--> 247\u001B[0m     candidate_points \u001B[38;5;241m=\u001B[39m \u001B[38;5;28;43mself\u001B[39;49m\u001B[38;5;241;43m.\u001B[39;49m\u001B[43macq_func\u001B[49m\u001B[38;5;241;43m.\u001B[39;49m\u001B[43mget_candidate_points\u001B[49m\u001B[43m(\u001B[49m\u001B[38;5;28;43mself\u001B[39;49m\u001B[38;5;241;43m.\u001B[39;49m\u001B[43mobserved_configs\u001B[49m\u001B[43m,\u001B[49m\n\u001B[1;32m    248\u001B[0m \u001B[43m                                                          \u001B[49m\u001B[38;5;28;43mself\u001B[39;49m\u001B[38;5;241;43m.\u001B[39;49m\u001B[43mobserved_fvals\u001B[49m\u001B[43m[\u001B[49m\u001B[43m[\u001B[49m\u001B[38;5;124;43m'\u001B[39;49m\u001B[38;5;124;43mscore\u001B[39;49m\u001B[38;5;124;43m'\u001B[39;49m\u001B[43m]\u001B[49m\u001B[43m]\u001B[49m\u001B[43m,\u001B[49m\n\u001B[1;32m    249\u001B[0m \u001B[43m                                                          \u001B[49m\u001B[43malpha\u001B[49m\u001B[38;5;241;43m=\u001B[39;49m\u001B[38;5;28;43mself\u001B[39;49m\u001B[38;5;241;43m.\u001B[39;49m\u001B[43malpha\u001B[49m\u001B[43m)\u001B[49m\n\u001B[1;32m    251\u001B[0m     \u001B[38;5;28mprint\u001B[39m(\u001B[38;5;124m'\u001B[39m\u001B[38;5;124m=\u001B[39m\u001B[38;5;124m'\u001B[39m \u001B[38;5;241m*\u001B[39m \u001B[38;5;241m150\u001B[39m)\n\u001B[1;32m    252\u001B[0m     \u001B[38;5;28mprint\u001B[39m(\u001B[38;5;124m'\u001B[39m\u001B[38;5;124mEXAMPLE POINTS PROPOSED\u001B[39m\u001B[38;5;124m'\u001B[39m)\n",
      "File \u001B[0;32m~/E/Personal/MasterStudies-UniversityOfFreiburg/SecondSemester/DeepLearningLab/Project/ModifiedProject/llambo/acquisition_function.py:478\u001B[0m, in \u001B[0;36mLLM_ACQ.get_candidate_points\u001B[0;34m(self, observed_configs, observed_fvals, use_feature_semantics, use_context, alpha)\u001B[0m\n\u001B[1;32m    475\u001B[0m \u001B[38;5;28;01mif\u001B[39;00m \u001B[38;5;28mself\u001B[39m\u001B[38;5;241m.\u001B[39mwarping_transformer \u001B[38;5;129;01mis\u001B[39;00m \u001B[38;5;129;01mnot\u001B[39;00m \u001B[38;5;28;01mNone\u001B[39;00m:\n\u001B[1;32m    476\u001B[0m     observed_configs \u001B[38;5;241m=\u001B[39m \u001B[38;5;28mself\u001B[39m\u001B[38;5;241m.\u001B[39mwarping_transformer\u001B[38;5;241m.\u001B[39mwarp(observed_configs)\n\u001B[0;32m--> 478\u001B[0m prompt_templates, query_templates \u001B[38;5;241m=\u001B[39m \u001B[38;5;28;43mself\u001B[39;49m\u001B[38;5;241;43m.\u001B[39;49m\u001B[43m_gen_prompt_tempates_acquisitions\u001B[49m\u001B[43m(\u001B[49m\u001B[43mobserved_configs\u001B[49m\u001B[43m,\u001B[49m\u001B[43m \u001B[49m\u001B[43mobserved_fvals\u001B[49m\u001B[43m,\u001B[49m\n\u001B[1;32m    479\u001B[0m \u001B[43m                                                                           \u001B[49m\u001B[43mdesired_fval\u001B[49m\u001B[43m,\u001B[49m\n\u001B[1;32m    480\u001B[0m \u001B[43m                                                                           \u001B[49m\u001B[43mn_prompts\u001B[49m\u001B[38;5;241;43m=\u001B[39;49m\u001B[38;5;28;43mself\u001B[39;49m\u001B[38;5;241;43m.\u001B[39;49m\u001B[43mn_templates\u001B[49m\u001B[43m,\u001B[49m\n\u001B[1;32m    481\u001B[0m \u001B[43m                                                                           \u001B[49m\u001B[43muse_context\u001B[49m\u001B[38;5;241;43m=\u001B[39;49m\u001B[43muse_context\u001B[49m\u001B[43m,\u001B[49m\n\u001B[1;32m    482\u001B[0m \u001B[43m                                                                           \u001B[49m\u001B[43muse_feature_semantics\u001B[49m\u001B[38;5;241;43m=\u001B[39;49m\u001B[43muse_feature_semantics\u001B[49m\u001B[43m,\u001B[49m\n\u001B[1;32m    483\u001B[0m \u001B[43m                                                                           \u001B[49m\u001B[43mshuffle_features\u001B[49m\u001B[38;5;241;43m=\u001B[39;49m\u001B[38;5;28;43mself\u001B[39;49m\u001B[38;5;241;43m.\u001B[39;49m\u001B[43mshuffle_features\u001B[49m\u001B[43m)\u001B[49m\n\u001B[1;32m    485\u001B[0m \u001B[38;5;28mprint\u001B[39m(\u001B[38;5;124m'\u001B[39m\u001B[38;5;124m=\u001B[39m\u001B[38;5;124m'\u001B[39m \u001B[38;5;241m*\u001B[39m \u001B[38;5;241m100\u001B[39m)\n\u001B[1;32m    486\u001B[0m \u001B[38;5;28mprint\u001B[39m(\u001B[38;5;124m'\u001B[39m\u001B[38;5;124mEXAMPLE ACQUISITION PROMPT\u001B[39m\u001B[38;5;124m'\u001B[39m)\n",
      "File \u001B[0;32m~/E/Personal/MasterStudies-UniversityOfFreiburg/SecondSemester/DeepLearningLab/Project/ModifiedProject/llambo/acquisition_function.py:175\u001B[0m, in \u001B[0;36mLLM_ACQ._gen_prompt_tempates_acquisitions\u001B[0;34m(self, observed_configs, observed_fvals, desired_fval, n_prompts, use_context, use_feature_semantics, shuffle_features)\u001B[0m\n\u001B[1;32m    172\u001B[0m all_query_templates \u001B[38;5;241m=\u001B[39m []\n\u001B[1;32m    174\u001B[0m \u001B[38;5;28;01mfor\u001B[39;00m i \u001B[38;5;129;01min\u001B[39;00m \u001B[38;5;28mrange\u001B[39m(n_prompts):\n\u001B[0;32m--> 175\u001B[0m     few_shot_examples \u001B[38;5;241m=\u001B[39m \u001B[38;5;28;43mself\u001B[39;49m\u001B[38;5;241;43m.\u001B[39;49m\u001B[43m_prepare_configurations_acquisition\u001B[49m\u001B[43m(\u001B[49m\u001B[43mobserved_configs\u001B[49m\u001B[43m,\u001B[49m\u001B[43m \u001B[49m\u001B[43mobserved_fvals\u001B[49m\u001B[43m,\u001B[49m\u001B[43m \u001B[49m\u001B[43mseed\u001B[49m\u001B[38;5;241;43m=\u001B[39;49m\u001B[43mi\u001B[49m\u001B[43m,\u001B[49m\n\u001B[1;32m    176\u001B[0m \u001B[43m                                                                 \u001B[49m\u001B[43muse_feature_semantics\u001B[49m\u001B[38;5;241;43m=\u001B[39;49m\u001B[43muse_feature_semantics\u001B[49m\u001B[43m)\u001B[49m  \u001B[38;5;66;03m# need to update seed?\u001B[39;00m\n\u001B[1;32m    177\u001B[0m     jittered_desired_fval \u001B[38;5;241m=\u001B[39m \u001B[38;5;28mself\u001B[39m\u001B[38;5;241m.\u001B[39m_jitter(desired_fval)\n\u001B[1;32m    179\u001B[0m     \u001B[38;5;66;03m# contextual information about the task\u001B[39;00m\n",
      "File \u001B[0;32m~/E/Personal/MasterStudies-UniversityOfFreiburg/SecondSemester/DeepLearningLab/Project/ModifiedProject/llambo/acquisition_function.py:124\u001B[0m, in \u001B[0;36mLLM_ACQ._prepare_configurations_acquisition\u001B[0;34m(self, observed_configs, observed_fvals, seed, use_feature_semantics, shuffle_features)\u001B[0m\n\u001B[1;32m    122\u001B[0m \u001B[38;5;28;01melse\u001B[39;00m:\n\u001B[1;32m    123\u001B[0m     lower_bound \u001B[38;5;241m=\u001B[39m \u001B[38;5;28mself\u001B[39m\u001B[38;5;241m.\u001B[39mtask_context[\u001B[38;5;124m'\u001B[39m\u001B[38;5;124mhyperparameter_constraints\u001B[39m\u001B[38;5;124m'\u001B[39m][hyperparameter_names[i]][\u001B[38;5;241m2\u001B[39m][\u001B[38;5;241m1\u001B[39m]\n\u001B[0;32m--> 124\u001B[0m n_dp \u001B[38;5;241m=\u001B[39m \u001B[38;5;28;43mself\u001B[39;49m\u001B[38;5;241;43m.\u001B[39;49m\u001B[43m_count_decimal_places\u001B[49m\u001B[43m(\u001B[49m\u001B[43mlower_bound\u001B[49m\u001B[43m)\u001B[49m\n\u001B[1;32m    125\u001B[0m value \u001B[38;5;241m=\u001B[39m row[i]\n\u001B[1;32m    126\u001B[0m \u001B[38;5;28;01mif\u001B[39;00m \u001B[38;5;28mself\u001B[39m\u001B[38;5;241m.\u001B[39mapply_warping:\n",
      "File \u001B[0;32m~/E/Personal/MasterStudies-UniversityOfFreiburg/SecondSemester/DeepLearningLab/Project/ModifiedProject/llambo/acquisition_function.py:67\u001B[0m, in \u001B[0;36mLLM_ACQ._count_decimal_places\u001B[0;34m(self, n)\u001B[0m\n\u001B[1;32m     65\u001B[0m \u001B[38;5;28;01mdef\u001B[39;00m \u001B[38;5;21m_count_decimal_places\u001B[39m(\u001B[38;5;28mself\u001B[39m, n):\n\u001B[1;32m     66\u001B[0m \u001B[38;5;250m    \u001B[39m\u001B[38;5;124;03m'''Count the number of decimal places in a number.'''\u001B[39;00m\n\u001B[0;32m---> 67\u001B[0m     s \u001B[38;5;241m=\u001B[39m \u001B[38;5;28;43mformat\u001B[39;49m\u001B[43m(\u001B[49m\u001B[43mn\u001B[49m\u001B[43m,\u001B[49m\u001B[43m \u001B[49m\u001B[38;5;124;43m'\u001B[39;49m\u001B[38;5;124;43m.10f\u001B[39;49m\u001B[38;5;124;43m'\u001B[39;49m\u001B[43m)\u001B[49m\n\u001B[1;32m     68\u001B[0m     \u001B[38;5;28;01mif\u001B[39;00m \u001B[38;5;124m'\u001B[39m\u001B[38;5;124m.\u001B[39m\u001B[38;5;124m'\u001B[39m \u001B[38;5;129;01mnot\u001B[39;00m \u001B[38;5;129;01min\u001B[39;00m s:\n\u001B[1;32m     69\u001B[0m         \u001B[38;5;28;01mreturn\u001B[39;00m \u001B[38;5;241m0\u001B[39m\n",
      "\u001B[0;31mValueError\u001B[0m: Unknown format code 'f' for object of type 'str'"
     ]
    }
   ],
   "execution_count": 14
  }
 ],
 "metadata": {
  "kernelspec": {
   "display_name": "Python 3",
   "language": "python",
   "name": "python3"
  },
  "language_info": {
   "codemirror_mode": {
    "name": "ipython",
    "version": 2
   },
   "file_extension": ".py",
   "mimetype": "text/x-python",
   "name": "python",
   "nbconvert_exporter": "python",
   "pygments_lexer": "ipython2",
   "version": "2.7.6"
  }
 },
 "nbformat": 4,
 "nbformat_minor": 0
}
