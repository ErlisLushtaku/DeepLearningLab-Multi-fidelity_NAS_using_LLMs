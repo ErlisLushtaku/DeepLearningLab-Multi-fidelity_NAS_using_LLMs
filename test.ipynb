{
 "cells": [
  {
   "cell_type": "markdown",
   "source": [
    "Imports"
   ],
   "metadata": {
    "collapsed": false
   }
  },
  {
   "cell_type": "code",
   "metadata": {
    "collapsed": true
   },
   "source": [
    "from nb201 import NB201Benchmark\n",
    "import numpy as np\n",
    "from warmstart.utils_templates import FullTemplate\n",
    "import ConfigSpace as CS\n",
    "from ConfigSpace import Configuration\n",
    "import ollama\n",
    "import torchvision\n",
    "from exp_baselines.bayesmark.data import ProblemType\n",
    "import ast\n",
    "from llambo.llambo import LLAMBO\n",
    "from utils import convert_LLAMBO_df_to_synetune_dict\n",
    "from utils import convert_synetune_dict_to_LLAMBO_compatible_format\n",
    "\n",
    "from syne_tune_local.experiments.benchmark_definitions.nas201 import nas201_benchmark\n",
    "from syne_tune_local.blackbox_repository import BlackboxRepositoryBackend\n",
    "from syne_tune_local.backend.simulator_backend.simulator_callback import SimulatorCallback\n",
    "from syne_tune_local import Tuner, StoppingCriterion\n",
    "\n",
    "from typing import Optional, Dict, Any, List, Union\n",
    "import logging\n",
    "from syne_tune_local.optimizer.schedulers import FIFOScheduler\n",
    "from syne_tune_local.optimizer.schedulers.searchers import StochasticAndFilterDuplicatesSearcher"
   ],
   "outputs": [],
   "execution_count": null
  },
  {
   "cell_type": "markdown",
   "source": [
    "Load NB201 Benchmark"
   ],
   "metadata": {
    "collapsed": false
   }
  },
  {
   "cell_type": "code",
   "source": [
    "b = NB201Benchmark(path=\"./nb201.pkl\", dataset='cifar10')\n",
    "cs = b.get_configuration_space()\n",
    "config = cs.sample_configuration()  # samples a configuration uniformly at random\n",
    "\n",
    "print(cs)\n",
    "print(\"Numpy representation: \", config.get_array())\n",
    "print(\"Dict representation: \", config.get_dictionary())\n",
    "\n",
    "#configuration from a dict\n",
    "new_config = Configuration(cs, values=config.get_dictionary())\n",
    "print(new_config)\n",
    "\n",
    "y, cost = b.objective_function(config)\n",
    "print(\"Test error: %f %%\" % y)\n",
    "print(\"Runtime %f s\" % cost)"
   ],
   "metadata": {
    "collapsed": false
   },
   "outputs": [],
   "execution_count": null
  },
  {
   "cell_type": "markdown",
   "source": [
    "Arguments for LLAMBO"
   ],
   "metadata": {
    "collapsed": false
   }
  },
  {
   "cell_type": "code",
   "source": [
    "task_context = {\n",
    "    'model': 'CNN',\n",
    "    'task': 'classification',\n",
    "    'tot_feats': 32 * 32 * 3,\n",
    "    'cat_feats': 0,\n",
    "    'num_feat': 32 * 32 * 3,\n",
    "    'n_classes': 10,\n",
    "    'metric': 'loss',\n",
    "    'lower_is_better': True,\n",
    "    'num_samples': 50000,\n",
    "    'hyperparameter_constraints': {\n",
    "        'op_0_to_1': ['categorical', None, [\"none\", \"skip_connect\", \"avg_pool_3x3\", \"nor_conv_1x1\", \"nor_conv_3x3\"]],\n",
    "        # [type, transform, [min_value, max_value]]\n",
    "        'op_0_to_2': ['categorical', None, [\"none\", \"skip_connect\", \"avg_pool_3x3\", \"nor_conv_1x1\", \"nor_conv_3x3\"]],\n",
    "        'op_0_to_3': ['categorical', None, [\"none\", \"skip_connect\", \"avg_pool_3x3\", \"nor_conv_1x1\", \"nor_conv_3x3\"]],\n",
    "        'op_1_to_2': ['categorical', None, [\"none\", \"skip_connect\", \"avg_pool_3x3\", \"nor_conv_1x1\", \"nor_conv_3x3\"]],\n",
    "        'op_1_to_3': ['categorical', None, [\"none\", \"skip_connect\", \"avg_pool_3x3\", \"nor_conv_1x1\", \"nor_conv_3x3\"]],\n",
    "        'op_2_to_3': ['categorical', None, [\"none\", \"skip_connect\", \"avg_pool_3x3\", \"nor_conv_1x1\", \"nor_conv_3x3\"]]\n",
    "    }\n",
    "}\n",
    "\n",
    "\n",
    "def init_f():\n",
    "    return\n",
    "\n",
    "\n",
    "def eval_point(config):\n",
    "    new_config = Configuration(b.get_configuration_space(), values=config)\n",
    "    res = b.objective_function(new_config)\n",
    "    res_dict = {\n",
    "        \"score\": res[0],\n",
    "        \"train_time\": res[1]\n",
    "    }\n",
    "    return config, res_dict"
   ],
   "metadata": {
    "collapsed": false
   },
   "outputs": [],
   "execution_count": null
  },
  {
   "cell_type": "markdown",
   "source": [
    "Ollama"
   ],
   "metadata": {
    "collapsed": false
   }
  },
  {
   "cell_type": "code",
   "source": [
    "# chat_engine = \"llama3\"\n",
    "# model = ollama.pull(chat_engine)\n",
    "# response = ollama.chat(model=\"llama3\", messages=[{'role': 'user', 'content': 'Why is the sky blue?'}])\n",
    "# print(response)\n",
    "# ollama.list()"
   ],
   "metadata": {
    "collapsed": false
   },
   "outputs": [],
   "execution_count": null
  },
  {
   "cell_type": "code",
   "source": [
    "trainset = torchvision.datasets.CIFAR10(root='./data', train=True,\n",
    "                                        download=True)\n",
    "\n",
    "\n",
    "def fetch_statistics(dict, dataset):\n",
    "    images = dataset.data\n",
    "    labels = dataset.targets\n",
    "\n",
    "    images_np = np.array(images)\n",
    "    labels_np = np.array(labels)\n",
    "\n",
    "    pixel_mean = np.mean(images_np / 255.)\n",
    "    pixel_std = np.std(images_np / 255.)\n",
    "\n",
    "    class_counts = np.bincount(labels_np)\n",
    "    class_distribution = class_counts / len(labels_np)\n",
    "\n",
    "    dict['pixel_mean'] = pixel_mean\n",
    "    dict['pixel_std'] = pixel_std\n",
    "    dict['class_distribution'] = class_distribution.tolist()\n",
    "\n",
    "    return dict\n",
    "\n",
    "\n",
    "task_context = fetch_statistics(task_context, trainset)"
   ],
   "metadata": {
    "collapsed": false
   },
   "outputs": [],
   "execution_count": null
  },
  {
   "cell_type": "markdown",
   "source": [
    "Warmstart"
   ],
   "metadata": {
    "collapsed": false,
    "ExecuteTime": {
     "end_time": "2024-07-16T21:50:50.906679200Z",
     "start_time": "2024-07-16T21:50:50.879733200Z"
    }
   }
  },
  {
   "cell_type": "code",
   "source": [
    "config = \"No_Context\"\n",
    "metric = \"acc\"\n",
    "NUM_SEEDS = 10\n",
    "problem_type = ProblemType.clf\n",
    "\n",
    "\n",
    "def extract_configs_from_response(response):\n",
    "    content = response['message']['content']\n",
    "    start = content.find(\"[\")\n",
    "    end = content.rfind(\"]\") + 1\n",
    "    list_str = content[start:end]\n",
    "    configurations = ast.literal_eval(list_str)\n",
    "    return configurations\n",
    "\n",
    "\n",
    "def is_dict_valid_in_config_space(d, config_space):\n",
    "    try:\n",
    "        # Attempt to create a Configuration object with the given dictionary and config space\n",
    "        config = CS.Configuration(config_space, values=d)\n",
    "        return True\n",
    "    except:\n",
    "        # Return False if the dictionary is not valid\n",
    "        return False\n",
    "    # Function to check if all dictionaries in a list are valid in the given configuration space\n",
    "\n",
    "\n",
    "def check_all_list(parsed_dicts, config_space):\n",
    "    for idx, d in enumerate(parsed_dicts):\n",
    "        if not is_dict_valid_in_config_space(d, config_space):\n",
    "            return False\n",
    "    return True\n",
    "\n",
    "\n",
    "def obtain_all_list_valid(resp, config_space):\n",
    "    if check_all_list(resp, config_space):\n",
    "        return resp\n",
    "    print(\"fail\")\n",
    "\n",
    "\n",
    "def generate_init_conf(n_samples):\n",
    "    template_object = FullTemplate(context=config, provide_ranges=True)\n",
    "    input_prompt = template_object.add_context(config_space=cs, num_recommendation=n_samples, task_dict=task_context)\n",
    "    response = ollama.chat(model=\"llama3\", messages=[{'role': 'user', 'content': input_prompt}])\n",
    "    configs = extract_configs_from_response(response)\n",
    "    return obtain_all_list_valid(configs, cs)\n",
    "\n",
    "#print(generate_init_conf(3))"
   ],
   "metadata": {
    "collapsed": false
   },
   "outputs": [],
   "execution_count": null
  },
  {
   "cell_type": "markdown",
   "source": [
    "Llambo"
   ],
   "metadata": {
    "collapsed": false,
    "ExecuteTime": {
     "end_time": "2024-07-16T21:50:50.916420200Z",
     "start_time": "2024-07-16T21:50:50.906679200Z"
    }
   }
  },
  {
   "cell_type": "code",
   "source": [
    "llambo = LLAMBO(task_context, sm_mode='discriminative', n_candidates=10, n_templates=2, n_gens=10,\n",
    "                alpha=0.1, n_initial_samples=5, n_trials=4,\n",
    "                init_f=generate_init_conf,\n",
    "                bbox_eval_f=eval_point,\n",
    "                chat_engine=\"llama3\")\n",
    "llambo.seed = 0\n",
    "\n",
    "# run optimization\n",
    "#configs, fvals = llambo.optimize(test_metric=\"score\")"
   ],
   "metadata": {
    "collapsed": false
   },
   "outputs": [],
   "execution_count": null
  },
  {
   "cell_type": "markdown",
   "source": [
    "Searcher"
   ],
   "metadata": {
    "collapsed": false,
    "ExecuteTime": {
     "end_time": "2024-07-16T21:49:55.022268800Z",
     "start_time": "2024-07-16T21:49:53.636741500Z"
    }
   }
  },
  {
   "cell_type": "code",
   "source": [
    "\n",
    "logger = logging.getLogger(__name__)\n",
    "\n",
    "MAX_RETRIES = 100\n",
    "\n",
    "\n",
    "class LlamboSearcher(StochasticAndFilterDuplicatesSearcher):\n",
    "\n",
    "    def __init__(\n",
    "            self,\n",
    "            config_space: Dict[str, Any],\n",
    "            metric: Union[List[str], str],\n",
    "            points_to_evaluate: Optional[List[dict]] = None,\n",
    "            **kwargs,\n",
    "    ):\n",
    "        super().__init__(\n",
    "            config_space,\n",
    "            metric=metric,\n",
    "            points_to_evaluate=points_to_evaluate,\n",
    "            **kwargs,\n",
    "        )\n",
    "        self.X = []\n",
    "        self.y = []\n",
    "\n",
    "    def configure_scheduler(self, scheduler):\n",
    "        from syne_tune_local.optimizer.schedulers.scheduler_searcher import (\n",
    "            TrialSchedulerWithSearcher,\n",
    "        )\n",
    "\n",
    "        assert isinstance(\n",
    "            scheduler, TrialSchedulerWithSearcher\n",
    "        ), \"This searcher requires TrialSchedulerWithSearcher scheduler\"\n",
    "        super().configure_scheduler(scheduler)\n",
    "\n",
    "    def _train_model(self, train_data: np.ndarray, train_targets: np.ndarray) -> bool:\n",
    "        \"\"\"\n",
    "        :param train_data: Training input feature matrix X\n",
    "        :param train_targets: Training targets y\n",
    "        :return: Was training successful?\n",
    "        \"\"\"\n",
    "        llambo._update_observations(train_data, train_targets)\n",
    "        return True\n",
    "    \n",
    "    def get_state(self) -> Dict[str, Any]:\n",
    "        return dict(\n",
    "            super().get_state(),\n",
    "        )\n",
    "\n",
    "    def _restore_from_state(self, state: Dict[str, Any]):\n",
    "        super()._restore_from_state(state)\n",
    "\n",
    "    def get_config(self, **kwargs) -> Optional[Dict[str, Any]]:\n",
    "        suggestion = self._next_initial_config()\n",
    "        if suggestion is None:\n",
    "            if self.y:\n",
    "                if self._train_model(np.array(self.X), np.array(self.y)):\n",
    "                    suggestion = convert_LLAMBO_df_to_synetune_dict(llambo.get_config())\n",
    "            \n",
    "        return suggestion\n",
    "        \n",
    "    def _update(self, trial_id: str, config: Dict[str, Any], result: Dict[str, Any]):\n",
    "        self.X.append(convert_synetune_dict_to_LLAMBO_compatible_format(config))\n",
    "        self.y.append(result)\n",
    "        \n",
    "    def clone_from_state(self, state: Dict[str, Any]):\n",
    "        raise NotImplementedError\n"
   ],
   "metadata": {
    "collapsed": false
   },
   "outputs": [],
   "execution_count": null
  },
  {
   "metadata": {},
   "cell_type": "code",
   "source": [
    "\n",
    "logger = logging.getLogger(__name__)\n",
    "\n",
    "MAX_RETRIES = 100\n",
    "\n",
    "\n",
    "class MultiFidelityLLamboSearcher(LlamboSearcher):\n",
    "\n",
    "    def __init__(\n",
    "            self,\n",
    "            config_space: Dict[str, Any],\n",
    "            metric: Union[List[str], str],\n",
    "            points_to_evaluate: Optional[List[dict]] = None,\n",
    "            resource_attr: Optional[str] = None,\n",
    "            **kwargs,\n",
    "    ):\n",
    "        super().__init__(\n",
    "            config_space,\n",
    "            metric=metric,\n",
    "            points_to_evaluate=points_to_evaluate,\n",
    "            **kwargs,\n",
    "        )\n",
    "        self.resource_attr = resource_attr\n",
    "        self.resource_levels = []\n",
    "\n",
    "    def configure_scheduler(self, scheduler):\n",
    "        from syne_tune_local.optimizer.schedulers.multi_fidelity import (\n",
    "            MultiFidelitySchedulerMixin,\n",
    "        )\n",
    "\n",
    "        super().configure_scheduler(scheduler)\n",
    "        assert isinstance(\n",
    "            scheduler, MultiFidelitySchedulerMixin\n",
    "        ), \"This searcher requires MultiFidelitySchedulerMixin scheduler\"\n",
    "        self.resource_attr = scheduler.resource_attr\n",
    "       \n",
    "    def _train_model(self, train_data: np.ndarray, train_targets: np.ndarray) -> bool:\n",
    "        highest_resource_level = self._highest_resource_model_can_fit()\n",
    "        if highest_resource_level is None:\n",
    "            return False\n",
    "        else:\n",
    "            indices = np.where(self.resource_levels == highest_resource_level)\n",
    "            sub_data = train_data[indices]\n",
    "            sub_targets = train_targets[indices]\n",
    "        return super()._train_model(sub_data, sub_targets)\n",
    "     \n",
    "    def _highest_resource_model_can_fit(self) -> Optional[int]:\n",
    "        # find the highest resource level we have at least one data points of the positive class\n",
    "        min_data_points = 4\n",
    "        unique_resource_levels, counts = np.unique(\n",
    "            self.resource_levels, return_counts=True\n",
    "        )\n",
    "        idx = np.where(counts >= min_data_points)[0]\n",
    "\n",
    "        if len(idx) == 0:\n",
    "            return None\n",
    "\n",
    "        # collect data on the highest resource level\n",
    "        return unique_resource_levels[idx[-1]]\n",
    "    \n",
    "    def get_state(self) -> Dict[str, Any]:\n",
    "        return dict(\n",
    "            super().get_state(),\n",
    "        )\n",
    "\n",
    "    def _restore_from_state(self, state: Dict[str, Any]):\n",
    "        super()._restore_from_state(state)\n",
    "\n",
    "    def _update(self, trial_id: str, config: Dict, result: Dict):\n",
    "        super()._update(trial_id=trial_id, config=config, result=result)\n",
    "        resource_level = int(result[self.resource_attr])\n",
    "        self.resource_levels.append(resource_level)\n"
   ],
   "outputs": [],
   "execution_count": null
  },
  {
   "cell_type": "markdown",
   "source": [
    "Simple searcher combined with LLAMBO"
   ],
   "metadata": {
    "collapsed": false
   }
  },
  {
   "cell_type": "code",
   "source": [
    "from syne_tune_local.optimizer.schedulers.synchronous import SynchronousGeometricHyperbandScheduler\n",
    "\n",
    "logging.getLogger().setLevel(logging.WARNING)\n",
    "\n",
    "random_seed = 1\n",
    "nb201_random_seed = 0\n",
    "n_workers = 1\n",
    "dataset_name = \"cifar10\"\n",
    "benchmark = nas201_benchmark(dataset_name)\n",
    "\n",
    "max_resource_attr = benchmark.max_resource_attr\n",
    "trial_backend = BlackboxRepositoryBackend(\n",
    "    blackbox_name=benchmark.blackbox_name,\n",
    "    elapsed_time_attr=benchmark.elapsed_time_attr,\n",
    "    max_resource_attr=max_resource_attr,\n",
    "    dataset=dataset_name,\n",
    "    seed=nb201_random_seed,\n",
    ")\n",
    "\n",
    "blackbox = trial_backend.blackbox\n",
    "nas_configuration_space = blackbox.configuration_space_with_max_resource_attr(\n",
    "    max_resource_attr\n",
    ")\n",
    "\n",
    "points_to_evaluate = llambo.initialize_configs(5)\n",
    "points_to_evaluate = convert_LLAMBO_df_to_synetune_dict(points_to_evaluate)\n",
    "scheduler = SynchronousGeometricHyperbandScheduler(\n",
    "    config_space=nas_configuration_space,\n",
    "    max_resource_attr=max_resource_attr,\n",
    "    mode=benchmark.mode,\n",
    "    metric=benchmark.metric,\n",
    "    random_seed=random_seed,\n",
    "    searcher=MultiFidelityLLamboSearcher,\n",
    "    resource_attr=blackbox.fidelity_name(),\n",
    "    points_to_evaluate=points_to_evaluate,\n",
    ")\n",
    "\n",
    "max_num_trials_started = 5\n",
    "stop_criterion = StoppingCriterion(max_num_trials_started=max_num_trials_started)\n",
    "print_update_interval = 700\n",
    "results_update_interval = 300\n",
    "tuner = Tuner(\n",
    "    trial_backend=trial_backend,\n",
    "    scheduler=scheduler,\n",
    "    stop_criterion=stop_criterion,\n",
    "    n_workers=n_workers,\n",
    "    sleep_time=0,\n",
    "    results_update_interval=results_update_interval,\n",
    "    print_update_interval=print_update_interval,\n",
    "    callbacks=[SimulatorCallback()],\n",
    ")\n",
    "\n",
    "tuner.run()"
   ],
   "metadata": {
    "collapsed": false
   },
   "outputs": [],
   "execution_count": null
  }
 ],
 "metadata": {
  "kernelspec": {
   "display_name": "Python 3",
   "language": "python",
   "name": "python3"
  },
  "language_info": {
   "codemirror_mode": {
    "name": "ipython",
    "version": 2
   },
   "file_extension": ".py",
   "mimetype": "text/x-python",
   "name": "python",
   "nbconvert_exporter": "python",
   "pygments_lexer": "ipython2",
   "version": "2.7.6"
  }
 },
 "nbformat": 4,
 "nbformat_minor": 0
}
