{
 "cells": [
  {
   "cell_type": "markdown",
   "source": [
    "Imports"
   ],
   "metadata": {
    "collapsed": false
   }
  },
  {
   "cell_type": "code",
   "execution_count": null,
   "metadata": {
    "collapsed": true
   },
   "outputs": [],
   "source": [
    "from nb201 import NB201Benchmark\n",
    "import numpy as np\n",
    "from warmstart.utils_templates import FullTemplate\n",
    "import ConfigSpace as CS\n",
    "from ConfigSpace import Configuration\n",
    "from transformers import AutoTokenizer, AutoModelForCausalLM\n",
    "import ollama\n",
    "import torchvision\n",
    "from exp_baselines.bayesmark.data import ProblemType\n",
    "import ast\n",
    "from llambo.llambo import LLAMBO\n"
   ]
  },
  {
   "cell_type": "markdown",
   "source": [
    "Load NB201 Benchmark"
   ],
   "metadata": {
    "collapsed": false
   }
  },
  {
   "cell_type": "code",
   "execution_count": null,
   "outputs": [],
   "source": [
    "b = NB201Benchmark(path=\"./nb201.pkl\", dataset='cifar10')\n",
    "cs = b.get_configuration_space()\n",
    "config = cs.sample_configuration()  # samples a configuration uniformly at random\n",
    "print(cs)\n",
    "print(\"Numpy representation: \", config.get_array())\n",
    "print(\"Dict representation: \", config.get_dictionary())\n",
    "\n",
    "#configuration from a dict\n",
    "new_config = Configuration(cs, values=config.get_dictionary())\n",
    "print(new_config)\n",
    "\n",
    "y, cost = b.objective_function(config)\n",
    "print(\"Test error: %f %%\" % y)\n",
    "print(\"Runtime %f s\" % cost)"
   ],
   "metadata": {
    "collapsed": false
   }
  },
  {
   "cell_type": "markdown",
   "source": [
    "Arguments for LLAMBO"
   ],
   "metadata": {
    "collapsed": false
   }
  },
  {
   "cell_type": "code",
   "execution_count": 3,
   "outputs": [],
   "source": [
    "task_context = {\n",
    "    'model': 'CNN',\n",
    "    'task': 'classification',\n",
    "    'tot_feats': 32 * 32 * 3,\n",
    "    'cat_feats': 0,\n",
    "    'num_feat': 32 * 32 * 3,\n",
    "    'n_classes': 10,\n",
    "    'metric': 'loss',\n",
    "    'lower_is_better': True,\n",
    "    'num_samples': 50000,\n",
    "    'hyperparameter_constraints': {\n",
    "        'op_0_to_1': ['int', 'linear', [1, 5]],  # [type, transform, [min_value, max_value]]\n",
    "        'op_0_to_2': ['int', 'linear', [1, 5]],\n",
    "        'op_0_to_3': ['int', 'linear', [1, 5]],\n",
    "        'op_1_to_2': ['int', 'linear', [1, 5]],\n",
    "        'op_1_to_3': ['int', 'linear', [1, 5]],\n",
    "        'op_2_to_3': ['int', 'linear', [1, 5]]\n",
    "    }\n",
    "}\n",
    "\n",
    "\n",
    "def init_f():\n",
    "    return\n",
    "\n",
    "\n",
    "def eval_point(config):\n",
    "    new_config = Configuration(b.get_configuration_space(), values=config)\n",
    "    res = b.objective_function(new_config)\n",
    "    res_dict = {\n",
    "        \"score\": res[0],\n",
    "        \"train_time\": res[1]\n",
    "    }\n",
    "    return config, res_dict"
   ],
   "metadata": {
    "collapsed": false,
    "ExecuteTime": {
     "end_time": "2024-07-09T15:05:46.985586200Z",
     "start_time": "2024-07-09T15:05:46.977849800Z"
    }
   }
  },
  {
   "cell_type": "markdown",
   "source": [
    "Huggingface"
   ],
   "metadata": {
    "collapsed": false
   }
  },
  {
   "cell_type": "code",
   "execution_count": null,
   "outputs": [],
   "source": [
    "tokenizer = AutoTokenizer.from_pretrained(\"google/gemma-2b-it\")\n",
    "model = AutoModelForCausalLM.from_pretrained(\"google/gemma-2b-it\").to(\"cuda\")"
   ],
   "metadata": {
    "collapsed": false
   }
  },
  {
   "cell_type": "code",
   "execution_count": null,
   "outputs": [],
   "source": [
    "input_text = \"Write me a poem about Machine Learning.\"\n",
    "input_ids = tokenizer(input_text, return_tensors=\"pt\").to(\"cuda\")\n",
    "\n",
    "outputs = model.generate(**input_ids, max_length=512)\n",
    "print(tokenizer.decode(outputs[0]))"
   ],
   "metadata": {
    "collapsed": false
   }
  },
  {
   "cell_type": "markdown",
   "source": [
    "Ollama"
   ],
   "metadata": {
    "collapsed": false
   }
  },
  {
   "cell_type": "code",
   "execution_count": null,
   "outputs": [],
   "source": [
    "chat_engine = \"llama3\"\n",
    "model = ollama.pull(chat_engine)\n",
    "response = ollama.chat(model=\"llama3\", messages=[{'role': 'user', 'content': 'Why is the sky blue?'}])\n",
    "print(response)\n",
    "ollama.list()"
   ],
   "metadata": {
    "collapsed": false
   }
  },
  {
   "cell_type": "code",
   "execution_count": 4,
   "outputs": [
    {
     "name": "stdout",
     "output_type": "stream",
     "text": [
      "Files already downloaded and verified\n"
     ]
    }
   ],
   "source": [
    "trainset = torchvision.datasets.CIFAR10(root='./data', train=True,\n",
    "                                        download=True)"
   ],
   "metadata": {
    "collapsed": false,
    "ExecuteTime": {
     "end_time": "2024-07-09T15:05:53.689911800Z",
     "start_time": "2024-07-09T15:05:53.009749900Z"
    }
   }
  },
  {
   "cell_type": "code",
   "execution_count": 5,
   "outputs": [],
   "source": [
    "def fetch_statistics(dict, dataset):\n",
    "    images = dataset.data\n",
    "    labels = dataset.targets\n",
    "\n",
    "    images_np = np.array(images)\n",
    "    labels_np = np.array(labels)\n",
    "\n",
    "    pixel_mean = np.mean(images_np / 255.)\n",
    "    pixel_std = np.std(images_np / 255.)\n",
    "\n",
    "    class_counts = np.bincount(labels_np)\n",
    "    class_distribution = class_counts / len(labels_np)\n",
    "\n",
    "    dict['pixel_mean'] = pixel_mean\n",
    "    dict['pixel_std'] = pixel_std\n",
    "    dict['class_distribution'] = class_distribution.tolist()\n",
    "\n",
    "    return dict\n",
    "\n",
    "\n",
    "task_context = fetch_statistics(task_context, trainset)"
   ],
   "metadata": {
    "collapsed": false,
    "ExecuteTime": {
     "end_time": "2024-07-09T15:05:57.641438700Z",
     "start_time": "2024-07-09T15:05:56.219699800Z"
    }
   }
  },
  {
   "cell_type": "markdown",
   "source": [
    "Warmstart"
   ],
   "metadata": {
    "collapsed": false
   }
  },
  {
   "cell_type": "code",
   "execution_count": 6,
   "outputs": [],
   "source": [
    "config = \"No_Context\"\n",
    "metric = \"acc\"\n",
    "NUM_SEEDS = 10\n",
    "problem_type = ProblemType.clf\n",
    "\n",
    "\n",
    "def extract_configs_from_response(response):\n",
    "    content = response['message']['content']\n",
    "    start = content.find(\"[\")\n",
    "    end = content.rfind(\"]\") + 1\n",
    "    list_str = content[start:end]\n",
    "    configurations = ast.literal_eval(list_str)\n",
    "    return configurations\n",
    "\n",
    "\n",
    "def is_dict_valid_in_config_space(d, config_space):\n",
    "    try:\n",
    "        # Attempt to create a Configuration object with the given dictionary and config space\n",
    "        config = CS.Configuration(config_space, values=d)\n",
    "        return True\n",
    "    except:\n",
    "        # Return False if the dictionary is not valid\n",
    "        return False\n",
    "    # Function to check if all dictionaries in a list are valid in the given configuration space\n",
    "\n",
    "\n",
    "def check_all_list(parsed_dicts, config_space):\n",
    "    for idx, d in enumerate(parsed_dicts):\n",
    "        if not is_dict_valid_in_config_space(d, config_space):\n",
    "            return False\n",
    "    return True\n",
    "\n",
    "\n",
    "def obtain_all_list_valid(resp, config_space):\n",
    "    if check_all_list(resp, config_space):\n",
    "        return resp\n",
    "    print(\"fail\")\n",
    "\n",
    "\n",
    "def generate_init_conf(n_samples):\n",
    "    template_object = FullTemplate(context=config, provide_ranges=True)\n",
    "    input_prompt = template_object.add_context(config_space=cs, num_recommendation=n_samples, task_dict=task_context)\n",
    "    response = ollama.chat(model=\"llama3\", messages=[{'role': 'user', 'content': input_prompt}])\n",
    "    configs = extract_configs_from_response(response)\n",
    "    return obtain_all_list_valid(configs, cs)\n",
    "\n",
    "#print(generate_init_conf(3))"
   ],
   "metadata": {
    "collapsed": false,
    "ExecuteTime": {
     "end_time": "2024-07-09T15:06:02.560722500Z",
     "start_time": "2024-07-09T15:06:02.520807400Z"
    }
   }
  },
  {
   "cell_type": "markdown",
   "source": [
    "Llambo"
   ],
   "metadata": {
    "collapsed": false
   }
  },
  {
   "cell_type": "code",
   "execution_count": 7,
   "outputs": [
    {
     "name": "stdout",
     "output_type": "stream",
     "text": [
      "======================================================================================================================================================\n",
      "[Search settings]: \n",
      "\tn_candidates: 10, n_templates: 2, n_gens: 10, \n",
      "\talpha: 0.1, n_initial_samples: 5, n_trials: 25, \n",
      "\tusing warping: False, ablation: None, shuffle_features: False\n",
      "[Task]: \n",
      "\ttask type: classification, sm: discriminative, lower is better: True\n",
      "Hyperparameter search space: \n",
      "{'op_0_to_1': ['categorical',\n",
      "               None,\n",
      "               ['none',\n",
      "                'skip_connect',\n",
      "                'avg_pool_3x3',\n",
      "                'nor_conv_1x1',\n",
      "                'nor_conv_3x3']],\n",
      " 'op_0_to_2': ['categorical',\n",
      "               None,\n",
      "               ['none',\n",
      "                'skip_connect',\n",
      "                'avg_pool_3x3',\n",
      "                'nor_conv_1x1',\n",
      "                'nor_conv_3x3']],\n",
      " 'op_0_to_3': ['categorical',\n",
      "               None,\n",
      "               ['none',\n",
      "                'skip_connect',\n",
      "                'avg_pool_3x3',\n",
      "                'nor_conv_1x1',\n",
      "                'nor_conv_3x3']],\n",
      " 'op_1_to_2': ['categorical',\n",
      "               None,\n",
      "               ['none',\n",
      "                'skip_connect',\n",
      "                'avg_pool_3x3',\n",
      "                'nor_conv_1x1',\n",
      "                'nor_conv_3x3']],\n",
      " 'op_1_to_3': ['categorical',\n",
      "               None,\n",
      "               ['none',\n",
      "                'skip_connect',\n",
      "                'avg_pool_3x3',\n",
      "                'nor_conv_1x1',\n",
      "                'nor_conv_3x3']],\n",
      " 'op_2_to_3': ['categorical',\n",
      "               None,\n",
      "               ['none',\n",
      "                'skip_connect',\n",
      "                'avg_pool_3x3',\n",
      "                'nor_conv_1x1',\n",
      "                'nor_conv_3x3']]}\n",
      "======================================================================================================================================================\n",
      "[Initialization] COMPLETED: 5 points evaluated...\n",
      "[Initialization] COMPLETED: best fval: 8.0650, best generalization fval: 8.0650\n",
      "======================================================================================================================================================\n",
      "Adjusted alpha: 0.1 | [original alpha: 0.1], desired fval: 6.438000\n"
     ]
    },
    {
     "ename": "ValueError",
     "evalue": "Unknown format code 'f' for object of type 'str'",
     "output_type": "error",
     "traceback": [
      "\u001B[1;31m---------------------------------------------------------------------------\u001B[0m",
      "\u001B[1;31mValueError\u001B[0m                                Traceback (most recent call last)",
      "Cell \u001B[1;32mIn[7], line 9\u001B[0m\n\u001B[0;32m      6\u001B[0m llambo\u001B[38;5;241m.\u001B[39mseed \u001B[38;5;241m=\u001B[39m \u001B[38;5;241m0\u001B[39m\n\u001B[0;32m      8\u001B[0m \u001B[38;5;66;03m# run optimization\u001B[39;00m\n\u001B[1;32m----> 9\u001B[0m configs, fvals \u001B[38;5;241m=\u001B[39m \u001B[43mllambo\u001B[49m\u001B[38;5;241;43m.\u001B[39;49m\u001B[43moptimize\u001B[49m\u001B[43m(\u001B[49m\u001B[43mtest_metric\u001B[49m\u001B[38;5;241;43m=\u001B[39;49m\u001B[38;5;124;43m\"\u001B[39;49m\u001B[38;5;124;43mscore\u001B[39;49m\u001B[38;5;124;43m\"\u001B[39;49m\u001B[43m)\u001B[49m\n",
      "File \u001B[1;32m~\\Desktop\\DLLab\\DeepLearningLab\\llambo\\llambo.py:170\u001B[0m, in \u001B[0;36mLLAMBO.optimize\u001B[1;34m(self, test_metric)\u001B[0m\n\u001B[0;32m    168\u001B[0m start_time \u001B[38;5;241m=\u001B[39m time\u001B[38;5;241m.\u001B[39mtime()\n\u001B[0;32m    169\u001B[0m \u001B[38;5;66;03m# get candidate point\u001B[39;00m\n\u001B[1;32m--> 170\u001B[0m candidate_points, cost, time_taken \u001B[38;5;241m=\u001B[39m \u001B[38;5;28;43mself\u001B[39;49m\u001B[38;5;241;43m.\u001B[39;49m\u001B[43macq_func\u001B[49m\u001B[38;5;241;43m.\u001B[39;49m\u001B[43mget_candidate_points\u001B[49m\u001B[43m(\u001B[49m\u001B[38;5;28;43mself\u001B[39;49m\u001B[38;5;241;43m.\u001B[39;49m\u001B[43mobserved_configs\u001B[49m\u001B[43m,\u001B[49m\n\u001B[0;32m    171\u001B[0m \u001B[43m                                                                        \u001B[49m\u001B[38;5;28;43mself\u001B[39;49m\u001B[38;5;241;43m.\u001B[39;49m\u001B[43mobserved_fvals\u001B[49m\u001B[43m[\u001B[49m\u001B[43m[\u001B[49m\u001B[38;5;124;43m'\u001B[39;49m\u001B[38;5;124;43mscore\u001B[39;49m\u001B[38;5;124;43m'\u001B[39;49m\u001B[43m]\u001B[49m\u001B[43m]\u001B[49m\u001B[43m,\u001B[49m\n\u001B[0;32m    172\u001B[0m \u001B[43m                                                                        \u001B[49m\u001B[43malpha\u001B[49m\u001B[38;5;241;43m=\u001B[39;49m\u001B[38;5;28;43mself\u001B[39;49m\u001B[38;5;241;43m.\u001B[39;49m\u001B[43malpha\u001B[49m\u001B[43m)\u001B[49m\n\u001B[0;32m    173\u001B[0m trial_cost \u001B[38;5;241m+\u001B[39m\u001B[38;5;241m=\u001B[39m cost\n\u001B[0;32m    174\u001B[0m trial_query_time \u001B[38;5;241m+\u001B[39m\u001B[38;5;241m=\u001B[39m time_taken\n",
      "File \u001B[1;32m~\\Desktop\\DLLab\\DeepLearningLab\\llambo\\acquisition_function.py:466\u001B[0m, in \u001B[0;36mLLM_ACQ.get_candidate_points\u001B[1;34m(self, observed_configs, observed_fvals, use_feature_semantics, use_context, alpha)\u001B[0m\n\u001B[0;32m    463\u001B[0m \u001B[38;5;28;01mif\u001B[39;00m \u001B[38;5;28mself\u001B[39m\u001B[38;5;241m.\u001B[39mwarping_transformer \u001B[38;5;129;01mis\u001B[39;00m \u001B[38;5;129;01mnot\u001B[39;00m \u001B[38;5;28;01mNone\u001B[39;00m:\n\u001B[0;32m    464\u001B[0m     observed_configs \u001B[38;5;241m=\u001B[39m \u001B[38;5;28mself\u001B[39m\u001B[38;5;241m.\u001B[39mwarping_transformer\u001B[38;5;241m.\u001B[39mwarp(observed_configs)\n\u001B[1;32m--> 466\u001B[0m prompt_templates, query_templates \u001B[38;5;241m=\u001B[39m \u001B[38;5;28;43mself\u001B[39;49m\u001B[38;5;241;43m.\u001B[39;49m\u001B[43m_gen_prompt_tempates_acquisitions\u001B[49m\u001B[43m(\u001B[49m\u001B[43mobserved_configs\u001B[49m\u001B[43m,\u001B[49m\u001B[43m \u001B[49m\u001B[43mobserved_fvals\u001B[49m\u001B[43m,\u001B[49m\u001B[43m \u001B[49m\u001B[43mdesired_fval\u001B[49m\u001B[43m,\u001B[49m\u001B[43m \u001B[49m\u001B[43mn_prompts\u001B[49m\u001B[38;5;241;43m=\u001B[39;49m\u001B[38;5;28;43mself\u001B[39;49m\u001B[38;5;241;43m.\u001B[39;49m\u001B[43mn_templates\u001B[49m\u001B[43m,\u001B[49m\u001B[43m \u001B[49m\u001B[43muse_context\u001B[49m\u001B[38;5;241;43m=\u001B[39;49m\u001B[43muse_context\u001B[49m\u001B[43m,\u001B[49m\u001B[43m \u001B[49m\u001B[43muse_feature_semantics\u001B[49m\u001B[38;5;241;43m=\u001B[39;49m\u001B[43muse_feature_semantics\u001B[49m\u001B[43m,\u001B[49m\u001B[43m \u001B[49m\u001B[43mshuffle_features\u001B[49m\u001B[38;5;241;43m=\u001B[39;49m\u001B[38;5;28;43mself\u001B[39;49m\u001B[38;5;241;43m.\u001B[39;49m\u001B[43mshuffle_features\u001B[49m\u001B[43m)\u001B[49m\n\u001B[0;32m    468\u001B[0m \u001B[38;5;28mprint\u001B[39m(\u001B[38;5;124m'\u001B[39m\u001B[38;5;124m=\u001B[39m\u001B[38;5;124m'\u001B[39m\u001B[38;5;241m*\u001B[39m\u001B[38;5;241m100\u001B[39m)\n\u001B[0;32m    469\u001B[0m \u001B[38;5;28mprint\u001B[39m(\u001B[38;5;124m'\u001B[39m\u001B[38;5;124mEXAMPLE ACQUISITION PROMPT\u001B[39m\u001B[38;5;124m'\u001B[39m)\n",
      "File \u001B[1;32m~\\Desktop\\DLLab\\DeepLearningLab\\llambo\\acquisition_function.py:176\u001B[0m, in \u001B[0;36mLLM_ACQ._gen_prompt_tempates_acquisitions\u001B[1;34m(self, observed_configs, observed_fvals, desired_fval, n_prompts, use_context, use_feature_semantics, shuffle_features)\u001B[0m\n\u001B[0;32m    173\u001B[0m all_query_templates \u001B[38;5;241m=\u001B[39m []\n\u001B[0;32m    175\u001B[0m \u001B[38;5;28;01mfor\u001B[39;00m i \u001B[38;5;129;01min\u001B[39;00m \u001B[38;5;28mrange\u001B[39m(n_prompts):\n\u001B[1;32m--> 176\u001B[0m     few_shot_examples \u001B[38;5;241m=\u001B[39m \u001B[38;5;28;43mself\u001B[39;49m\u001B[38;5;241;43m.\u001B[39;49m\u001B[43m_prepare_configurations_acquisition\u001B[49m\u001B[43m(\u001B[49m\u001B[43mobserved_configs\u001B[49m\u001B[43m,\u001B[49m\u001B[43m \u001B[49m\u001B[43mobserved_fvals\u001B[49m\u001B[43m,\u001B[49m\u001B[43mseed\u001B[49m\u001B[38;5;241;43m=\u001B[39;49m\u001B[43mi\u001B[49m\u001B[43m,\u001B[49m\u001B[43m \u001B[49m\u001B[43muse_feature_semantics\u001B[49m\u001B[38;5;241;43m=\u001B[39;49m\u001B[43muse_feature_semantics\u001B[49m\u001B[43m)\u001B[49m           \u001B[38;5;66;03m# need to update seed?\u001B[39;00m\n\u001B[0;32m    177\u001B[0m     jittered_desired_fval \u001B[38;5;241m=\u001B[39m \u001B[38;5;28mself\u001B[39m\u001B[38;5;241m.\u001B[39m_jitter(desired_fval)\n\u001B[0;32m    179\u001B[0m     \u001B[38;5;66;03m# contextual information about the task\u001B[39;00m\n",
      "File \u001B[1;32m~\\Desktop\\DLLab\\DeepLearningLab\\llambo\\acquisition_function.py:124\u001B[0m, in \u001B[0;36mLLM_ACQ._prepare_configurations_acquisition\u001B[1;34m(self, observed_configs, observed_fvals, seed, use_feature_semantics, shuffle_features)\u001B[0m\n\u001B[0;32m    122\u001B[0m \u001B[38;5;28;01melse\u001B[39;00m:\n\u001B[0;32m    123\u001B[0m     lower_bound \u001B[38;5;241m=\u001B[39m \u001B[38;5;28mself\u001B[39m\u001B[38;5;241m.\u001B[39mtask_context[\u001B[38;5;124m'\u001B[39m\u001B[38;5;124mhyperparameter_constraints\u001B[39m\u001B[38;5;124m'\u001B[39m][hyperparameter_names[i]][\u001B[38;5;241m2\u001B[39m][\u001B[38;5;241m1\u001B[39m]\n\u001B[1;32m--> 124\u001B[0m n_dp \u001B[38;5;241m=\u001B[39m \u001B[38;5;28;43mself\u001B[39;49m\u001B[38;5;241;43m.\u001B[39;49m\u001B[43m_count_decimal_places\u001B[49m\u001B[43m(\u001B[49m\u001B[43mlower_bound\u001B[49m\u001B[43m)\u001B[49m\n\u001B[0;32m    125\u001B[0m value \u001B[38;5;241m=\u001B[39m row[i]\n\u001B[0;32m    126\u001B[0m \u001B[38;5;28;01mif\u001B[39;00m \u001B[38;5;28mself\u001B[39m\u001B[38;5;241m.\u001B[39mapply_warping:\n",
      "File \u001B[1;32m~\\Desktop\\DLLab\\DeepLearningLab\\llambo\\acquisition_function.py:67\u001B[0m, in \u001B[0;36mLLM_ACQ._count_decimal_places\u001B[1;34m(self, n)\u001B[0m\n\u001B[0;32m     65\u001B[0m \u001B[38;5;28;01mdef\u001B[39;00m \u001B[38;5;21m_count_decimal_places\u001B[39m(\u001B[38;5;28mself\u001B[39m, n):\n\u001B[0;32m     66\u001B[0m \u001B[38;5;250m    \u001B[39m\u001B[38;5;124;03m'''Count the number of decimal places in a number.'''\u001B[39;00m\n\u001B[1;32m---> 67\u001B[0m     s \u001B[38;5;241m=\u001B[39m \u001B[38;5;28;43mformat\u001B[39;49m\u001B[43m(\u001B[49m\u001B[43mn\u001B[49m\u001B[43m,\u001B[49m\u001B[43m \u001B[49m\u001B[38;5;124;43m'\u001B[39;49m\u001B[38;5;124;43m.10f\u001B[39;49m\u001B[38;5;124;43m'\u001B[39;49m\u001B[43m)\u001B[49m\n\u001B[0;32m     68\u001B[0m     \u001B[38;5;28;01mif\u001B[39;00m \u001B[38;5;124m'\u001B[39m\u001B[38;5;124m.\u001B[39m\u001B[38;5;124m'\u001B[39m \u001B[38;5;129;01mnot\u001B[39;00m \u001B[38;5;129;01min\u001B[39;00m s:\n\u001B[0;32m     69\u001B[0m         \u001B[38;5;28;01mreturn\u001B[39;00m \u001B[38;5;241m0\u001B[39m\n",
      "\u001B[1;31mValueError\u001B[0m: Unknown format code 'f' for object of type 'str'"
     ]
    }
   ],
   "source": [
    "llambo = LLAMBO(task_context, sm_mode='discriminative', n_candidates=10, n_templates=2, n_gens=10,\n",
    "                alpha=0.1, n_initial_samples=5, n_trials=25,\n",
    "                init_f=generate_init_conf,\n",
    "                bbox_eval_f=eval_point,\n",
    "                chat_engine=\"llama3\")\n",
    "llambo.seed = 0\n",
    "\n",
    "# run optimization\n",
    "configs, fvals = llambo.optimize(test_metric=\"score\")"
   ],
   "metadata": {
    "collapsed": false,
    "ExecuteTime": {
     "end_time": "2024-07-09T15:06:38.154629200Z",
     "start_time": "2024-07-09T15:06:09.091551800Z"
    }
   }
  },
  {
   "cell_type": "code",
   "execution_count": null,
   "outputs": [],
   "source": [],
   "metadata": {
    "collapsed": false
   }
  }
 ],
 "metadata": {
  "kernelspec": {
   "display_name": "Python 3",
   "language": "python",
   "name": "python3"
  },
  "language_info": {
   "codemirror_mode": {
    "name": "ipython",
    "version": 2
   },
   "file_extension": ".py",
   "mimetype": "text/x-python",
   "name": "python",
   "nbconvert_exporter": "python",
   "pygments_lexer": "ipython2",
   "version": "2.7.6"
  }
 },
 "nbformat": 4,
 "nbformat_minor": 0
}
